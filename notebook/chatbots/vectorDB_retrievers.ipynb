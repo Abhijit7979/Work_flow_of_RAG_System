{
 "cells": [
  {
   "cell_type": "markdown",
   "id": "9989b2de",
   "metadata": {},
   "source": [
    "### Vector stores and retrievers\n",
    "\n",
    "This video tutorial will familiarize you with langchain's vector store and retriever abstractions. These abstractions are designed to support retrieval of data-- from (vector) databases and other sources -- for intergration with llm workflows. They are important for applications that fetch data to be reasoned over as part of model inference, as in the case of retrieval-augmented generation.\n",
    "\n",
    "we will cover\n",
    "\n",
    " - Documents \n",
    " - vector stores \n",
    " - retriever \n",
    " "
   ]
  },
  {
   "cell_type": "code",
   "execution_count": null,
   "id": "84229070",
   "metadata": {},
   "outputs": [],
   "source": [
    "from lanf"
   ]
  }
 ],
 "metadata": {
  "kernelspec": {
   "display_name": "Python 3",
   "language": "python",
   "name": "python3"
  },
  "language_info": {
   "name": "python",
   "version": "3.10.0"
  }
 },
 "nbformat": 4,
 "nbformat_minor": 5
}
