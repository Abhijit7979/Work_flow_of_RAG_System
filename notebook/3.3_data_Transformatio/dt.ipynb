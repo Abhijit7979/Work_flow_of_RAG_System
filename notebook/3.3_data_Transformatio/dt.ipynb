{
 "cells": [
  {
   "cell_type": "markdown",
   "id": "6a082884",
   "metadata": {},
   "source": [
    "### Text Splitting from Documents - RecursiveCharacter Text Splitters\n",
    "\n",
    "This text splitter is the recommended one for generic text. it is parameterized by a list of characters. it trieto split on them in order until the chunks are small enough.The default list is[\"\\n\\n\",\"\\n\",\" \",\"\"]. This has the effect of typing to keep all paragraphs (and then sentences, and then words) together as long as possible, as those would generically seem to be the semantically related pieces of text.\n",
    "\n",
    "- How the text is split: by list of characters.\n",
    "- How the chunk size is measured: by number of characters."
   ]
  },
  {
   "cell_type": "code",
   "execution_count": 21,
   "id": "d9ad959a",
   "metadata": {},
   "outputs": [],
   "source": [
    "from langchain_community.document_loaders import PyMuPDFLoader,TextLoader\n",
    "from rich import print\n",
    "loader=PyMuPDFLoader('../3.2-dataIngestion/attention.pdf')"
   ]
  },
  {
   "cell_type": "code",
   "execution_count": 18,
   "id": "c6235b42",
   "metadata": {},
   "outputs": [],
   "source": [
    "loaderText=TextLoader(\"../3.2-dataIngestion/speech.txt\")\n",
    "docs_text=loaderText.load()"
   ]
  },
  {
   "cell_type": "code",
   "execution_count": 7,
   "id": "a552c056",
   "metadata": {},
   "outputs": [
    {
     "data": {
      "text/plain": [
       "list"
      ]
     },
     "execution_count": 7,
     "metadata": {},
     "output_type": "execute_result"
    }
   ],
   "source": [
    "docs=loader.load()\n",
    "type(docs)"
   ]
  },
  {
   "cell_type": "markdown",
   "id": "a386801c",
   "metadata": {},
   "source": [
    "### how to recursively split text by characters"
   ]
  },
  {
   "cell_type": "code",
   "execution_count": 11,
   "id": "7a70f42d",
   "metadata": {},
   "outputs": [
    {
     "data": {
      "text/plain": [
       "94"
      ]
     },
     "execution_count": 11,
     "metadata": {},
     "output_type": "execute_result"
    }
   ],
   "source": [
    "from langchain_text_splitters import RecursiveCharacterTextSplitter\n",
    "\n",
    "text_splitter=RecursiveCharacterTextSplitter(chunk_size=500,chunk_overlap=50)\n",
    "\n",
    "final_doc=text_splitter.split_documents(docs)\n",
    "len(final_doc)"
   ]
  },
  {
   "cell_type": "code",
   "execution_count": 22,
   "id": "667afdf6",
   "metadata": {},
   "outputs": [
    {
     "data": {
      "text/html": [
       "<pre style=\"white-space:pre;overflow-x:auto;line-height:normal;font-family:Menlo,'DejaVu Sans Mono',consolas,'Courier New',monospace\"><span style=\"color: #800080; text-decoration-color: #800080; font-weight: bold\">Document</span><span style=\"font-weight: bold\">(</span>\n",
       "    <span style=\"color: #808000; text-decoration-color: #808000\">metadata</span>=<span style=\"font-weight: bold\">{</span>\n",
       "        <span style=\"color: #008000; text-decoration-color: #008000\">'producer'</span>: <span style=\"color: #008000; text-decoration-color: #008000\">'pdfTeX-1.40.25'</span>,\n",
       "        <span style=\"color: #008000; text-decoration-color: #008000\">'creator'</span>: <span style=\"color: #008000; text-decoration-color: #008000\">'LaTeX with hyperref'</span>,\n",
       "        <span style=\"color: #008000; text-decoration-color: #008000\">'creationdate'</span>: <span style=\"color: #008000; text-decoration-color: #008000\">'2023-08-03T00:07:29+00:00'</span>,\n",
       "        <span style=\"color: #008000; text-decoration-color: #008000\">'source'</span>: <span style=\"color: #008000; text-decoration-color: #008000\">'../3.2-dataIngestion/attention.pdf'</span>,\n",
       "        <span style=\"color: #008000; text-decoration-color: #008000\">'file_path'</span>: <span style=\"color: #008000; text-decoration-color: #008000\">'../3.2-dataIngestion/attention.pdf'</span>,\n",
       "        <span style=\"color: #008000; text-decoration-color: #008000\">'total_pages'</span>: <span style=\"color: #008080; text-decoration-color: #008080; font-weight: bold\">15</span>,\n",
       "        <span style=\"color: #008000; text-decoration-color: #008000\">'format'</span>: <span style=\"color: #008000; text-decoration-color: #008000\">'PDF 1.5'</span>,\n",
       "        <span style=\"color: #008000; text-decoration-color: #008000\">'title'</span>: <span style=\"color: #008000; text-decoration-color: #008000\">''</span>,\n",
       "        <span style=\"color: #008000; text-decoration-color: #008000\">'author'</span>: <span style=\"color: #008000; text-decoration-color: #008000\">''</span>,\n",
       "        <span style=\"color: #008000; text-decoration-color: #008000\">'subject'</span>: <span style=\"color: #008000; text-decoration-color: #008000\">''</span>,\n",
       "        <span style=\"color: #008000; text-decoration-color: #008000\">'keywords'</span>: <span style=\"color: #008000; text-decoration-color: #008000\">''</span>,\n",
       "        <span style=\"color: #008000; text-decoration-color: #008000\">'moddate'</span>: <span style=\"color: #008000; text-decoration-color: #008000\">'2023-08-03T00:07:29+00:00'</span>,\n",
       "        <span style=\"color: #008000; text-decoration-color: #008000\">'trapped'</span>: <span style=\"color: #008000; text-decoration-color: #008000\">''</span>,\n",
       "        <span style=\"color: #008000; text-decoration-color: #008000\">'modDate'</span>: <span style=\"color: #008000; text-decoration-color: #008000\">'D:20230803000729Z'</span>,\n",
       "        <span style=\"color: #008000; text-decoration-color: #008000\">'creationDate'</span>: <span style=\"color: #008000; text-decoration-color: #008000\">'D:20230803000729Z'</span>,\n",
       "        <span style=\"color: #008000; text-decoration-color: #008000\">'page'</span>: <span style=\"color: #008080; text-decoration-color: #008080; font-weight: bold\">0</span>\n",
       "    <span style=\"font-weight: bold\">}</span>,\n",
       "    <span style=\"color: #808000; text-decoration-color: #808000\">page_content</span>=<span style=\"color: #008000; text-decoration-color: #008000\">'Provided proper attribution is provided, Google hereby grants permission to\\nreproduce the tables</span>\n",
       "<span style=\"color: #008000; text-decoration-color: #008000\">and figures in this paper solely for use in journalistic or\\nscholarly works.\\nAttention Is All You Need\\nAshish </span>\n",
       "<span style=\"color: #008000; text-decoration-color: #008000\">Vaswani∗\\nGoogle Brain\\navaswani@google.com\\nNoam Shazeer∗\\nGoogle Brain\\nnoam@google.com\\nNiki Parmar∗\\nGoogle </span>\n",
       "<span style=\"color: #008000; text-decoration-color: #008000\">Research\\nnikip@google.com\\nJakob Uszkoreit∗\\nGoogle Research\\nusz@google.com\\nLlion Jones∗\\nGoogle </span>\n",
       "<span style=\"color: #008000; text-decoration-color: #008000\">Research\\nllion@google.com\\nAidan N. Gomez∗†\\nUniversity of Toronto\\naidan@cs.toronto.edu'</span>\n",
       "<span style=\"font-weight: bold\">)</span>\n",
       "</pre>\n"
      ],
      "text/plain": [
       "\u001b[1;35mDocument\u001b[0m\u001b[1m(\u001b[0m\n",
       "    \u001b[33mmetadata\u001b[0m=\u001b[1m{\u001b[0m\n",
       "        \u001b[32m'producer'\u001b[0m: \u001b[32m'pdfTeX-1.40.25'\u001b[0m,\n",
       "        \u001b[32m'creator'\u001b[0m: \u001b[32m'LaTeX with hyperref'\u001b[0m,\n",
       "        \u001b[32m'creationdate'\u001b[0m: \u001b[32m'2023-08-03T00:07:29+00:00'\u001b[0m,\n",
       "        \u001b[32m'source'\u001b[0m: \u001b[32m'../3.2-dataIngestion/attention.pdf'\u001b[0m,\n",
       "        \u001b[32m'file_path'\u001b[0m: \u001b[32m'../3.2-dataIngestion/attention.pdf'\u001b[0m,\n",
       "        \u001b[32m'total_pages'\u001b[0m: \u001b[1;36m15\u001b[0m,\n",
       "        \u001b[32m'format'\u001b[0m: \u001b[32m'PDF 1.5'\u001b[0m,\n",
       "        \u001b[32m'title'\u001b[0m: \u001b[32m''\u001b[0m,\n",
       "        \u001b[32m'author'\u001b[0m: \u001b[32m''\u001b[0m,\n",
       "        \u001b[32m'subject'\u001b[0m: \u001b[32m''\u001b[0m,\n",
       "        \u001b[32m'keywords'\u001b[0m: \u001b[32m''\u001b[0m,\n",
       "        \u001b[32m'moddate'\u001b[0m: \u001b[32m'2023-08-03T00:07:29+00:00'\u001b[0m,\n",
       "        \u001b[32m'trapped'\u001b[0m: \u001b[32m''\u001b[0m,\n",
       "        \u001b[32m'modDate'\u001b[0m: \u001b[32m'D:20230803000729Z'\u001b[0m,\n",
       "        \u001b[32m'creationDate'\u001b[0m: \u001b[32m'D:20230803000729Z'\u001b[0m,\n",
       "        \u001b[32m'page'\u001b[0m: \u001b[1;36m0\u001b[0m\n",
       "    \u001b[1m}\u001b[0m,\n",
       "    \u001b[33mpage_content\u001b[0m=\u001b[32m'Provided proper attribution is provided, Google hereby grants permission to\\nreproduce the tables\u001b[0m\n",
       "\u001b[32mand figures in this paper solely for use in journalistic or\\nscholarly works.\\nAttention Is All You Need\\nAshish \u001b[0m\n",
       "\u001b[32mVaswani∗\\nGoogle Brain\\navaswani@google.com\\nNoam Shazeer∗\\nGoogle Brain\\nnoam@google.com\\nNiki Parmar∗\\nGoogle \u001b[0m\n",
       "\u001b[32mResearch\\nnikip@google.com\\nJakob Uszkoreit∗\\nGoogle Research\\nusz@google.com\\nLlion Jones∗\\nGoogle \u001b[0m\n",
       "\u001b[32mResearch\\nllion@google.com\\nAidan N. Gomez∗†\\nUniversity of Toronto\\naidan@cs.toronto.edu'\u001b[0m\n",
       "\u001b[1m)\u001b[0m\n"
      ]
     },
     "metadata": {},
     "output_type": "display_data"
    },
    {
     "data": {
      "text/html": [
       "<pre style=\"white-space:pre;overflow-x:auto;line-height:normal;font-family:Menlo,'DejaVu Sans Mono',consolas,'Courier New',monospace\">=============================\n",
       "</pre>\n"
      ],
      "text/plain": [
       "=============================\n"
      ]
     },
     "metadata": {},
     "output_type": "display_data"
    },
    {
     "data": {
      "text/html": [
       "<pre style=\"white-space:pre;overflow-x:auto;line-height:normal;font-family:Menlo,'DejaVu Sans Mono',consolas,'Courier New',monospace\"><span style=\"color: #800080; text-decoration-color: #800080; font-weight: bold\">Document</span><span style=\"font-weight: bold\">(</span>\n",
       "    <span style=\"color: #808000; text-decoration-color: #808000\">metadata</span>=<span style=\"font-weight: bold\">{</span>\n",
       "        <span style=\"color: #008000; text-decoration-color: #008000\">'producer'</span>: <span style=\"color: #008000; text-decoration-color: #008000\">'pdfTeX-1.40.25'</span>,\n",
       "        <span style=\"color: #008000; text-decoration-color: #008000\">'creator'</span>: <span style=\"color: #008000; text-decoration-color: #008000\">'LaTeX with hyperref'</span>,\n",
       "        <span style=\"color: #008000; text-decoration-color: #008000\">'creationdate'</span>: <span style=\"color: #008000; text-decoration-color: #008000\">'2023-08-03T00:07:29+00:00'</span>,\n",
       "        <span style=\"color: #008000; text-decoration-color: #008000\">'source'</span>: <span style=\"color: #008000; text-decoration-color: #008000\">'../3.2-dataIngestion/attention.pdf'</span>,\n",
       "        <span style=\"color: #008000; text-decoration-color: #008000\">'file_path'</span>: <span style=\"color: #008000; text-decoration-color: #008000\">'../3.2-dataIngestion/attention.pdf'</span>,\n",
       "        <span style=\"color: #008000; text-decoration-color: #008000\">'total_pages'</span>: <span style=\"color: #008080; text-decoration-color: #008080; font-weight: bold\">15</span>,\n",
       "        <span style=\"color: #008000; text-decoration-color: #008000\">'format'</span>: <span style=\"color: #008000; text-decoration-color: #008000\">'PDF 1.5'</span>,\n",
       "        <span style=\"color: #008000; text-decoration-color: #008000\">'title'</span>: <span style=\"color: #008000; text-decoration-color: #008000\">''</span>,\n",
       "        <span style=\"color: #008000; text-decoration-color: #008000\">'author'</span>: <span style=\"color: #008000; text-decoration-color: #008000\">''</span>,\n",
       "        <span style=\"color: #008000; text-decoration-color: #008000\">'subject'</span>: <span style=\"color: #008000; text-decoration-color: #008000\">''</span>,\n",
       "        <span style=\"color: #008000; text-decoration-color: #008000\">'keywords'</span>: <span style=\"color: #008000; text-decoration-color: #008000\">''</span>,\n",
       "        <span style=\"color: #008000; text-decoration-color: #008000\">'moddate'</span>: <span style=\"color: #008000; text-decoration-color: #008000\">'2023-08-03T00:07:29+00:00'</span>,\n",
       "        <span style=\"color: #008000; text-decoration-color: #008000\">'trapped'</span>: <span style=\"color: #008000; text-decoration-color: #008000\">''</span>,\n",
       "        <span style=\"color: #008000; text-decoration-color: #008000\">'modDate'</span>: <span style=\"color: #008000; text-decoration-color: #008000\">'D:20230803000729Z'</span>,\n",
       "        <span style=\"color: #008000; text-decoration-color: #008000\">'creationDate'</span>: <span style=\"color: #008000; text-decoration-color: #008000\">'D:20230803000729Z'</span>,\n",
       "        <span style=\"color: #008000; text-decoration-color: #008000\">'page'</span>: <span style=\"color: #008080; text-decoration-color: #008080; font-weight: bold\">0</span>\n",
       "    <span style=\"font-weight: bold\">}</span>,\n",
       "    <span style=\"color: #808000; text-decoration-color: #808000\">page_content</span>=<span style=\"color: #008000; text-decoration-color: #008000\">'University of Toronto\\naidan@cs.toronto.edu\\nŁukasz Kaiser∗\\nGoogle </span>\n",
       "<span style=\"color: #008000; text-decoration-color: #008000\">Brain\\nlukaszkaiser@google.com\\nIllia Polosukhin∗‡\\nillia.polosukhin@gmail.com\\nAbstract\\nThe dominant sequence </span>\n",
       "<span style=\"color: #008000; text-decoration-color: #008000\">transduction models are based on complex recurrent or\\nconvolutional neural networks that include an encoder and a </span>\n",
       "<span style=\"color: #008000; text-decoration-color: #008000\">decoder. The best\\nperforming models also connect the encoder and decoder through an attention\\nmechanism. We </span>\n",
       "<span style=\"color: #008000; text-decoration-color: #008000\">propose a new simple network architecture, the Transformer,'</span>\n",
       "<span style=\"font-weight: bold\">)</span>\n",
       "</pre>\n"
      ],
      "text/plain": [
       "\u001b[1;35mDocument\u001b[0m\u001b[1m(\u001b[0m\n",
       "    \u001b[33mmetadata\u001b[0m=\u001b[1m{\u001b[0m\n",
       "        \u001b[32m'producer'\u001b[0m: \u001b[32m'pdfTeX-1.40.25'\u001b[0m,\n",
       "        \u001b[32m'creator'\u001b[0m: \u001b[32m'LaTeX with hyperref'\u001b[0m,\n",
       "        \u001b[32m'creationdate'\u001b[0m: \u001b[32m'2023-08-03T00:07:29+00:00'\u001b[0m,\n",
       "        \u001b[32m'source'\u001b[0m: \u001b[32m'../3.2-dataIngestion/attention.pdf'\u001b[0m,\n",
       "        \u001b[32m'file_path'\u001b[0m: \u001b[32m'../3.2-dataIngestion/attention.pdf'\u001b[0m,\n",
       "        \u001b[32m'total_pages'\u001b[0m: \u001b[1;36m15\u001b[0m,\n",
       "        \u001b[32m'format'\u001b[0m: \u001b[32m'PDF 1.5'\u001b[0m,\n",
       "        \u001b[32m'title'\u001b[0m: \u001b[32m''\u001b[0m,\n",
       "        \u001b[32m'author'\u001b[0m: \u001b[32m''\u001b[0m,\n",
       "        \u001b[32m'subject'\u001b[0m: \u001b[32m''\u001b[0m,\n",
       "        \u001b[32m'keywords'\u001b[0m: \u001b[32m''\u001b[0m,\n",
       "        \u001b[32m'moddate'\u001b[0m: \u001b[32m'2023-08-03T00:07:29+00:00'\u001b[0m,\n",
       "        \u001b[32m'trapped'\u001b[0m: \u001b[32m''\u001b[0m,\n",
       "        \u001b[32m'modDate'\u001b[0m: \u001b[32m'D:20230803000729Z'\u001b[0m,\n",
       "        \u001b[32m'creationDate'\u001b[0m: \u001b[32m'D:20230803000729Z'\u001b[0m,\n",
       "        \u001b[32m'page'\u001b[0m: \u001b[1;36m0\u001b[0m\n",
       "    \u001b[1m}\u001b[0m,\n",
       "    \u001b[33mpage_content\u001b[0m=\u001b[32m'University of Toronto\\naidan@cs.toronto.edu\\nŁukasz Kaiser∗\\nGoogle \u001b[0m\n",
       "\u001b[32mBrain\\nlukaszkaiser@google.com\\nIllia Polosukhin∗‡\\nillia.polosukhin@gmail.com\\nAbstract\\nThe dominant sequence \u001b[0m\n",
       "\u001b[32mtransduction models are based on complex recurrent or\\nconvolutional neural networks that include an encoder and a \u001b[0m\n",
       "\u001b[32mdecoder. The best\\nperforming models also connect the encoder and decoder through an attention\\nmechanism. We \u001b[0m\n",
       "\u001b[32mpropose a new simple network architecture, the Transformer,'\u001b[0m\n",
       "\u001b[1m)\u001b[0m\n"
      ]
     },
     "metadata": {},
     "output_type": "display_data"
    }
   ],
   "source": [
    "print(final_doc[0])\n",
    "print(\"=============================\")\n",
    "print(final_doc[1])    "
   ]
  },
  {
   "cell_type": "code",
   "execution_count": 23,
   "id": "bba6c9b1",
   "metadata": {},
   "outputs": [
    {
     "data": {
      "text/html": [
       "<pre style=\"white-space:pre;overflow-x:auto;line-height:normal;font-family:Menlo,'DejaVu Sans Mono',consolas,'Courier New',monospace\"><span style=\"font-weight: bold\">[</span>\n",
       "    <span style=\"color: #800080; text-decoration-color: #800080; font-weight: bold\">Document</span><span style=\"font-weight: bold\">(</span>\n",
       "        <span style=\"color: #808000; text-decoration-color: #808000\">metadata</span>=<span style=\"font-weight: bold\">{</span><span style=\"color: #008000; text-decoration-color: #008000\">'source'</span>: <span style=\"color: #008000; text-decoration-color: #008000\">'../3.2-dataIngestion/speech.txt'</span><span style=\"font-weight: bold\">}</span>,\n",
       "        <span style=\"color: #808000; text-decoration-color: #808000\">page_content</span>=<span style=\"color: #008000; text-decoration-color: #008000\">'The world must be made safe for democracy. Its peace must be planted upon the tested </span>\n",
       "<span style=\"color: #008000; text-decoration-color: #008000\">foundations of political liberty. We have no selfish ends to serve. We desire no conquest, no dominion. We seek no </span>\n",
       "<span style=\"color: #008000; text-decoration-color: #008000\">indemnities for ourselves, no material compensation for the sacrifices we shall freely make. We are but one of the </span>\n",
       "<span style=\"color: #008000; text-decoration-color: #008000\">champions of the rights of mankind. We shall be satisfied when those rights have been made as secure as the faith </span>\n",
       "<span style=\"color: #008000; text-decoration-color: #008000\">and the freedom of nations can make them.\\n\\nJust because we fight without rancor and without selfish object, </span>\n",
       "<span style=\"color: #008000; text-decoration-color: #008000\">seeking nothing for ourselves but what we shall wish to share with all free peoples, we shall, I feel confident, </span>\n",
       "<span style=\"color: #008000; text-decoration-color: #008000\">conduct our operations as belligerents without passion and ourselves observe with proud punctilio the principles of</span>\n",
       "<span style=\"color: #008000; text-decoration-color: #008000\">right and of fair play we profess to be fighting for.\\n\\n…\\n\\nIt will be all the easier for us to conduct ourselves</span>\n",
       "<span style=\"color: #008000; text-decoration-color: #008000\">as belligerents in a high spirit of right and fairness because we act without animus, not in enmity toward a people</span>\n",
       "<span style=\"color: #008000; text-decoration-color: #008000\">or with the desire to bring any injury or disadvantage upon them, but only in armed opposition to an irresponsible </span>\n",
       "<span style=\"color: #008000; text-decoration-color: #008000\">government which has thrown aside all considerations of humanity and of right and is running amuck. We are, let me </span>\n",
       "<span style=\"color: #008000; text-decoration-color: #008000\">say again, the sincere friends of the German people, and shall desire nothing so much as the early reestablishment </span>\n",
       "<span style=\"color: #008000; text-decoration-color: #008000\">of intimate relations of mutual advantage between us—however hard it may be for them, for the time being, to </span>\n",
       "<span style=\"color: #008000; text-decoration-color: #008000\">believe that this is spoken from our hearts.\\n\\nWe have borne with their present government through all these </span>\n",
       "<span style=\"color: #008000; text-decoration-color: #008000\">bitter months because of that friendship—exercising a patience and forbearance which would otherwise have been </span>\n",
       "<span style=\"color: #008000; text-decoration-color: #008000\">impossible. We shall, happily, still have an opportunity to prove that friendship in our daily attitude and actions</span>\n",
       "<span style=\"color: #008000; text-decoration-color: #008000\">toward the millions of men and women of German birth and native sympathy who live among us and share our life, and </span>\n",
       "<span style=\"color: #008000; text-decoration-color: #008000\">we shall be proud to prove it toward all who are in fact loyal to their neighbors and to the government in the hour</span>\n",
       "<span style=\"color: #008000; text-decoration-color: #008000\">of test. They are, most of them, as true and loyal Americans as if they had never known any other fealty or </span>\n",
       "<span style=\"color: #008000; text-decoration-color: #008000\">allegiance. They will be prompt to stand with us in rebuking and restraining the few who may be of a different mind</span>\n",
       "<span style=\"color: #008000; text-decoration-color: #008000\">and purpose. If there should be disloyalty, it will be dealt with with a firm hand of stern repression; but, if it </span>\n",
       "<span style=\"color: #008000; text-decoration-color: #008000\">lifts its head at all, it will lift it only here and there and without countenance except from a lawless and </span>\n",
       "<span style=\"color: #008000; text-decoration-color: #008000\">malignant few.\\n\\nIt is a distressing and oppressive duty, gentlemen of the Congress, which I have performed in </span>\n",
       "<span style=\"color: #008000; text-decoration-color: #008000\">thus addressing you. There are, it may be, many months of fiery trial and sacrifice ahead of us. It is a fearful </span>\n",
       "<span style=\"color: #008000; text-decoration-color: #008000\">thing to lead this great peaceful people into war, into the most terrible and disastrous of all wars, civilization </span>\n",
       "<span style=\"color: #008000; text-decoration-color: #008000\">itself seeming to be in the balance. But the right is more precious than peace, and we shall fight for the things </span>\n",
       "<span style=\"color: #008000; text-decoration-color: #008000\">which we have always carried nearest our hearts—for democracy, for the right of those who submit to authority to </span>\n",
       "<span style=\"color: #008000; text-decoration-color: #008000\">have a voice in their own governments, for the rights and liberties of small nations, for a universal dominion of </span>\n",
       "<span style=\"color: #008000; text-decoration-color: #008000\">right by such a concert of free peoples as shall bring peace and safety to all nations and make the world itself at</span>\n",
       "<span style=\"color: #008000; text-decoration-color: #008000\">last free.\\n\\nTo such a task we can dedicate our lives and our fortunes, everything that we are and everything that</span>\n",
       "<span style=\"color: #008000; text-decoration-color: #008000\">we have, with the pride of those who know that the day has come when America is privileged to spend her blood and </span>\n",
       "<span style=\"color: #008000; text-decoration-color: #008000\">her might for the principles that gave her birth and happiness and the peace which she has treasured. God helping </span>\n",
       "<span style=\"color: #008000; text-decoration-color: #008000\">her, she can do no other.'</span>\n",
       "    <span style=\"font-weight: bold\">)</span>\n",
       "<span style=\"font-weight: bold\">]</span>\n",
       "</pre>\n"
      ],
      "text/plain": [
       "\u001b[1m[\u001b[0m\n",
       "    \u001b[1;35mDocument\u001b[0m\u001b[1m(\u001b[0m\n",
       "        \u001b[33mmetadata\u001b[0m=\u001b[1m{\u001b[0m\u001b[32m'source'\u001b[0m: \u001b[32m'../3.2-dataIngestion/speech.txt'\u001b[0m\u001b[1m}\u001b[0m,\n",
       "        \u001b[33mpage_content\u001b[0m=\u001b[32m'The world must be made safe for democracy. Its peace must be planted upon the tested \u001b[0m\n",
       "\u001b[32mfoundations of political liberty. We have no selfish ends to serve. We desire no conquest, no dominion. We seek no \u001b[0m\n",
       "\u001b[32mindemnities for ourselves, no material compensation for the sacrifices we shall freely make. We are but one of the \u001b[0m\n",
       "\u001b[32mchampions of the rights of mankind. We shall be satisfied when those rights have been made as secure as the faith \u001b[0m\n",
       "\u001b[32mand the freedom of nations can make them.\\n\\nJust because we fight without rancor and without selfish object, \u001b[0m\n",
       "\u001b[32mseeking nothing for ourselves but what we shall wish to share with all free peoples, we shall, I feel confident, \u001b[0m\n",
       "\u001b[32mconduct our operations as belligerents without passion and ourselves observe with proud punctilio the principles of\u001b[0m\n",
       "\u001b[32mright and of fair play we profess to be fighting for.\\n\\n…\\n\\nIt will be all the easier for us to conduct ourselves\u001b[0m\n",
       "\u001b[32mas belligerents in a high spirit of right and fairness because we act without animus, not in enmity toward a people\u001b[0m\n",
       "\u001b[32mor with the desire to bring any injury or disadvantage upon them, but only in armed opposition to an irresponsible \u001b[0m\n",
       "\u001b[32mgovernment which has thrown aside all considerations of humanity and of right and is running amuck. We are, let me \u001b[0m\n",
       "\u001b[32msay again, the sincere friends of the German people, and shall desire nothing so much as the early reestablishment \u001b[0m\n",
       "\u001b[32mof intimate relations of mutual advantage between us—however hard it may be for them, for the time being, to \u001b[0m\n",
       "\u001b[32mbelieve that this is spoken from our hearts.\\n\\nWe have borne with their present government through all these \u001b[0m\n",
       "\u001b[32mbitter months because of that friendship—exercising a patience and forbearance which would otherwise have been \u001b[0m\n",
       "\u001b[32mimpossible. We shall, happily, still have an opportunity to prove that friendship in our daily attitude and actions\u001b[0m\n",
       "\u001b[32mtoward the millions of men and women of German birth and native sympathy who live among us and share our life, and \u001b[0m\n",
       "\u001b[32mwe shall be proud to prove it toward all who are in fact loyal to their neighbors and to the government in the hour\u001b[0m\n",
       "\u001b[32mof test. They are, most of them, as true and loyal Americans as if they had never known any other fealty or \u001b[0m\n",
       "\u001b[32mallegiance. They will be prompt to stand with us in rebuking and restraining the few who may be of a different mind\u001b[0m\n",
       "\u001b[32mand purpose. If there should be disloyalty, it will be dealt with with a firm hand of stern repression; but, if it \u001b[0m\n",
       "\u001b[32mlifts its head at all, it will lift it only here and there and without countenance except from a lawless and \u001b[0m\n",
       "\u001b[32mmalignant few.\\n\\nIt is a distressing and oppressive duty, gentlemen of the Congress, which I have performed in \u001b[0m\n",
       "\u001b[32mthus addressing you. There are, it may be, many months of fiery trial and sacrifice ahead of us. It is a fearful \u001b[0m\n",
       "\u001b[32mthing to lead this great peaceful people into war, into the most terrible and disastrous of all wars, civilization \u001b[0m\n",
       "\u001b[32mitself seeming to be in the balance. But the right is more precious than peace, and we shall fight for the things \u001b[0m\n",
       "\u001b[32mwhich we have always carried nearest our hearts—for democracy, for the right of those who submit to authority to \u001b[0m\n",
       "\u001b[32mhave a voice in their own governments, for the rights and liberties of small nations, for a universal dominion of \u001b[0m\n",
       "\u001b[32mright by such a concert of free peoples as shall bring peace and safety to all nations and make the world itself at\u001b[0m\n",
       "\u001b[32mlast free.\\n\\nTo such a task we can dedicate our lives and our fortunes, everything that we are and everything that\u001b[0m\n",
       "\u001b[32mwe have, with the pride of those who know that the day has come when America is privileged to spend her blood and \u001b[0m\n",
       "\u001b[32mher might for the principles that gave her birth and happiness and the peace which she has treasured. God helping \u001b[0m\n",
       "\u001b[32mher, she can do no other.'\u001b[0m\n",
       "    \u001b[1m)\u001b[0m\n",
       "\u001b[1m]\u001b[0m\n"
      ]
     },
     "metadata": {},
     "output_type": "display_data"
    }
   ],
   "source": [
    "print(docs_text)"
   ]
  },
  {
   "cell_type": "code",
   "execution_count": 26,
   "id": "ea76a6f0",
   "metadata": {},
   "outputs": [
    {
     "data": {
      "text/html": [
       "<pre style=\"white-space:pre;overflow-x:auto;line-height:normal;font-family:Menlo,'DejaVu Sans Mono',consolas,'Courier New',monospace\">The world must be made safe for democracy. Its peace must be planted upon the tested foundations of political \n",
       "liberty. We have no selfish ends to serve. We desire no conquest, no dominion. We seek no indemnities for \n",
       "ourselves, no material compensation for the sacrifices we shall freely make. We are but one of the champions of the\n",
       "rights of mankind. We shall be satisfied when those rights have been made as secure as the faith and the freedom of\n",
       "nations can make them.\n",
       "\n",
       "Just because we fight without rancor and without selfish object, seeking nothing for ourselves but what we shall \n",
       "wish to share with all free peoples, we shall, I feel confident, conduct our operations as belligerents without \n",
       "passion and ourselves observe with proud punctilio the principles of right and of fair play we profess to be \n",
       "fighting for.\n",
       "\n",
       "…\n",
       "\n",
       "It will be all the easier for us to conduct ourselves as belligerents in a high spirit of right and fairness \n",
       "because we act without animus, not in enmity toward a people or with the desire to bring any injury or disadvantage\n",
       "upon them, but only in armed opposition to an irresponsible government which has thrown aside all considerations of\n",
       "humanity and of right and is running amuck. We are, let me say again, the sincere friends of the German people, and\n",
       "shall desire nothing so much as the early reestablishment of intimate relations of mutual advantage between \n",
       "us—however hard it may be for them, for the time being, to believe that this is spoken from our hearts.\n",
       "\n",
       "We have borne with their present government through all these bitter months because of that friendship—exercising a\n",
       "patience and forbearance which would otherwise have been impossible. We shall, happily, still have an opportunity \n",
       "to prove that friendship in our daily attitude and actions toward the millions of men and women of German birth and\n",
       "native sympathy who live among us and share our life, and we shall be proud to prove it toward all who are in fact \n",
       "loyal to their neighbors and to the government in the hour of test. They are, most of them, as true and loyal \n",
       "Americans as if they had never known any other fealty or allegiance. They will be prompt to stand with us in \n",
       "rebuking and restraining the few who may be of a different mind and purpose. If there should be disloyalty, it will\n",
       "be dealt with with a firm hand of stern repression; but, if it lifts its head at all, it will lift it only here and\n",
       "there and without countenance except from a lawless and malignant few.\n",
       "\n",
       "It is a distressing and oppressive duty, gentlemen of the Congress, which I have performed in thus addressing you. \n",
       "There are, it may be, many months of fiery trial and sacrifice ahead of us. It is a fearful thing to lead this \n",
       "great peaceful people into war, into the most terrible and disastrous of all wars, civilization itself seeming to \n",
       "be in the balance. But the right is more precious than peace, and we shall fight for the things which we have \n",
       "always carried nearest our hearts—for democracy, for the right of those who submit to authority to have a voice in \n",
       "their own governments, for the rights and liberties of small nations, for a universal dominion of right by such a \n",
       "concert of free peoples as shall bring peace and safety to all nations and make the world itself at last free.\n",
       "\n",
       "To such a task we can dedicate our lives and our fortunes, everything that we are and everything that we have, with\n",
       "the pride of those who know that the day has come when America is privileged to spend her blood and her might for \n",
       "the principles that gave her birth and happiness and the peace which she has treasured. God helping her, she can do\n",
       "no other.\n",
       "</pre>\n"
      ],
      "text/plain": [
       "The world must be made safe for democracy. Its peace must be planted upon the tested foundations of political \n",
       "liberty. We have no selfish ends to serve. We desire no conquest, no dominion. We seek no indemnities for \n",
       "ourselves, no material compensation for the sacrifices we shall freely make. We are but one of the champions of the\n",
       "rights of mankind. We shall be satisfied when those rights have been made as secure as the faith and the freedom of\n",
       "nations can make them.\n",
       "\n",
       "Just because we fight without rancor and without selfish object, seeking nothing for ourselves but what we shall \n",
       "wish to share with all free peoples, we shall, I feel confident, conduct our operations as belligerents without \n",
       "passion and ourselves observe with proud punctilio the principles of right and of fair play we profess to be \n",
       "fighting for.\n",
       "\n",
       "…\n",
       "\n",
       "It will be all the easier for us to conduct ourselves as belligerents in a high spirit of right and fairness \n",
       "because we act without animus, not in enmity toward a people or with the desire to bring any injury or disadvantage\n",
       "upon them, but only in armed opposition to an irresponsible government which has thrown aside all considerations of\n",
       "humanity and of right and is running amuck. We are, let me say again, the sincere friends of the German people, and\n",
       "shall desire nothing so much as the early reestablishment of intimate relations of mutual advantage between \n",
       "us—however hard it may be for them, for the time being, to believe that this is spoken from our hearts.\n",
       "\n",
       "We have borne with their present government through all these bitter months because of that friendship—exercising a\n",
       "patience and forbearance which would otherwise have been impossible. We shall, happily, still have an opportunity \n",
       "to prove that friendship in our daily attitude and actions toward the millions of men and women of German birth and\n",
       "native sympathy who live among us and share our life, and we shall be proud to prove it toward all who are in fact \n",
       "loyal to their neighbors and to the government in the hour of test. They are, most of them, as true and loyal \n",
       "Americans as if they had never known any other fealty or allegiance. They will be prompt to stand with us in \n",
       "rebuking and restraining the few who may be of a different mind and purpose. If there should be disloyalty, it will\n",
       "be dealt with with a firm hand of stern repression; but, if it lifts its head at all, it will lift it only here and\n",
       "there and without countenance except from a lawless and malignant few.\n",
       "\n",
       "It is a distressing and oppressive duty, gentlemen of the Congress, which I have performed in thus addressing you. \n",
       "There are, it may be, many months of fiery trial and sacrifice ahead of us. It is a fearful thing to lead this \n",
       "great peaceful people into war, into the most terrible and disastrous of all wars, civilization itself seeming to \n",
       "be in the balance. But the right is more precious than peace, and we shall fight for the things which we have \n",
       "always carried nearest our hearts—for democracy, for the right of those who submit to authority to have a voice in \n",
       "their own governments, for the rights and liberties of small nations, for a universal dominion of right by such a \n",
       "concert of free peoples as shall bring peace and safety to all nations and make the world itself at last free.\n",
       "\n",
       "To such a task we can dedicate our lives and our fortunes, everything that we are and everything that we have, with\n",
       "the pride of those who know that the day has come when America is privileged to spend her blood and her might for \n",
       "the principles that gave her birth and happiness and the peace which she has treasured. God helping her, she can do\n",
       "no other.\n"
      ]
     },
     "metadata": {},
     "output_type": "display_data"
    }
   ],
   "source": [
    "speech=\"\"\n",
    "\n",
    "with open(\"../3.2-dataIngestion/speech.txt\") as f:\n",
    "    speech=f.read()\n",
    "\n",
    "print(speech)"
   ]
  },
  {
   "cell_type": "code",
   "execution_count": 29,
   "id": "aa4f3e2b",
   "metadata": {},
   "outputs": [
    {
     "data": {
      "text/html": [
       "<pre style=\"white-space:pre;overflow-x:auto;line-height:normal;font-family:Menlo,'DejaVu Sans Mono',consolas,'Courier New',monospace\"><span style=\"color: #800080; text-decoration-color: #800080; font-weight: bold\">Document</span><span style=\"font-weight: bold\">(</span>\n",
       "    <span style=\"color: #808000; text-decoration-color: #808000\">metadata</span>=<span style=\"font-weight: bold\">{}</span>,\n",
       "    <span style=\"color: #808000; text-decoration-color: #808000\">page_content</span>=<span style=\"color: #008000; text-decoration-color: #008000\">'The world must be made safe for democracy. Its peace must be planted upon the tested foundations </span>\n",
       "<span style=\"color: #008000; text-decoration-color: #008000\">of'</span>\n",
       "<span style=\"font-weight: bold\">)</span>\n",
       "</pre>\n"
      ],
      "text/plain": [
       "\u001b[1;35mDocument\u001b[0m\u001b[1m(\u001b[0m\n",
       "    \u001b[33mmetadata\u001b[0m=\u001b[1m{\u001b[0m\u001b[1m}\u001b[0m,\n",
       "    \u001b[33mpage_content\u001b[0m=\u001b[32m'The world must be made safe for democracy. Its peace must be planted upon the tested foundations \u001b[0m\n",
       "\u001b[32mof'\u001b[0m\n",
       "\u001b[1m)\u001b[0m\n"
      ]
     },
     "metadata": {},
     "output_type": "display_data"
    },
    {
     "data": {
      "text/html": [
       "<pre style=\"white-space:pre;overflow-x:auto;line-height:normal;font-family:Menlo,'DejaVu Sans Mono',consolas,'Courier New',monospace\"><span style=\"color: #800080; text-decoration-color: #800080; font-weight: bold\">Document</span><span style=\"font-weight: bold\">(</span>\n",
       "    <span style=\"color: #808000; text-decoration-color: #808000\">metadata</span>=<span style=\"font-weight: bold\">{}</span>,\n",
       "    <span style=\"color: #808000; text-decoration-color: #808000\">page_content</span>=<span style=\"color: #008000; text-decoration-color: #008000\">'foundations of political liberty. We have no selfish ends to serve. We desire no conquest, no'</span>\n",
       "<span style=\"font-weight: bold\">)</span>\n",
       "</pre>\n"
      ],
      "text/plain": [
       "\u001b[1;35mDocument\u001b[0m\u001b[1m(\u001b[0m\n",
       "    \u001b[33mmetadata\u001b[0m=\u001b[1m{\u001b[0m\u001b[1m}\u001b[0m,\n",
       "    \u001b[33mpage_content\u001b[0m=\u001b[32m'foundations of political liberty. We have no selfish ends to serve. We desire no conquest, no'\u001b[0m\n",
       "\u001b[1m)\u001b[0m\n"
      ]
     },
     "metadata": {},
     "output_type": "display_data"
    }
   ],
   "source": [
    "text_splitter=RecursiveCharacterTextSplitter(chunk_size=100, chunk_overlap=20)\n",
    "text=text_splitter.create_documents([speech])\n",
    "print(text[0])\n",
    "print(text[1])"
   ]
  },
  {
   "cell_type": "code",
   "execution_count": null,
   "id": "cdb776b2",
   "metadata": {},
   "outputs": [],
   "source": []
  }
 ],
 "metadata": {
  "kernelspec": {
   "display_name": "Python 3",
   "language": "python",
   "name": "python3"
  },
  "language_info": {
   "codemirror_mode": {
    "name": "ipython",
    "version": 3
   },
   "file_extension": ".py",
   "mimetype": "text/x-python",
   "name": "python",
   "nbconvert_exporter": "python",
   "pygments_lexer": "ipython3",
   "version": "3.10.0"
  }
 },
 "nbformat": 4,
 "nbformat_minor": 5
}
