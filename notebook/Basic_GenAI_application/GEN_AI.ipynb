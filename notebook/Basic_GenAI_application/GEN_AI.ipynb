{
 "cells": [
  {
   "cell_type": "markdown",
   "id": "af7646eb",
   "metadata": {},
   "source": [
    "### Simple Gen AI APP udsing langchain"
   ]
  },
  {
   "cell_type": "code",
   "execution_count": 1,
   "id": "cef0c964",
   "metadata": {},
   "outputs": [
    {
     "data": {
      "text/plain": [
       "True"
      ]
     },
     "execution_count": 1,
     "metadata": {},
     "output_type": "execute_result"
    }
   ],
   "source": [
    "import os \n",
    "from rich import print \n",
    "from dotenv import load_dotenv \n",
    "load_dotenv(dotenv_path=\"../.env\")"
   ]
  },
  {
   "cell_type": "code",
   "execution_count": 3,
   "id": "f01e7c8d",
   "metadata": {},
   "outputs": [],
   "source": [
    "os.environ[\"OPENAI_API_KEY\"]=os.getenv(\"OPENAI_API_KEY\")\n",
    "os.environ[\"LANGCHAIN_API_KEY\"]=os.getenv(\"LANGCHAIN_API_KEY\")\n",
    "os.environ[\"LANGCHAIN_TRACING_V2\"] = \"true\"\n",
    "os.environ[\"LANGCHAIN_PROJECT\"] = \"BASIC_GENAI_APP\"\n",
    "os.environ[\"GROQ_API_KEY\"] = os.getenv(\"GROQ_API_KEY\")"
   ]
  },
  {
   "cell_type": "markdown",
   "id": "6fd2de29",
   "metadata": {},
   "source": [
    "#### DATA Ingestion --> from the website we need to scrape the data"
   ]
  },
  {
   "cell_type": "code",
   "execution_count": 5,
   "id": "802a1bc3",
   "metadata": {},
   "outputs": [],
   "source": [
    "from langchain_community.document_loaders import WebBaseLoader"
   ]
  },
  {
   "cell_type": "code",
   "execution_count": 6,
   "id": "90c8a534",
   "metadata": {},
   "outputs": [
    {
     "data": {
      "text/plain": [
       "<langchain_community.document_loaders.web_base.WebBaseLoader at 0x10578b460>"
      ]
     },
     "execution_count": 6,
     "metadata": {},
     "output_type": "execute_result"
    }
   ],
   "source": [
    "loader=WebBaseLoader(\"https://docs.smith.langchain.com/administration/tutorials/manage_spend\")\n",
    "loader"
   ]
  },
  {
   "cell_type": "code",
   "execution_count": 7,
   "id": "8106ee52",
   "metadata": {},
   "outputs": [],
   "source": [
    "docs=loader.load()"
   ]
  },
  {
   "cell_type": "code",
   "execution_count": 10,
   "id": "c406d517",
   "metadata": {},
   "outputs": [
    {
     "data": {
      "text/html": [
       "<pre style=\"white-space:pre;overflow-x:auto;line-height:normal;font-family:Menlo,'DejaVu Sans Mono',consolas,'Courier New',monospace\"><span style=\"font-weight: bold\">[</span>\n",
       "    <span style=\"color: #800080; text-decoration-color: #800080; font-weight: bold\">Document</span><span style=\"font-weight: bold\">(</span>\n",
       "        <span style=\"color: #808000; text-decoration-color: #808000\">metadata</span>=<span style=\"font-weight: bold\">{</span>\n",
       "            <span style=\"color: #008000; text-decoration-color: #008000\">'source'</span>: <span style=\"color: #008000; text-decoration-color: #008000\">'https://docs.smith.langchain.com/administration/tutorials/manage_spend'</span>,\n",
       "            <span style=\"color: #008000; text-decoration-color: #008000\">'title'</span>: <span style=\"color: #008000; text-decoration-color: #008000\">'Optimize tracing spend on LangSmith | 🦜️🛠️ LangSmith'</span>,\n",
       "            <span style=\"color: #008000; text-decoration-color: #008000\">'description'</span>: <span style=\"color: #008000; text-decoration-color: #008000\">'Before diving into this content, it might be helpful to read the following:'</span>,\n",
       "            <span style=\"color: #008000; text-decoration-color: #008000\">'language'</span>: <span style=\"color: #008000; text-decoration-color: #008000\">'en'</span>\n",
       "        <span style=\"font-weight: bold\">}</span>,\n",
       "        <span style=\"color: #808000; text-decoration-color: #808000\">page_content</span>=<span style=\"color: #008000; text-decoration-color: #008000\">'\\n\\n\\n\\n\\nOptimize tracing spend on LangSmith | 🦜️🛠️ LangSmith\\n\\n\\n\\n\\n\\n\\n\\n\\nSkip to main </span>\n",
       "<span style=\"color: #008000; text-decoration-color: #008000\">contentOur new LangChain Academy Course Deep Research with LangGraph is now live! Enroll for free.API </span>\n",
       "<span style=\"color: #008000; text-decoration-color: #008000\">ReferenceRESTPythonJS/TSSearchRegionUSEUGo to AppGet StartedObservabilityEvaluationPrompt EngineeringDeployment </span>\n",
       "<span style=\"color: #008000; text-decoration-color: #008000\">(LangGraph Platform)AdministrationTutorialsOptimize tracing spend on LangSmithHow-to GuidesSetupConceptual </span>\n",
       "<span style=\"color: #008000; text-decoration-color: #008000\">GuideSelf-hostingPricingReferenceCloud architecture and scalabilityAuthz and AuthnAuthentication </span>\n",
       "<span style=\"color: #008000; text-decoration-color: #008000\">methodsdata_formatsEvaluationDataset transformationsRegions FAQsdk_referenceAdministrationTutorialsOptimize tracing</span>\n",
       "<span style=\"color: #008000; text-decoration-color: #008000\">spend on LangSmithOn this pageOptimize tracing spend on LangSmith\\nRecommended ReadingBefore diving into this </span>\n",
       "<span style=\"color: #008000; text-decoration-color: #008000\">content, it might be helpful to read the following:\\nData Retention Conceptual Docs\\nUsage Limiting Conceptual </span>\n",
       "<span style=\"color: #008000; text-decoration-color: #008000\">Docs\\n\\nnoteSome of the features mentioned in this guide are not currently available in Enterprise plan due to </span>\n",
       "<span style=\"color: #008000; text-decoration-color: #008000\">its\\ncustom nature of billing. If you are on Enterprise plan and have questions about cost optimization,\\nplease </span>\n",
       "<span style=\"color: #008000; text-decoration-color: #008000\">reach out to your sales rep or support@langchain.dev.\\nThis tutorial walks through optimizing your spend on </span>\n",
       "<span style=\"color: #008000; text-decoration-color: #008000\">LangSmith. In it, we will learn how to optimize existing spend\\nand prevent future overspend on a realistic </span>\n",
       "<span style=\"color: #008000; text-decoration-color: #008000\">real-world example. We will use an existing LangSmith organization with high usage.\\nConcepts can be transferred to</span>\n",
       "<span style=\"color: #008000; text-decoration-color: #008000\">your own organization.\\nProblem Setup\\u200b\\nIn this tutorial, we take an existing organization that has three </span>\n",
       "<span style=\"color: #008000; text-decoration-color: #008000\">workspaces, one for each deployment stage\\n(Dev, Staging, and Prod):\\n\\nUnderstand your current usage\\u200b\\nThe </span>\n",
       "<span style=\"color: #008000; text-decoration-color: #008000\">first step of any optimization process is to understand current usage. LangSmith gives two ways to do this: Usage </span>\n",
       "<span style=\"color: #008000; text-decoration-color: #008000\">Graph\\nand Invoices.\\nUsage Graph\\u200b\\nThe usage graph lets us examine how much of each usage based pricing </span>\n",
       "<span style=\"color: #008000; text-decoration-color: #008000\">metric we have consumed lately. It does not directly show\\nspend (which we will see later on our draft </span>\n",
       "<span style=\"color: #008000; text-decoration-color: #008000\">invoice).\\nWe can navigate to the Usage Graph under Settings -&gt; Usage and Billing -&gt; Usage Graph.\\n\\nWe see in the </span>\n",
       "<span style=\"color: #008000; text-decoration-color: #008000\">graph above that there are two usage metrics that LangSmith charges for:\\n\\nLangSmith Traces (Base </span>\n",
       "<span style=\"color: #008000; text-decoration-color: #008000\">Charge)\\nLangSmith Traces (Extended Data Retention Upgrades).\\n\\nThe first metric tracks all traces that you send </span>\n",
       "<span style=\"color: #008000; text-decoration-color: #008000\">to LangSmith. The second tracks all traces that also have our Extended 400 Day Data Retention.\\nFor more details, </span>\n",
       "<span style=\"color: #008000; text-decoration-color: #008000\">see our data retention conceptual docs. Notice that these graphs look\\nidentical, which will come into play later </span>\n",
       "<span style=\"color: #008000; text-decoration-color: #008000\">in the tutorial.\\nLangSmith Traces usage is measured per workspace, because workspaces often represent development </span>\n",
       "<span style=\"color: #008000; text-decoration-color: #008000\">environments (as in our example),\\nor teams within an organization. As a LangSmith administrator, we want to </span>\n",
       "<span style=\"color: #008000; text-decoration-color: #008000\">understand spend granularly per each of these units. In\\nthis case where we just want to cut spend, we can focus on</span>\n",
       "<span style=\"color: #008000; text-decoration-color: #008000\">the environment responsible for the majority of costs first for the greatest savings.\\nInvoices\\u200b\\nWe </span>\n",
       "<span style=\"color: #008000; text-decoration-color: #008000\">understand what usage looks like in terms of traces, but we now need to translate that into spend. To do so,\\nwe </span>\n",
       "<span style=\"color: #008000; text-decoration-color: #008000\">head to the Invoices tab. The first invoice that will appear on screen is a draft of your current </span>\n",
       "<span style=\"color: #008000; text-decoration-color: #008000\">month\\'s\\ninvoice, which shows your running spend thus far this month.\\n\\nnoteLangSmith\\'s Usage Graph and Invoice </span>\n",
       "<span style=\"color: #008000; text-decoration-color: #008000\">use the term tenant_id to refer to a workspace ID. They are interchangeable.\\nIn the above GIF, we see that the </span>\n",
       "<span style=\"color: #008000; text-decoration-color: #008000\">charges for LangSmith Traces are broken up by \"tenant_id\" (i.e. Workspace ID), meaning we can track tracing </span>\n",
       "<span style=\"color: #008000; text-decoration-color: #008000\">spend\\non each of our workspaces. In the first few days of June, the vast majority of the total spend of ~$2,000 is</span>\n",
       "<span style=\"color: #008000; text-decoration-color: #008000\">in our production\\nworkspace. Further, the majority of spend in that workspace was on extended data retention trace</span>\n",
       "<span style=\"color: #008000; text-decoration-color: #008000\">upgrades.\\nThese upgrades occur for two reasons:\\n\\nYou use extended data retention tracing, meaning that, by </span>\n",
       "<span style=\"color: #008000; text-decoration-color: #008000\">default, your traces are retained for 400 days\\nYou use base data retention tracing, and use a feature that </span>\n",
       "<span style=\"color: #008000; text-decoration-color: #008000\">automatically extends the data retention of a trace (see our Auto-Upgrade conceptual docs)\\n\\nGiven that the number</span>\n",
       "<span style=\"color: #008000; text-decoration-color: #008000\">of total traces per day is equal to the number of extended retention traces per day, it\\'s most likely the\\ncase </span>\n",
       "<span style=\"color: #008000; text-decoration-color: #008000\">that this org is using extended data retention tracing everywhere. As such, we start by optimizing our retention </span>\n",
       "<span style=\"color: #008000; text-decoration-color: #008000\">settings.\\nOptimization 1: manage data retention\\u200b\\nLangSmith charges differently based on a trace\\'s data </span>\n",
       "<span style=\"color: #008000; text-decoration-color: #008000\">retention (see our data retention conceptual docs),\\nwhere short-lived traces are an order of magnitude less </span>\n",
       "<span style=\"color: #008000; text-decoration-color: #008000\">expensive than ones that last for a long time. In this optimization, we will\\nshow how to get optimal settings for </span>\n",
       "<span style=\"color: #008000; text-decoration-color: #008000\">data retention without sacrificing historical observability, and\\nshow the effect it has on our bill.\\nChange org </span>\n",
       "<span style=\"color: #008000; text-decoration-color: #008000\">level retention defaults for new projects\\u200b\\nNavigate to the Usage configuration tab, and look at our </span>\n",
       "<span style=\"color: #008000; text-decoration-color: #008000\">organization level retention settings. Modifying this setting affects all new projects that are created going </span>\n",
       "<span style=\"color: #008000; text-decoration-color: #008000\">forward in all workspaces in our org.\\nnoteFor backwards compatibility, older organizations may have this defaulted</span>\n",
       "<span style=\"color: #008000; text-decoration-color: #008000\">to Extended. Organizations created after June 3rd, 2024\\nhave this defaulted to Base.\\n\\nChange project level </span>\n",
       "<span style=\"color: #008000; text-decoration-color: #008000\">retention defaults\\u200b\\nData retention settings are adjustable per project on the tracing project page.\\nNavigate</span>\n",
       "<span style=\"color: #008000; text-decoration-color: #008000\">to Projects &gt; Your project name &gt; Select Retention and modify the default retention of the project to Base. This </span>\n",
       "<span style=\"color: #008000; text-decoration-color: #008000\">will only affect retention (and pricing) for traces going forward.\\n\\nApply extended data retention to a percentage</span>\n",
       "<span style=\"color: #008000; text-decoration-color: #008000\">of traces\\u200b\\nYou may not want all traces to expire after 14 days. You can automatically extend the retention of</span>\n",
       "<span style=\"color: #008000; text-decoration-color: #008000\">traces that match some criteria by creating an automation rule. You might want to apply extended data retention to </span>\n",
       "<span style=\"color: #008000; text-decoration-color: #008000\">specific types of traces, such as:\\n\\n10% of all traces: For general analysis or analyzing trends </span>\n",
       "<span style=\"color: #008000; text-decoration-color: #008000\">long-term\\nErrored traces: To thoroughly investigate and debug issues\\nTraces with specific metadata: For long-term</span>\n",
       "<span style=\"color: #008000; text-decoration-color: #008000\">examination of particular features or user flows\\n\\nTo configure this:\\n\\nNavigate to Projects &gt; Your project name </span>\n",
       "<span style=\"color: #008000; text-decoration-color: #008000\">&gt; Select + New &gt; Select New Automation\\nName your rule and optionally apply filters or a sample rate. For more </span>\n",
       "<span style=\"color: #008000; text-decoration-color: #008000\">information on configuring filters, see filtering techniques\\n\\nnoteWhen an automation rule matches any run within </span>\n",
       "<span style=\"color: #008000; text-decoration-color: #008000\">a trace, then all runs within the trace are upgraded to be retained for 400 days.\\nFor example, this is what the </span>\n",
       "<span style=\"color: #008000; text-decoration-color: #008000\">configuration looks like to keep 10% of all traces for extended data retention:\\n\\nIf you want to keep a subset of </span>\n",
       "<span style=\"color: #008000; text-decoration-color: #008000\">traces for longer than 400 days for data collection purposes, you can create another run\\nrule that sends some runs</span>\n",
       "<span style=\"color: #008000; text-decoration-color: #008000\">to a dataset of your choosing. A dataset allows you to store the trace inputs and outputs (e.g., as a key-value </span>\n",
       "<span style=\"color: #008000; text-decoration-color: #008000\">dataset),\\nand will persist indefinitely, even after the trace gets deleted.\\nSee results after 7 days\\u200b\\nWhile</span>\n",
       "<span style=\"color: #008000; text-decoration-color: #008000\">the total amount of traces per day stayed the same, the extended data retention traces was cut heavily. In the </span>\n",
       "<span style=\"color: #008000; text-decoration-color: #008000\">invoice, we can see thatwe\\'ve only spent about $900 in the last 7 days, as opposed to $2,000 in the previous </span>\n",
       "<span style=\"color: #008000; text-decoration-color: #008000\">4.\\nThat\\'s a cost reduction of nearly 75% per day!\\n\\nOptimization 2: limit usage\\u200b\\nIn the previous section, </span>\n",
       "<span style=\"color: #008000; text-decoration-color: #008000\">we managed data retention settings to optimize existing spend. In this section, we will\\nuse usage limits to </span>\n",
       "<span style=\"color: #008000; text-decoration-color: #008000\">prevent future overspend.\\nLangSmith has two usage limits: total traces and extended retention traces. These </span>\n",
       "<span style=\"color: #008000; text-decoration-color: #008000\">correspond to the two metrics we\\'ve\\nbeen tracking on our usage graph. We can use these in tandem to have granular</span>\n",
       "<span style=\"color: #008000; text-decoration-color: #008000\">control over spend.\\nTo set limits, we navigate back to Settings -&gt; Usage and Billing -&gt; Usage configuration. There</span>\n",
       "<span style=\"color: #008000; text-decoration-color: #008000\">is a table at the\\nbottom of the page that lets you set usage limits per workspace. For each workspace, the two </span>\n",
       "<span style=\"color: #008000; text-decoration-color: #008000\">limits appear, along\\nwith a cost estimate:\\n\\nLets start by setting limits on our production usage, since that is </span>\n",
       "<span style=\"color: #008000; text-decoration-color: #008000\">where the majority of spend comes from.\\nSetting a good total traces limit\\u200b\\nPicking the right \"total traces\" </span>\n",
       "<span style=\"color: #008000; text-decoration-color: #008000\">limit depends on the expected load of traces that you will send to LangSmith. You should\\nclearly think about your </span>\n",
       "<span style=\"color: #008000; text-decoration-color: #008000\">assumptions before setting a limit.\\nFor example:\\n\\nCurrent Load: Our gen AI application is called between 1.2-1.5</span>\n",
       "<span style=\"color: #008000; text-decoration-color: #008000\">times per second, and each API request has a trace associated with it,\\nmeaning we log around 100,000-130,000 </span>\n",
       "<span style=\"color: #008000; text-decoration-color: #008000\">traces per day\\nExpected Growth in Load: We expect to double in size in the near future.\\n\\nFrom these assumptions,</span>\n",
       "<span style=\"color: #008000; text-decoration-color: #008000\">we can do a quick back-of-the-envelope calculation to get a good limit of:\\nlimit = current_load_per_day * </span>\n",
       "<span style=\"color: #008000; text-decoration-color: #008000\">expected_growth * days/month      = 130,000 * 2 * 30      = 7,800,000 traces / month\\nWe click on the edit icon on </span>\n",
       "<span style=\"color: #008000; text-decoration-color: #008000\">the right side of the table for our Prod row, and can enter this limit as follows:\\n\\nnoteWhen set without the </span>\n",
       "<span style=\"color: #008000; text-decoration-color: #008000\">extended data retention traces limit, the maximum cost estimator assumes that all traces are using extended data </span>\n",
       "<span style=\"color: #008000; text-decoration-color: #008000\">retention.\\nCutting maximum spend with an extended data retention limit\\u200b\\nIf we are not a big enterprise, we </span>\n",
       "<span style=\"color: #008000; text-decoration-color: #008000\">may shudder at the ~$40k per month bill.\\nWe saw from Optimization 1 that the easiest way to cut cost was through </span>\n",
       "<span style=\"color: #008000; text-decoration-color: #008000\">managing data retention.\\nThe same can be said for limits. If we only want to keep ~10% of traces to be around more</span>\n",
       "<span style=\"color: #008000; text-decoration-color: #008000\">than 14 days, we can set a limit on the maximum\\nhigh retention traces we can keep. That would be .10 * 7,800,000 =</span>\n",
       "<span style=\"color: #008000; text-decoration-color: #008000\">780,000.\\n\\nAs we can see, the maximum cost is cut from ~40k per month to ~7.5k per month, because we no longer </span>\n",
       "<span style=\"color: #008000; text-decoration-color: #008000\">allow as many expensive\\ndata retention upgrades. This lets us be confident that new users on the platform will not</span>\n",
       "<span style=\"color: #008000; text-decoration-color: #008000\">accidentally cause cost to balloon.\\nnoteThe extended data retention limit can cause features other than traces to </span>\n",
       "<span style=\"color: #008000; text-decoration-color: #008000\">stop working once reached. If you plan to\\nuse this feature, please read more about its functionality here.\\nSet </span>\n",
       "<span style=\"color: #008000; text-decoration-color: #008000\">dev/staging limits and view total spent limit across workspaces\\u200b\\nFollowing the same logic for our dev and </span>\n",
       "<span style=\"color: #008000; text-decoration-color: #008000\">staging environments, we set limits at 10% of the production\\nlimit on usage for each workspace.\\nWhile this works </span>\n",
       "<span style=\"color: #008000; text-decoration-color: #008000\">with our usage pattern, setting good dev and staging limits may vary depending on\\nyour use case with LangSmith. </span>\n",
       "<span style=\"color: #008000; text-decoration-color: #008000\">For example, if you run evals as part of CI/CD in dev or staging, you may\\nwant to be more liberal with your usage </span>\n",
       "<span style=\"color: #008000; text-decoration-color: #008000\">limits to avoid test failures.\\nNow that our limits are set, we can see that LangSmith shows a maximum spend </span>\n",
       "<span style=\"color: #008000; text-decoration-color: #008000\">estimate across all workspaces:\\n\\nWith this estimator, we can be confident that we will not end up with an </span>\n",
       "<span style=\"color: #008000; text-decoration-color: #008000\">unexpected credit card bill at the end of the month.\\nSummary\\u200b\\nIn this tutorial, we learned how to:\\n\\nCut </span>\n",
       "<span style=\"color: #008000; text-decoration-color: #008000\">down our existing costs with data retention policies\\nPrevent future overspend with usage limits\\n\\nIf you have </span>\n",
       "<span style=\"color: #008000; text-decoration-color: #008000\">questions about further optimizing your spend, please reach out to support@langchain.dev.Was this page helpful?You </span>\n",
       "<span style=\"color: #008000; text-decoration-color: #008000\">can leave detailed feedback on GitHub.PreviousTutorialsNextAdministration how-to guidesProblem SetupUnderstand your</span>\n",
       "<span style=\"color: #008000; text-decoration-color: #008000\">current usageUsage GraphInvoicesOptimization 1: manage data retentionChange org level retention defaults for new </span>\n",
       "<span style=\"color: #008000; text-decoration-color: #008000\">projectsChange project level retention defaultsApply extended data retention to a percentage of tracesSee results </span>\n",
       "<span style=\"color: #008000; text-decoration-color: #008000\">after 7 daysOptimization 2: limit usageSetting a good total traces limitCutting maximum spend with an extended data</span>\n",
       "<span style=\"color: #008000; text-decoration-color: #008000\">retention limitSet dev/staging limits and view total spent limit across workspacesSummaryCommunityLangChain </span>\n",
       "<span style=\"color: #008000; text-decoration-color: #008000\">ForumTwitterGitHubDocs CodeLangSmith SDKPythonJS/TSMoreHomepageBlogLangChain Python DocsLangChain JS/TS </span>\n",
       "<span style=\"color: #008000; text-decoration-color: #008000\">DocsCopyright © 2025 LangChain, Inc.\\n\\n'</span>\n",
       "    <span style=\"font-weight: bold\">)</span>\n",
       "<span style=\"font-weight: bold\">]</span>\n",
       "</pre>\n"
      ],
      "text/plain": [
       "\u001b[1m[\u001b[0m\n",
       "    \u001b[1;35mDocument\u001b[0m\u001b[1m(\u001b[0m\n",
       "        \u001b[33mmetadata\u001b[0m=\u001b[1m{\u001b[0m\n",
       "            \u001b[32m'source'\u001b[0m: \u001b[32m'https://docs.smith.langchain.com/administration/tutorials/manage_spend'\u001b[0m,\n",
       "            \u001b[32m'title'\u001b[0m: \u001b[32m'Optimize tracing spend on LangSmith | 🦜️🛠️ LangSmith'\u001b[0m,\n",
       "            \u001b[32m'description'\u001b[0m: \u001b[32m'Before diving into this content, it might be helpful to read the following:'\u001b[0m,\n",
       "            \u001b[32m'language'\u001b[0m: \u001b[32m'en'\u001b[0m\n",
       "        \u001b[1m}\u001b[0m,\n",
       "        \u001b[33mpage_content\u001b[0m=\u001b[32m'\\n\\n\\n\\n\\nOptimize tracing spend on LangSmith | 🦜️🛠️ LangSmith\\n\\n\\n\\n\\n\\n\\n\\n\\nSkip to main \u001b[0m\n",
       "\u001b[32mcontentOur new LangChain Academy Course Deep Research with LangGraph is now live! Enroll for free.API \u001b[0m\n",
       "\u001b[32mReferenceRESTPythonJS/TSSearchRegionUSEUGo to AppGet StartedObservabilityEvaluationPrompt EngineeringDeployment \u001b[0m\n",
       "\u001b[32m(\u001b[0m\u001b[32mLangGraph Platform\u001b[0m\u001b[32m)\u001b[0m\u001b[32mAdministrationTutorialsOptimize tracing spend on LangSmithHow-to GuidesSetupConceptual \u001b[0m\n",
       "\u001b[32mGuideSelf-hostingPricingReferenceCloud architecture and scalabilityAuthz and AuthnAuthentication \u001b[0m\n",
       "\u001b[32mmethodsdata_formatsEvaluationDataset transformationsRegions FAQsdk_referenceAdministrationTutorialsOptimize tracing\u001b[0m\n",
       "\u001b[32mspend on LangSmithOn this pageOptimize tracing spend on LangSmith\\nRecommended ReadingBefore diving into this \u001b[0m\n",
       "\u001b[32mcontent, it might be helpful to read the following:\\nData Retention Conceptual Docs\\nUsage Limiting Conceptual \u001b[0m\n",
       "\u001b[32mDocs\\n\\nnoteSome of the features mentioned in this guide are not currently available in Enterprise plan due to \u001b[0m\n",
       "\u001b[32mits\\ncustom nature of billing. If you are on Enterprise plan and have questions about cost optimization,\\nplease \u001b[0m\n",
       "\u001b[32mreach out to your sales rep or support@langchain.dev.\\nThis tutorial walks through optimizing your spend on \u001b[0m\n",
       "\u001b[32mLangSmith. In it, we will learn how to optimize existing spend\\nand prevent future overspend on a realistic \u001b[0m\n",
       "\u001b[32mreal-world example. We will use an existing LangSmith organization with high usage.\\nConcepts can be transferred to\u001b[0m\n",
       "\u001b[32myour own organization.\\nProblem Setup\\u200b\\nIn this tutorial, we take an existing organization that has three \u001b[0m\n",
       "\u001b[32mworkspaces, one for each deployment stage\\n\u001b[0m\u001b[32m(\u001b[0m\u001b[32mDev, Staging, and Prod\u001b[0m\u001b[32m)\u001b[0m\u001b[32m:\\n\\nUnderstand your current usage\\u200b\\nThe \u001b[0m\n",
       "\u001b[32mfirst step of any optimization process is to understand current usage. LangSmith gives two ways to do this: Usage \u001b[0m\n",
       "\u001b[32mGraph\\nand Invoices.\\nUsage Graph\\u200b\\nThe usage graph lets us examine how much of each usage based pricing \u001b[0m\n",
       "\u001b[32mmetric we have consumed lately. It does not directly show\\nspend \u001b[0m\u001b[32m(\u001b[0m\u001b[32mwhich we will see later on our draft \u001b[0m\n",
       "\u001b[32minvoice\u001b[0m\u001b[32m)\u001b[0m\u001b[32m.\\nWe can navigate to the Usage Graph under Settings -> Usage and Billing -> Usage Graph.\\n\\nWe see in the \u001b[0m\n",
       "\u001b[32mgraph above that there are two usage metrics that LangSmith charges for:\\n\\nLangSmith Traces \u001b[0m\u001b[32m(\u001b[0m\u001b[32mBase \u001b[0m\n",
       "\u001b[32mCharge\u001b[0m\u001b[32m)\u001b[0m\u001b[32m\\nLangSmith Traces \u001b[0m\u001b[32m(\u001b[0m\u001b[32mExtended Data Retention Upgrades\u001b[0m\u001b[32m)\u001b[0m\u001b[32m.\\n\\nThe first metric tracks all traces that you send \u001b[0m\n",
       "\u001b[32mto LangSmith. The second tracks all traces that also have our Extended 400 Day Data Retention.\\nFor more details, \u001b[0m\n",
       "\u001b[32msee our data retention conceptual docs. Notice that these graphs look\\nidentical, which will come into play later \u001b[0m\n",
       "\u001b[32min the tutorial.\\nLangSmith Traces usage is measured per workspace, because workspaces often represent development \u001b[0m\n",
       "\u001b[32menvironments \u001b[0m\u001b[32m(\u001b[0m\u001b[32mas in our example\u001b[0m\u001b[32m)\u001b[0m\u001b[32m,\\nor teams within an organization. As a LangSmith administrator, we want to \u001b[0m\n",
       "\u001b[32munderstand spend granularly per each of these units. In\\nthis case where we just want to cut spend, we can focus on\u001b[0m\n",
       "\u001b[32mthe environment responsible for the majority of costs first for the greatest savings.\\nInvoices\\u200b\\nWe \u001b[0m\n",
       "\u001b[32munderstand what usage looks like in terms of traces, but we now need to translate that into spend. To do so,\\nwe \u001b[0m\n",
       "\u001b[32mhead to the Invoices tab. The first invoice that will appear on screen is a draft of your current \u001b[0m\n",
       "\u001b[32mmonth\\'s\\ninvoice, which shows your running spend thus far this month.\\n\\nnoteLangSmith\\'s Usage Graph and Invoice \u001b[0m\n",
       "\u001b[32muse the term tenant_id to refer to a workspace ID. They are interchangeable.\\nIn the above GIF, we see that the \u001b[0m\n",
       "\u001b[32mcharges for LangSmith Traces are broken up by \"tenant_id\" \u001b[0m\u001b[32m(\u001b[0m\u001b[32mi.e. Workspace ID\u001b[0m\u001b[32m)\u001b[0m\u001b[32m, meaning we can track tracing \u001b[0m\n",
       "\u001b[32mspend\\non each of our workspaces. In the first few days of June, the vast majority of the total spend of ~$2,000 is\u001b[0m\n",
       "\u001b[32min our production\\nworkspace. Further, the majority of spend in that workspace was on extended data retention trace\u001b[0m\n",
       "\u001b[32mupgrades.\\nThese upgrades occur for two reasons:\\n\\nYou use extended data retention tracing, meaning that, by \u001b[0m\n",
       "\u001b[32mdefault, your traces are retained for 400 days\\nYou use base data retention tracing, and use a feature that \u001b[0m\n",
       "\u001b[32mautomatically extends the data retention of a trace \u001b[0m\u001b[32m(\u001b[0m\u001b[32msee our Auto-Upgrade conceptual docs\u001b[0m\u001b[32m)\u001b[0m\u001b[32m\\n\\nGiven that the number\u001b[0m\n",
       "\u001b[32mof total traces per day is equal to the number of extended retention traces per day, it\\'s most likely the\\ncase \u001b[0m\n",
       "\u001b[32mthat this org is using extended data retention tracing everywhere. As such, we start by optimizing our retention \u001b[0m\n",
       "\u001b[32msettings.\\nOptimization 1: manage data retention\\u200b\\nLangSmith charges differently based on a trace\\'s data \u001b[0m\n",
       "\u001b[32mretention \u001b[0m\u001b[32m(\u001b[0m\u001b[32msee our data retention conceptual docs\u001b[0m\u001b[32m)\u001b[0m\u001b[32m,\\nwhere short-lived traces are an order of magnitude less \u001b[0m\n",
       "\u001b[32mexpensive than ones that last for a long time. In this optimization, we will\\nshow how to get optimal settings for \u001b[0m\n",
       "\u001b[32mdata retention without sacrificing historical observability, and\\nshow the effect it has on our bill.\\nChange org \u001b[0m\n",
       "\u001b[32mlevel retention defaults for new projects\\u200b\\nNavigate to the Usage configuration tab, and look at our \u001b[0m\n",
       "\u001b[32morganization level retention settings. Modifying this setting affects all new projects that are created going \u001b[0m\n",
       "\u001b[32mforward in all workspaces in our org.\\nnoteFor backwards compatibility, older organizations may have this defaulted\u001b[0m\n",
       "\u001b[32mto Extended. Organizations created after June 3rd, 2024\\nhave this defaulted to Base.\\n\\nChange project level \u001b[0m\n",
       "\u001b[32mretention defaults\\u200b\\nData retention settings are adjustable per project on the tracing project page.\\nNavigate\u001b[0m\n",
       "\u001b[32mto Projects > Your project name > Select Retention and modify the default retention of the project to Base. This \u001b[0m\n",
       "\u001b[32mwill only affect retention \u001b[0m\u001b[32m(\u001b[0m\u001b[32mand pricing\u001b[0m\u001b[32m)\u001b[0m\u001b[32m for traces going forward.\\n\\nApply extended data retention to a percentage\u001b[0m\n",
       "\u001b[32mof traces\\u200b\\nYou may not want all traces to expire after 14 days. You can automatically extend the retention of\u001b[0m\n",
       "\u001b[32mtraces that match some criteria by creating an automation rule. You might want to apply extended data retention to \u001b[0m\n",
       "\u001b[32mspecific types of traces, such as:\\n\\n10% of all traces: For general analysis or analyzing trends \u001b[0m\n",
       "\u001b[32mlong-term\\nErrored traces: To thoroughly investigate and debug issues\\nTraces with specific metadata: For long-term\u001b[0m\n",
       "\u001b[32mexamination of particular features or user flows\\n\\nTo configure this:\\n\\nNavigate to Projects > Your project name \u001b[0m\n",
       "\u001b[32m> Select + New > Select New Automation\\nName your rule and optionally apply filters or a sample rate. For more \u001b[0m\n",
       "\u001b[32minformation on configuring filters, see filtering techniques\\n\\nnoteWhen an automation rule matches any run within \u001b[0m\n",
       "\u001b[32ma trace, then all runs within the trace are upgraded to be retained for 400 days.\\nFor example, this is what the \u001b[0m\n",
       "\u001b[32mconfiguration looks like to keep 10% of all traces for extended data retention:\\n\\nIf you want to keep a subset of \u001b[0m\n",
       "\u001b[32mtraces for longer than 400 days for data collection purposes, you can create another run\\nrule that sends some runs\u001b[0m\n",
       "\u001b[32mto a dataset of your choosing. A dataset allows you to store the trace inputs and outputs \u001b[0m\u001b[32m(\u001b[0m\u001b[32me.g., as a key-value \u001b[0m\n",
       "\u001b[32mdataset\u001b[0m\u001b[32m)\u001b[0m\u001b[32m,\\nand will persist indefinitely, even after the trace gets deleted.\\nSee results after 7 days\\u200b\\nWhile\u001b[0m\n",
       "\u001b[32mthe total amount of traces per day stayed the same, the extended data retention traces was cut heavily. In the \u001b[0m\n",
       "\u001b[32minvoice, we can see thatwe\\'ve only spent about $900 in the last 7 days, as opposed to $2,000 in the previous \u001b[0m\n",
       "\u001b[32m4.\\nThat\\'s a cost reduction of nearly 75% per day!\\n\\nOptimization 2: limit usage\\u200b\\nIn the previous section, \u001b[0m\n",
       "\u001b[32mwe managed data retention settings to optimize existing spend. In this section, we will\\nuse usage limits to \u001b[0m\n",
       "\u001b[32mprevent future overspend.\\nLangSmith has two usage limits: total traces and extended retention traces. These \u001b[0m\n",
       "\u001b[32mcorrespond to the two metrics we\\'ve\\nbeen tracking on our usage graph. We can use these in tandem to have granular\u001b[0m\n",
       "\u001b[32mcontrol over spend.\\nTo set limits, we navigate back to Settings -> Usage and Billing -> Usage configuration. There\u001b[0m\n",
       "\u001b[32mis a table at the\\nbottom of the page that lets you set usage limits per workspace. For each workspace, the two \u001b[0m\n",
       "\u001b[32mlimits appear, along\\nwith a cost estimate:\\n\\nLets start by setting limits on our production usage, since that is \u001b[0m\n",
       "\u001b[32mwhere the majority of spend comes from.\\nSetting a good total traces limit\\u200b\\nPicking the right \"total traces\" \u001b[0m\n",
       "\u001b[32mlimit depends on the expected load of traces that you will send to LangSmith. You should\\nclearly think about your \u001b[0m\n",
       "\u001b[32massumptions before setting a limit.\\nFor example:\\n\\nCurrent Load: Our gen AI application is called between 1.2-1.5\u001b[0m\n",
       "\u001b[32mtimes per second, and each API request has a trace associated with it,\\nmeaning we log around 100,000-130,000 \u001b[0m\n",
       "\u001b[32mtraces per day\\nExpected Growth in Load: We expect to double in size in the near future.\\n\\nFrom these assumptions,\u001b[0m\n",
       "\u001b[32mwe can do a quick back-of-the-envelope calculation to get a good limit of:\\nlimit = current_load_per_day * \u001b[0m\n",
       "\u001b[32mexpected_growth * days/month      = 130,000 * 2 * 30      = 7,800,000 traces / month\\nWe click on the edit icon on \u001b[0m\n",
       "\u001b[32mthe right side of the table for our Prod row, and can enter this limit as follows:\\n\\nnoteWhen set without the \u001b[0m\n",
       "\u001b[32mextended data retention traces limit, the maximum cost estimator assumes that all traces are using extended data \u001b[0m\n",
       "\u001b[32mretention.\\nCutting maximum spend with an extended data retention limit\\u200b\\nIf we are not a big enterprise, we \u001b[0m\n",
       "\u001b[32mmay shudder at the ~$40k per month bill.\\nWe saw from Optimization 1 that the easiest way to cut cost was through \u001b[0m\n",
       "\u001b[32mmanaging data retention.\\nThe same can be said for limits. If we only want to keep ~10% of traces to be around more\u001b[0m\n",
       "\u001b[32mthan 14 days, we can set a limit on the maximum\\nhigh retention traces we can keep. That would be .10 * 7,800,000 =\u001b[0m\n",
       "\u001b[32m780,000.\\n\\nAs we can see, the maximum cost is cut from ~40k per month to ~7.5k per month, because we no longer \u001b[0m\n",
       "\u001b[32mallow as many expensive\\ndata retention upgrades. This lets us be confident that new users on the platform will not\u001b[0m\n",
       "\u001b[32maccidentally cause cost to balloon.\\nnoteThe extended data retention limit can cause features other than traces to \u001b[0m\n",
       "\u001b[32mstop working once reached. If you plan to\\nuse this feature, please read more about its functionality here.\\nSet \u001b[0m\n",
       "\u001b[32mdev/staging limits and view total spent limit across workspaces\\u200b\\nFollowing the same logic for our dev and \u001b[0m\n",
       "\u001b[32mstaging environments, we set limits at 10% of the production\\nlimit on usage for each workspace.\\nWhile this works \u001b[0m\n",
       "\u001b[32mwith our usage pattern, setting good dev and staging limits may vary depending on\\nyour use case with LangSmith. \u001b[0m\n",
       "\u001b[32mFor example, if you run evals as part of CI/CD in dev or staging, you may\\nwant to be more liberal with your usage \u001b[0m\n",
       "\u001b[32mlimits to avoid test failures.\\nNow that our limits are set, we can see that LangSmith shows a maximum spend \u001b[0m\n",
       "\u001b[32mestimate across all workspaces:\\n\\nWith this estimator, we can be confident that we will not end up with an \u001b[0m\n",
       "\u001b[32munexpected credit card bill at the end of the month.\\nSummary\\u200b\\nIn this tutorial, we learned how to:\\n\\nCut \u001b[0m\n",
       "\u001b[32mdown our existing costs with data retention policies\\nPrevent future overspend with usage limits\\n\\nIf you have \u001b[0m\n",
       "\u001b[32mquestions about further optimizing your spend, please reach out to support@langchain.dev.Was this page helpful?You \u001b[0m\n",
       "\u001b[32mcan leave detailed feedback on GitHub.PreviousTutorialsNextAdministration how-to guidesProblem SetupUnderstand your\u001b[0m\n",
       "\u001b[32mcurrent usageUsage GraphInvoicesOptimization 1: manage data retentionChange org level retention defaults for new \u001b[0m\n",
       "\u001b[32mprojectsChange project level retention defaultsApply extended data retention to a percentage of tracesSee results \u001b[0m\n",
       "\u001b[32mafter 7 daysOptimization 2: limit usageSetting a good total traces limitCutting maximum spend with an extended data\u001b[0m\n",
       "\u001b[32mretention limitSet dev/staging limits and view total spent limit across workspacesSummaryCommunityLangChain \u001b[0m\n",
       "\u001b[32mForumTwitterGitHubDocs CodeLangSmith SDKPythonJS/TSMoreHomepageBlogLangChain Python DocsLangChain JS/TS \u001b[0m\n",
       "\u001b[32mDocsCopyright © 2025 LangChain, Inc.\\n\\n'\u001b[0m\n",
       "    \u001b[1m)\u001b[0m\n",
       "\u001b[1m]\u001b[0m\n"
      ]
     },
     "metadata": {},
     "output_type": "display_data"
    }
   ],
   "source": [
    "print(docs)"
   ]
  },
  {
   "cell_type": "code",
   "execution_count": 9,
   "id": "b280aa76",
   "metadata": {},
   "outputs": [
    {
     "data": {
      "text/plain": [
       "1"
      ]
     },
     "execution_count": 9,
     "metadata": {},
     "output_type": "execute_result"
    }
   ],
   "source": [
    "len(docs)"
   ]
  },
  {
   "cell_type": "markdown",
   "id": "51988de2",
   "metadata": {},
   "source": [
    "#### Work flow\n",
    "\n",
    "load Data--> Docs--> chunks --(embedding model)--> vectors -->vector Store DB"
   ]
  },
  {
   "cell_type": "code",
   "execution_count": 14,
   "id": "1256ebe9",
   "metadata": {},
   "outputs": [],
   "source": [
    "from langchain_text_splitters import RecursiveCharacterTextSplitter\n",
    "\n",
    "text_splitter=RecursiveCharacterTextSplitter(chunk_size=1000,chunk_overlap=200)\n",
    "\n",
    "chunks=text_splitter.split_documents(docs)\n"
   ]
  },
  {
   "cell_type": "code",
   "execution_count": 15,
   "id": "df62d323",
   "metadata": {},
   "outputs": [
    {
     "data": {
      "text/html": [
       "<pre style=\"white-space:pre;overflow-x:auto;line-height:normal;font-family:Menlo,'DejaVu Sans Mono',consolas,'Courier New',monospace\"><span style=\"font-weight: bold\">[</span>\n",
       "    <span style=\"color: #800080; text-decoration-color: #800080; font-weight: bold\">Document</span><span style=\"font-weight: bold\">(</span>\n",
       "        <span style=\"color: #808000; text-decoration-color: #808000\">metadata</span>=<span style=\"font-weight: bold\">{</span>\n",
       "            <span style=\"color: #008000; text-decoration-color: #008000\">'source'</span>: <span style=\"color: #008000; text-decoration-color: #008000\">'https://docs.smith.langchain.com/administration/tutorials/manage_spend'</span>,\n",
       "            <span style=\"color: #008000; text-decoration-color: #008000\">'title'</span>: <span style=\"color: #008000; text-decoration-color: #008000\">'Optimize tracing spend on LangSmith | 🦜️🛠️ LangSmith'</span>,\n",
       "            <span style=\"color: #008000; text-decoration-color: #008000\">'description'</span>: <span style=\"color: #008000; text-decoration-color: #008000\">'Before diving into this content, it might be helpful to read the following:'</span>,\n",
       "            <span style=\"color: #008000; text-decoration-color: #008000\">'language'</span>: <span style=\"color: #008000; text-decoration-color: #008000\">'en'</span>\n",
       "        <span style=\"font-weight: bold\">}</span>,\n",
       "        <span style=\"color: #808000; text-decoration-color: #808000\">page_content</span>=<span style=\"color: #008000; text-decoration-color: #008000\">'Optimize tracing spend on LangSmith | 🦜️🛠️ LangSmith\\n\\n\\n\\n\\n\\n\\n\\n\\nSkip to main contentOur</span>\n",
       "<span style=\"color: #008000; text-decoration-color: #008000\">new LangChain Academy Course Deep Research with LangGraph is now live! Enroll for free.API </span>\n",
       "<span style=\"color: #008000; text-decoration-color: #008000\">ReferenceRESTPythonJS/TSSearchRegionUSEUGo to AppGet StartedObservabilityEvaluationPrompt EngineeringDeployment </span>\n",
       "<span style=\"color: #008000; text-decoration-color: #008000\">(LangGraph Platform)AdministrationTutorialsOptimize tracing spend on LangSmithHow-to GuidesSetupConceptual </span>\n",
       "<span style=\"color: #008000; text-decoration-color: #008000\">GuideSelf-hostingPricingReferenceCloud architecture and scalabilityAuthz and AuthnAuthentication </span>\n",
       "<span style=\"color: #008000; text-decoration-color: #008000\">methodsdata_formatsEvaluationDataset transformationsRegions FAQsdk_referenceAdministrationTutorialsOptimize tracing</span>\n",
       "<span style=\"color: #008000; text-decoration-color: #008000\">spend on LangSmithOn this pageOptimize tracing spend on LangSmith\\nRecommended ReadingBefore diving into this </span>\n",
       "<span style=\"color: #008000; text-decoration-color: #008000\">content, it might be helpful to read the following:\\nData Retention Conceptual Docs\\nUsage Limiting Conceptual </span>\n",
       "<span style=\"color: #008000; text-decoration-color: #008000\">Docs'</span>\n",
       "    <span style=\"font-weight: bold\">)</span>,\n",
       "    <span style=\"color: #800080; text-decoration-color: #800080; font-weight: bold\">Document</span><span style=\"font-weight: bold\">(</span>\n",
       "        <span style=\"color: #808000; text-decoration-color: #808000\">metadata</span>=<span style=\"font-weight: bold\">{</span>\n",
       "            <span style=\"color: #008000; text-decoration-color: #008000\">'source'</span>: <span style=\"color: #008000; text-decoration-color: #008000\">'https://docs.smith.langchain.com/administration/tutorials/manage_spend'</span>,\n",
       "            <span style=\"color: #008000; text-decoration-color: #008000\">'title'</span>: <span style=\"color: #008000; text-decoration-color: #008000\">'Optimize tracing spend on LangSmith | 🦜️🛠️ LangSmith'</span>,\n",
       "            <span style=\"color: #008000; text-decoration-color: #008000\">'description'</span>: <span style=\"color: #008000; text-decoration-color: #008000\">'Before diving into this content, it might be helpful to read the following:'</span>,\n",
       "            <span style=\"color: #008000; text-decoration-color: #008000\">'language'</span>: <span style=\"color: #008000; text-decoration-color: #008000\">'en'</span>\n",
       "        <span style=\"font-weight: bold\">}</span>,\n",
       "        <span style=\"color: #808000; text-decoration-color: #808000\">page_content</span>=<span style=\"color: #008000; text-decoration-color: #008000\">'noteSome of the features mentioned in this guide are not currently available in Enterprise </span>\n",
       "<span style=\"color: #008000; text-decoration-color: #008000\">plan due to its\\ncustom nature of billing. If you are on Enterprise plan and have questions about cost </span>\n",
       "<span style=\"color: #008000; text-decoration-color: #008000\">optimization,\\nplease reach out to your sales rep or support@langchain.dev.\\nThis tutorial walks through optimizing</span>\n",
       "<span style=\"color: #008000; text-decoration-color: #008000\">your spend on LangSmith. In it, we will learn how to optimize existing spend\\nand prevent future overspend on a </span>\n",
       "<span style=\"color: #008000; text-decoration-color: #008000\">realistic real-world example. We will use an existing LangSmith organization with high usage.\\nConcepts can be </span>\n",
       "<span style=\"color: #008000; text-decoration-color: #008000\">transferred to your own organization.\\nProblem Setup\\u200b\\nIn this tutorial, we take an existing organization that</span>\n",
       "<span style=\"color: #008000; text-decoration-color: #008000\">has three workspaces, one for each deployment stage\\n(Dev, Staging, and Prod):'</span>\n",
       "    <span style=\"font-weight: bold\">)</span>\n",
       "<span style=\"font-weight: bold\">]</span>\n",
       "</pre>\n"
      ],
      "text/plain": [
       "\u001b[1m[\u001b[0m\n",
       "    \u001b[1;35mDocument\u001b[0m\u001b[1m(\u001b[0m\n",
       "        \u001b[33mmetadata\u001b[0m=\u001b[1m{\u001b[0m\n",
       "            \u001b[32m'source'\u001b[0m: \u001b[32m'https://docs.smith.langchain.com/administration/tutorials/manage_spend'\u001b[0m,\n",
       "            \u001b[32m'title'\u001b[0m: \u001b[32m'Optimize tracing spend on LangSmith | 🦜️🛠️ LangSmith'\u001b[0m,\n",
       "            \u001b[32m'description'\u001b[0m: \u001b[32m'Before diving into this content, it might be helpful to read the following:'\u001b[0m,\n",
       "            \u001b[32m'language'\u001b[0m: \u001b[32m'en'\u001b[0m\n",
       "        \u001b[1m}\u001b[0m,\n",
       "        \u001b[33mpage_content\u001b[0m=\u001b[32m'Optimize tracing spend on LangSmith | 🦜️🛠️ LangSmith\\n\\n\\n\\n\\n\\n\\n\\n\\nSkip to main contentOur\u001b[0m\n",
       "\u001b[32mnew LangChain Academy Course Deep Research with LangGraph is now live! Enroll for free.API \u001b[0m\n",
       "\u001b[32mReferenceRESTPythonJS/TSSearchRegionUSEUGo to AppGet StartedObservabilityEvaluationPrompt EngineeringDeployment \u001b[0m\n",
       "\u001b[32m(\u001b[0m\u001b[32mLangGraph Platform\u001b[0m\u001b[32m)\u001b[0m\u001b[32mAdministrationTutorialsOptimize tracing spend on LangSmithHow-to GuidesSetupConceptual \u001b[0m\n",
       "\u001b[32mGuideSelf-hostingPricingReferenceCloud architecture and scalabilityAuthz and AuthnAuthentication \u001b[0m\n",
       "\u001b[32mmethodsdata_formatsEvaluationDataset transformationsRegions FAQsdk_referenceAdministrationTutorialsOptimize tracing\u001b[0m\n",
       "\u001b[32mspend on LangSmithOn this pageOptimize tracing spend on LangSmith\\nRecommended ReadingBefore diving into this \u001b[0m\n",
       "\u001b[32mcontent, it might be helpful to read the following:\\nData Retention Conceptual Docs\\nUsage Limiting Conceptual \u001b[0m\n",
       "\u001b[32mDocs'\u001b[0m\n",
       "    \u001b[1m)\u001b[0m,\n",
       "    \u001b[1;35mDocument\u001b[0m\u001b[1m(\u001b[0m\n",
       "        \u001b[33mmetadata\u001b[0m=\u001b[1m{\u001b[0m\n",
       "            \u001b[32m'source'\u001b[0m: \u001b[32m'https://docs.smith.langchain.com/administration/tutorials/manage_spend'\u001b[0m,\n",
       "            \u001b[32m'title'\u001b[0m: \u001b[32m'Optimize tracing spend on LangSmith | 🦜️🛠️ LangSmith'\u001b[0m,\n",
       "            \u001b[32m'description'\u001b[0m: \u001b[32m'Before diving into this content, it might be helpful to read the following:'\u001b[0m,\n",
       "            \u001b[32m'language'\u001b[0m: \u001b[32m'en'\u001b[0m\n",
       "        \u001b[1m}\u001b[0m,\n",
       "        \u001b[33mpage_content\u001b[0m=\u001b[32m'noteSome of the features mentioned in this guide are not currently available in Enterprise \u001b[0m\n",
       "\u001b[32mplan due to its\\ncustom nature of billing. If you are on Enterprise plan and have questions about cost \u001b[0m\n",
       "\u001b[32moptimization,\\nplease reach out to your sales rep or support@langchain.dev.\\nThis tutorial walks through optimizing\u001b[0m\n",
       "\u001b[32myour spend on LangSmith. In it, we will learn how to optimize existing spend\\nand prevent future overspend on a \u001b[0m\n",
       "\u001b[32mrealistic real-world example. We will use an existing LangSmith organization with high usage.\\nConcepts can be \u001b[0m\n",
       "\u001b[32mtransferred to your own organization.\\nProblem Setup\\u200b\\nIn this tutorial, we take an existing organization that\u001b[0m\n",
       "\u001b[32mhas three workspaces, one for each deployment stage\\n\u001b[0m\u001b[32m(\u001b[0m\u001b[32mDev, Staging, and Prod\u001b[0m\u001b[32m)\u001b[0m\u001b[32m:'\u001b[0m\n",
       "    \u001b[1m)\u001b[0m\n",
       "\u001b[1m]\u001b[0m\n"
      ]
     },
     "metadata": {},
     "output_type": "display_data"
    }
   ],
   "source": [
    "print(chunks[:2]) # first two chunks"
   ]
  },
  {
   "cell_type": "code",
   "execution_count": 17,
   "id": "04a04966",
   "metadata": {},
   "outputs": [
    {
     "data": {
      "text/plain": [
       "17"
      ]
     },
     "execution_count": 17,
     "metadata": {},
     "output_type": "execute_result"
    }
   ],
   "source": [
    "len(chunks) # we have total 17 chunks"
   ]
  },
  {
   "cell_type": "markdown",
   "id": "86820c58",
   "metadata": {},
   "source": [
    "#### Embeddings"
   ]
  },
  {
   "cell_type": "code",
   "execution_count": 18,
   "id": "4c773ef6",
   "metadata": {},
   "outputs": [],
   "source": [
    "from langchain_openai import OpenAIEmbeddings\n",
    "embeddings=OpenAIEmbeddings()\n"
   ]
  },
  {
   "cell_type": "code",
   "execution_count": 21,
   "id": "96a697c9",
   "metadata": {},
   "outputs": [],
   "source": [
    "from langchain_community.vectorstores import FAISS \n",
    "\n",
    "vector_db=FAISS.from_documents(chunks,embedding=embeddings)"
   ]
  },
  {
   "cell_type": "code",
   "execution_count": 23,
   "id": "b8b9b17a",
   "metadata": {},
   "outputs": [
    {
     "data": {
      "text/plain": [
       "<langchain_community.vectorstores.faiss.FAISS at 0x11f619540>"
      ]
     },
     "execution_count": 23,
     "metadata": {},
     "output_type": "execute_result"
    }
   ],
   "source": [
    "vector_db"
   ]
  },
  {
   "cell_type": "code",
   "execution_count": 24,
   "id": "1e8b5918",
   "metadata": {},
   "outputs": [],
   "source": [
    "query=\"LangSmith has tow usage limits:total traces and extended\""
   ]
  },
  {
   "cell_type": "code",
   "execution_count": 25,
   "id": "289aa9e8",
   "metadata": {},
   "outputs": [],
   "source": [
    "results=vector_db.similarity_search(query)"
   ]
  },
  {
   "cell_type": "code",
   "execution_count": 28,
   "id": "6e3d2499",
   "metadata": {},
   "outputs": [
    {
     "data": {
      "text/html": [
       "<pre style=\"white-space:pre;overflow-x:auto;line-height:normal;font-family:Menlo,'DejaVu Sans Mono',consolas,'Courier New',monospace\">Optimization <span style=\"color: #008080; text-decoration-color: #008080; font-weight: bold\">2</span>: limit usage​\n",
       "In the previous section, we managed data retention settings to optimize existing spend. In this section, we will\n",
       "use usage limits to prevent future overspend.\n",
       "LangSmith has two usage limits: total traces and extended retention traces. These correspond to the two metrics \n",
       "we've\n",
       "been tracking on our usage graph. We can use these in tandem to have granular control over spend.\n",
       "To set limits, we navigate back to Settings -&gt; Usage and Billing -&gt; Usage configuration. There is a table at the\n",
       "bottom of the page that lets you set usage limits per workspace. For each workspace, the two limits appear, along\n",
       "with a cost estimate:\n",
       "\n",
       "Lets start by setting limits on our production usage, since that is where the majority of spend comes from.\n",
       "Setting a good total traces limit​\n",
       "Picking the right <span style=\"color: #008000; text-decoration-color: #008000\">\"total traces\"</span> limit depends on the expected load of traces that you will send to LangSmith. You \n",
       "should\n",
       "clearly think about your assumptions before setting a limit.\n",
       "For example:\n",
       "</pre>\n"
      ],
      "text/plain": [
       "Optimization \u001b[1;36m2\u001b[0m: limit usage​\n",
       "In the previous section, we managed data retention settings to optimize existing spend. In this section, we will\n",
       "use usage limits to prevent future overspend.\n",
       "LangSmith has two usage limits: total traces and extended retention traces. These correspond to the two metrics \n",
       "we've\n",
       "been tracking on our usage graph. We can use these in tandem to have granular control over spend.\n",
       "To set limits, we navigate back to Settings -> Usage and Billing -> Usage configuration. There is a table at the\n",
       "bottom of the page that lets you set usage limits per workspace. For each workspace, the two limits appear, along\n",
       "with a cost estimate:\n",
       "\n",
       "Lets start by setting limits on our production usage, since that is where the majority of spend comes from.\n",
       "Setting a good total traces limit​\n",
       "Picking the right \u001b[32m\"total traces\"\u001b[0m limit depends on the expected load of traces that you will send to LangSmith. You \n",
       "should\n",
       "clearly think about your assumptions before setting a limit.\n",
       "For example:\n"
      ]
     },
     "metadata": {},
     "output_type": "display_data"
    }
   ],
   "source": [
    "print(results[0].page_content)"
   ]
  },
  {
   "cell_type": "code",
   "execution_count": 30,
   "id": "f03de576",
   "metadata": {},
   "outputs": [],
   "source": [
    "from langchain_openai import ChatOpenAI\n",
    "from langchain_groq import ChatGroq\n",
    "llm_groq=ChatGroq(model=\"openai/gpt-oss-20b\")  \n",
    "llm_openai=ChatOpenAI(model=\"gpt-5\")"
   ]
  },
  {
   "cell_type": "markdown",
   "id": "22f526b7",
   "metadata": {},
   "source": [
    "#### Retrieval chain , Document chain"
   ]
  },
  {
   "cell_type": "code",
   "execution_count": 31,
   "id": "730da226",
   "metadata": {},
   "outputs": [],
   "source": [
    "# create a chain for passing a list of documents to a model \n",
    "from langchain.chains.combine_documents import create_stuff_documents_chain \n",
    "from langchain_core.prompts import ChatPromptTemplate\n",
    "prompt=ChatPromptTemplate.from_template(\n",
    "\"\"\"\n",
    "    Answer the following question based only on the provided context:\n",
    "    <context>\n",
    "        {context}\n",
    "    </context>\n",
    "\n",
    "\n",
    "\"\"\"\n",
    ")\n",
    "\n",
    "document_chain=create_stuff_documents_chain(llm_openai,prompt)\n",
    "\n"
   ]
  },
  {
   "cell_type": "code",
   "execution_count": null,
   "id": "46b530d8",
   "metadata": {},
   "outputs": [
    {
     "data": {
      "text/plain": [
       "RunnableBinding(bound=RunnableBinding(bound=RunnableAssign(mapper={\n",
       "  context: RunnableLambda(format_docs)\n",
       "}), kwargs={}, config={'run_name': 'format_inputs'}, config_factories=[])\n",
       "| ChatPromptTemplate(input_variables=['context'], input_types={}, partial_variables={}, messages=[HumanMessagePromptTemplate(prompt=PromptTemplate(input_variables=['context'], input_types={}, partial_variables={}, template='\\n    Answer the following question based only on the provided context:\\n    <context>\\n        {context}\\n    </context>\\n\\n\\n'), additional_kwargs={})])\n",
       "| ChatOpenAI(client=<openai.resources.chat.completions.completions.Completions object at 0x138cc16c0>, async_client=<openai.resources.chat.completions.completions.AsyncCompletions object at 0x138cc0b80>, root_client=<openai.OpenAI object at 0x138cc1f00>, root_async_client=<openai.AsyncOpenAI object at 0x138cc2230>, model_name='gpt-5', model_kwargs={}, openai_api_key=SecretStr('**********'))\n",
       "| StrOutputParser(), kwargs={}, config={'run_name': 'stuff_documents_chain'}, config_factories=[])"
      ]
     },
     "execution_count": 34,
     "metadata": {},
     "output_type": "execute_result"
    }
   ],
   "source": [
    "document_chain # chain --> prompt | llm | output parser"
   ]
  },
  {
   "cell_type": "code",
   "execution_count": null,
   "id": "455c0c53",
   "metadata": {},
   "outputs": [
    {
     "data": {
      "text/html": [
       "<pre style=\"white-space:pre;overflow-x:auto;line-height:normal;font-family:Menlo,'DejaVu Sans Mono',consolas,'Courier New',monospace\">LangSmith has two usage limits: total traces and extended, which correspond to the two metrics tracked on the usage\n",
       "graph.\n",
       "</pre>\n"
      ],
      "text/plain": [
       "LangSmith has two usage limits: total traces and extended, which correspond to the two metrics tracked on the usage\n",
       "graph.\n"
      ]
     },
     "metadata": {},
     "output_type": "display_data"
    }
   ],
   "source": [
    "from langchain_core.documents import Document\n",
    "\n",
    "results_chain=document_chain.invoke(\n",
    "\n",
    "    {\n",
    "        \"input\":\"LangSmith has tow usage limits:total traces and extended\",\n",
    "        \"context\":[Document(page_content='''LangSmith has tow usage limits:total traces and extended.\n",
    "                            These correspond to the two metrics we've been tracking on our usage graph. ''')]\n",
    "    }\n",
    ")\n",
    "print(results_chain)"
   ]
  },
  {
   "cell_type": "markdown",
   "id": "832f9838",
   "metadata": {},
   "source": [
    "However, we want the documents to first come from the retriever we just set up.That way, we can use the retriever to dynamically select the most relevant documents and pass those in for a given question."
   ]
  },
  {
   "cell_type": "markdown",
   "id": "e2f5f154",
   "metadata": {},
   "source": [
    "### Input --> Retriever ----> vectorStoreDB\n",
    "\n",
    "we will convert vector DB into retriever , so no need to use similarity search and easy to use in chain "
   ]
  },
  {
   "cell_type": "code",
   "execution_count": 37,
   "id": "bf583ad4",
   "metadata": {},
   "outputs": [
    {
     "data": {
      "text/plain": [
       "VectorStoreRetriever(tags=['FAISS', 'OpenAIEmbeddings'], vectorstore=<langchain_community.vectorstores.faiss.FAISS object at 0x11f619540>, search_kwargs={})"
      ]
     },
     "execution_count": 37,
     "metadata": {},
     "output_type": "execute_result"
    }
   ],
   "source": [
    "# create a retriever \n",
    "\n",
    "retriever=vector_db.as_retriever()\n",
    "retriever"
   ]
  },
  {
   "cell_type": "code",
   "execution_count": 48,
   "id": "ab792d34",
   "metadata": {},
   "outputs": [
    {
     "data": {
      "text/plain": [
       "RunnableBinding(bound=RunnableAssign(mapper={\n",
       "  context: RunnableBinding(bound=RunnableLambda(lambda x: x['input'])\n",
       "           | VectorStoreRetriever(tags=['FAISS', 'OpenAIEmbeddings'], vectorstore=<langchain_community.vectorstores.faiss.FAISS object at 0x11f619540>, search_kwargs={}), kwargs={}, config={'run_name': 'retrieve_documents'}, config_factories=[])\n",
       "})\n",
       "| RunnableAssign(mapper={\n",
       "    answer: RunnableBinding(bound=RunnableBinding(bound=RunnableAssign(mapper={\n",
       "              context: RunnableLambda(format_docs)\n",
       "            }), kwargs={}, config={'run_name': 'format_inputs'}, config_factories=[])\n",
       "            | ChatPromptTemplate(input_variables=['context'], input_types={}, partial_variables={}, messages=[HumanMessagePromptTemplate(prompt=PromptTemplate(input_variables=['context'], input_types={}, partial_variables={}, template='\\n    Answer the following question based only on the provided context:\\n    <context>\\n        {context}\\n    </context>\\n\\n\\n'), additional_kwargs={})])\n",
       "            | ChatOpenAI(client=<openai.resources.chat.completions.completions.Completions object at 0x138cc16c0>, async_client=<openai.resources.chat.completions.completions.AsyncCompletions object at 0x138cc0b80>, root_client=<openai.OpenAI object at 0x138cc1f00>, root_async_client=<openai.AsyncOpenAI object at 0x138cc2230>, model_name='gpt-5', model_kwargs={}, openai_api_key=SecretStr('**********'))\n",
       "            | StrOutputParser(), kwargs={}, config={'run_name': 'stuff_documents_chain'}, config_factories=[])\n",
       "  }), kwargs={}, config={'run_name': 'retrieval_chain'}, config_factories=[])"
      ]
     },
     "execution_count": 48,
     "metadata": {},
     "output_type": "execute_result"
    }
   ],
   "source": [
    "from langchain.chains import create_retrieval_chain\n",
    "retrieval_chain=create_retrieval_chain(retriever,document_chain)\n",
    "retrieval_chain"
   ]
  },
  {
   "cell_type": "code",
   "execution_count": 43,
   "id": "4218160b",
   "metadata": {},
   "outputs": [],
   "source": [
    "## Get the response from the llm \n",
    "respomse_RC=retrieval_chain.invoke({\"input\":\"LangSmith has tow usage limits:total traces and extended\"})\n"
   ]
  },
  {
   "cell_type": "code",
   "execution_count": 51,
   "id": "47673d76",
   "metadata": {},
   "outputs": [
    {
     "data": {
      "text/html": [
       "<pre style=\"white-space:pre;overflow-x:auto;line-height:normal;font-family:Menlo,'DejaVu Sans Mono',consolas,'Courier New',monospace\">I don’t see a specific question in your message. Could you please provide the question you want answered based on \n",
       "the context?\n",
       "</pre>\n"
      ],
      "text/plain": [
       "I don’t see a specific question in your message. Could you please provide the question you want answered based on \n",
       "the context?\n"
      ]
     },
     "metadata": {},
     "output_type": "display_data"
    }
   ],
   "source": [
    "print(respomse_RC['answer'])"
   ]
  },
  {
   "cell_type": "code",
   "execution_count": 53,
   "id": "8c730da9",
   "metadata": {},
   "outputs": [
    {
     "data": {
      "text/html": [
       "<pre style=\"white-space:pre;overflow-x:auto;line-height:normal;font-family:Menlo,'DejaVu Sans Mono',consolas,'Courier New',monospace\"><span style=\"font-weight: bold\">{</span>\n",
       "    <span style=\"color: #008000; text-decoration-color: #008000\">'input'</span>: <span style=\"color: #008000; text-decoration-color: #008000\">'LangSmith has tow usage limits:total traces and extended'</span>,\n",
       "    <span style=\"color: #008000; text-decoration-color: #008000\">'context'</span>: <span style=\"font-weight: bold\">[</span>\n",
       "        <span style=\"color: #800080; text-decoration-color: #800080; font-weight: bold\">Document</span><span style=\"font-weight: bold\">(</span>\n",
       "            <span style=\"color: #808000; text-decoration-color: #808000\">id</span>=<span style=\"color: #008000; text-decoration-color: #008000\">'c9d828b1-2bac-4e1d-8791-7a897a1e1a52'</span>,\n",
       "            <span style=\"color: #808000; text-decoration-color: #808000\">metadata</span>=<span style=\"font-weight: bold\">{</span>\n",
       "                <span style=\"color: #008000; text-decoration-color: #008000\">'source'</span>: <span style=\"color: #008000; text-decoration-color: #008000\">'https://docs.smith.langchain.com/administration/tutorials/manage_spend'</span>,\n",
       "                <span style=\"color: #008000; text-decoration-color: #008000\">'title'</span>: <span style=\"color: #008000; text-decoration-color: #008000\">'Optimize tracing spend on LangSmith | 🦜️🛠️ LangSmith'</span>,\n",
       "                <span style=\"color: #008000; text-decoration-color: #008000\">'description'</span>: <span style=\"color: #008000; text-decoration-color: #008000\">'Before diving into this content, it might be helpful to read the following:'</span>,\n",
       "                <span style=\"color: #008000; text-decoration-color: #008000\">'language'</span>: <span style=\"color: #008000; text-decoration-color: #008000\">'en'</span>\n",
       "            <span style=\"font-weight: bold\">}</span>,\n",
       "            <span style=\"color: #808000; text-decoration-color: #808000\">page_content</span>=<span style=\"color: #008000; text-decoration-color: #008000\">'Optimization 2: limit usage\\u200b\\nIn the previous section, we managed data retention </span>\n",
       "<span style=\"color: #008000; text-decoration-color: #008000\">settings to optimize existing spend. In this section, we will\\nuse usage limits to prevent future </span>\n",
       "<span style=\"color: #008000; text-decoration-color: #008000\">overspend.\\nLangSmith has two usage limits: total traces and extended retention traces. These correspond to the two</span>\n",
       "<span style=\"color: #008000; text-decoration-color: #008000\">metrics we\\'ve\\nbeen tracking on our usage graph. We can use these in tandem to have granular control over </span>\n",
       "<span style=\"color: #008000; text-decoration-color: #008000\">spend.\\nTo set limits, we navigate back to Settings -&gt; Usage and Billing -&gt; Usage configuration. There is a table </span>\n",
       "<span style=\"color: #008000; text-decoration-color: #008000\">at the\\nbottom of the page that lets you set usage limits per workspace. For each workspace, the two limits appear,</span>\n",
       "<span style=\"color: #008000; text-decoration-color: #008000\">along\\nwith a cost estimate:\\n\\nLets start by setting limits on our production usage, since that is where the </span>\n",
       "<span style=\"color: #008000; text-decoration-color: #008000\">majority of spend comes from.\\nSetting a good total traces limit\\u200b\\nPicking the right \"total traces\" limit </span>\n",
       "<span style=\"color: #008000; text-decoration-color: #008000\">depends on the expected load of traces that you will send to LangSmith. You should\\nclearly think about your </span>\n",
       "<span style=\"color: #008000; text-decoration-color: #008000\">assumptions before setting a limit.\\nFor example:'</span>\n",
       "        <span style=\"font-weight: bold\">)</span>,\n",
       "        <span style=\"color: #800080; text-decoration-color: #800080; font-weight: bold\">Document</span><span style=\"font-weight: bold\">(</span>\n",
       "            <span style=\"color: #808000; text-decoration-color: #808000\">id</span>=<span style=\"color: #008000; text-decoration-color: #008000\">'68c9a66b-f5e2-4cfb-ad24-7d76cf13ee14'</span>,\n",
       "            <span style=\"color: #808000; text-decoration-color: #808000\">metadata</span>=<span style=\"font-weight: bold\">{</span>\n",
       "                <span style=\"color: #008000; text-decoration-color: #008000\">'source'</span>: <span style=\"color: #008000; text-decoration-color: #008000\">'https://docs.smith.langchain.com/administration/tutorials/manage_spend'</span>,\n",
       "                <span style=\"color: #008000; text-decoration-color: #008000\">'title'</span>: <span style=\"color: #008000; text-decoration-color: #008000\">'Optimize tracing spend on LangSmith | 🦜️🛠️ LangSmith'</span>,\n",
       "                <span style=\"color: #008000; text-decoration-color: #008000\">'description'</span>: <span style=\"color: #008000; text-decoration-color: #008000\">'Before diving into this content, it might be helpful to read the following:'</span>,\n",
       "                <span style=\"color: #008000; text-decoration-color: #008000\">'language'</span>: <span style=\"color: #008000; text-decoration-color: #008000\">'en'</span>\n",
       "            <span style=\"font-weight: bold\">}</span>,\n",
       "            <span style=\"color: #808000; text-decoration-color: #808000\">page_content</span>=<span style=\"color: #008000; text-decoration-color: #008000\">\"The first metric tracks all traces that you send to LangSmith. The second tracks all </span>\n",
       "<span style=\"color: #008000; text-decoration-color: #008000\">traces that also have our Extended 400 Day Data Retention.\\nFor more details, see our data retention conceptual </span>\n",
       "<span style=\"color: #008000; text-decoration-color: #008000\">docs. Notice that these graphs look\\nidentical, which will come into play later in the tutorial.\\nLangSmith Traces </span>\n",
       "<span style=\"color: #008000; text-decoration-color: #008000\">usage is measured per workspace, because workspaces often represent development environments (as in our </span>\n",
       "<span style=\"color: #008000; text-decoration-color: #008000\">example),\\nor teams within an organization. As a LangSmith administrator, we want to understand spend granularly </span>\n",
       "<span style=\"color: #008000; text-decoration-color: #008000\">per each of these units. In\\nthis case where we just want to cut spend, we can focus on the environment responsible</span>\n",
       "<span style=\"color: #008000; text-decoration-color: #008000\">for the majority of costs first for the greatest savings.\\nInvoices\\u200b\\nWe understand what usage looks like in </span>\n",
       "<span style=\"color: #008000; text-decoration-color: #008000\">terms of traces, but we now need to translate that into spend. To do so,\\nwe head to the Invoices tab. The first </span>\n",
       "<span style=\"color: #008000; text-decoration-color: #008000\">invoice that will appear on screen is a draft of your current month's\\ninvoice, which shows your running spend thus</span>\n",
       "<span style=\"color: #008000; text-decoration-color: #008000\">far this month.\"</span>\n",
       "        <span style=\"font-weight: bold\">)</span>,\n",
       "        <span style=\"color: #800080; text-decoration-color: #800080; font-weight: bold\">Document</span><span style=\"font-weight: bold\">(</span>\n",
       "            <span style=\"color: #808000; text-decoration-color: #808000\">id</span>=<span style=\"color: #008000; text-decoration-color: #008000\">'565fe570-b785-4e4c-866e-b4064c39feca'</span>,\n",
       "            <span style=\"color: #808000; text-decoration-color: #808000\">metadata</span>=<span style=\"font-weight: bold\">{</span>\n",
       "                <span style=\"color: #008000; text-decoration-color: #008000\">'source'</span>: <span style=\"color: #008000; text-decoration-color: #008000\">'https://docs.smith.langchain.com/administration/tutorials/manage_spend'</span>,\n",
       "                <span style=\"color: #008000; text-decoration-color: #008000\">'title'</span>: <span style=\"color: #008000; text-decoration-color: #008000\">'Optimize tracing spend on LangSmith | 🦜️🛠️ LangSmith'</span>,\n",
       "                <span style=\"color: #008000; text-decoration-color: #008000\">'description'</span>: <span style=\"color: #008000; text-decoration-color: #008000\">'Before diving into this content, it might be helpful to read the following:'</span>,\n",
       "                <span style=\"color: #008000; text-decoration-color: #008000\">'language'</span>: <span style=\"color: #008000; text-decoration-color: #008000\">'en'</span>\n",
       "            <span style=\"font-weight: bold\">}</span>,\n",
       "            <span style=\"color: #808000; text-decoration-color: #808000\">page_content</span>=<span style=\"color: #008000; text-decoration-color: #008000\">'Understand your current usage\\u200b\\nThe first step of any optimization process is to </span>\n",
       "<span style=\"color: #008000; text-decoration-color: #008000\">understand current usage. LangSmith gives two ways to do this: Usage Graph\\nand Invoices.\\nUsage Graph\\u200b\\nThe </span>\n",
       "<span style=\"color: #008000; text-decoration-color: #008000\">usage graph lets us examine how much of each usage based pricing metric we have consumed lately. It does not </span>\n",
       "<span style=\"color: #008000; text-decoration-color: #008000\">directly show\\nspend (which we will see later on our draft invoice).\\nWe can navigate to the Usage Graph under </span>\n",
       "<span style=\"color: #008000; text-decoration-color: #008000\">Settings -&gt; Usage and Billing -&gt; Usage Graph.\\n\\nWe see in the graph above that there are two usage metrics that </span>\n",
       "<span style=\"color: #008000; text-decoration-color: #008000\">LangSmith charges for:\\n\\nLangSmith Traces (Base Charge)\\nLangSmith Traces (Extended Data Retention Upgrades).'</span>\n",
       "        <span style=\"font-weight: bold\">)</span>,\n",
       "        <span style=\"color: #800080; text-decoration-color: #800080; font-weight: bold\">Document</span><span style=\"font-weight: bold\">(</span>\n",
       "            <span style=\"color: #808000; text-decoration-color: #808000\">id</span>=<span style=\"color: #008000; text-decoration-color: #008000\">'9cf35a08-50a7-4efa-a9cd-422f4b9c6d1f'</span>,\n",
       "            <span style=\"color: #808000; text-decoration-color: #808000\">metadata</span>=<span style=\"font-weight: bold\">{</span>\n",
       "                <span style=\"color: #008000; text-decoration-color: #008000\">'source'</span>: <span style=\"color: #008000; text-decoration-color: #008000\">'https://docs.smith.langchain.com/administration/tutorials/manage_spend'</span>,\n",
       "                <span style=\"color: #008000; text-decoration-color: #008000\">'title'</span>: <span style=\"color: #008000; text-decoration-color: #008000\">'Optimize tracing spend on LangSmith | 🦜️🛠️ LangSmith'</span>,\n",
       "                <span style=\"color: #008000; text-decoration-color: #008000\">'description'</span>: <span style=\"color: #008000; text-decoration-color: #008000\">'Before diving into this content, it might be helpful to read the following:'</span>,\n",
       "                <span style=\"color: #008000; text-decoration-color: #008000\">'language'</span>: <span style=\"color: #008000; text-decoration-color: #008000\">'en'</span>\n",
       "            <span style=\"font-weight: bold\">}</span>,\n",
       "            <span style=\"color: #808000; text-decoration-color: #808000\">page_content</span>=<span style=\"color: #008000; text-decoration-color: #008000\">'your use case with LangSmith. For example, if you run evals as part of CI/CD in dev or </span>\n",
       "<span style=\"color: #008000; text-decoration-color: #008000\">staging, you may\\nwant to be more liberal with your usage limits to avoid test failures.\\nNow that our limits are </span>\n",
       "<span style=\"color: #008000; text-decoration-color: #008000\">set, we can see that LangSmith shows a maximum spend estimate across all workspaces:'</span>\n",
       "        <span style=\"font-weight: bold\">)</span>\n",
       "    <span style=\"font-weight: bold\">]</span>,\n",
       "    <span style=\"color: #008000; text-decoration-color: #008000\">'answer'</span>: <span style=\"color: #008000; text-decoration-color: #008000\">'I don’t see a specific question in your message. Could you please provide the question you want </span>\n",
       "<span style=\"color: #008000; text-decoration-color: #008000\">answered based on the context?'</span>\n",
       "<span style=\"font-weight: bold\">}</span>\n",
       "</pre>\n"
      ],
      "text/plain": [
       "\u001b[1m{\u001b[0m\n",
       "    \u001b[32m'input'\u001b[0m: \u001b[32m'LangSmith has tow usage limits:total traces and extended'\u001b[0m,\n",
       "    \u001b[32m'context'\u001b[0m: \u001b[1m[\u001b[0m\n",
       "        \u001b[1;35mDocument\u001b[0m\u001b[1m(\u001b[0m\n",
       "            \u001b[33mid\u001b[0m=\u001b[32m'c9d828b1-2bac-4e1d-8791-7a897a1e1a52'\u001b[0m,\n",
       "            \u001b[33mmetadata\u001b[0m=\u001b[1m{\u001b[0m\n",
       "                \u001b[32m'source'\u001b[0m: \u001b[32m'https://docs.smith.langchain.com/administration/tutorials/manage_spend'\u001b[0m,\n",
       "                \u001b[32m'title'\u001b[0m: \u001b[32m'Optimize tracing spend on LangSmith | 🦜️🛠️ LangSmith'\u001b[0m,\n",
       "                \u001b[32m'description'\u001b[0m: \u001b[32m'Before diving into this content, it might be helpful to read the following:'\u001b[0m,\n",
       "                \u001b[32m'language'\u001b[0m: \u001b[32m'en'\u001b[0m\n",
       "            \u001b[1m}\u001b[0m,\n",
       "            \u001b[33mpage_content\u001b[0m=\u001b[32m'Optimization 2: limit usage\\u200b\\nIn the previous section, we managed data retention \u001b[0m\n",
       "\u001b[32msettings to optimize existing spend. In this section, we will\\nuse usage limits to prevent future \u001b[0m\n",
       "\u001b[32moverspend.\\nLangSmith has two usage limits: total traces and extended retention traces. These correspond to the two\u001b[0m\n",
       "\u001b[32mmetrics we\\'ve\\nbeen tracking on our usage graph. We can use these in tandem to have granular control over \u001b[0m\n",
       "\u001b[32mspend.\\nTo set limits, we navigate back to Settings -> Usage and Billing -> Usage configuration. There is a table \u001b[0m\n",
       "\u001b[32mat the\\nbottom of the page that lets you set usage limits per workspace. For each workspace, the two limits appear,\u001b[0m\n",
       "\u001b[32malong\\nwith a cost estimate:\\n\\nLets start by setting limits on our production usage, since that is where the \u001b[0m\n",
       "\u001b[32mmajority of spend comes from.\\nSetting a good total traces limit\\u200b\\nPicking the right \"total traces\" limit \u001b[0m\n",
       "\u001b[32mdepends on the expected load of traces that you will send to LangSmith. You should\\nclearly think about your \u001b[0m\n",
       "\u001b[32massumptions before setting a limit.\\nFor example:'\u001b[0m\n",
       "        \u001b[1m)\u001b[0m,\n",
       "        \u001b[1;35mDocument\u001b[0m\u001b[1m(\u001b[0m\n",
       "            \u001b[33mid\u001b[0m=\u001b[32m'68c9a66b-f5e2-4cfb-ad24-7d76cf13ee14'\u001b[0m,\n",
       "            \u001b[33mmetadata\u001b[0m=\u001b[1m{\u001b[0m\n",
       "                \u001b[32m'source'\u001b[0m: \u001b[32m'https://docs.smith.langchain.com/administration/tutorials/manage_spend'\u001b[0m,\n",
       "                \u001b[32m'title'\u001b[0m: \u001b[32m'Optimize tracing spend on LangSmith | 🦜️🛠️ LangSmith'\u001b[0m,\n",
       "                \u001b[32m'description'\u001b[0m: \u001b[32m'Before diving into this content, it might be helpful to read the following:'\u001b[0m,\n",
       "                \u001b[32m'language'\u001b[0m: \u001b[32m'en'\u001b[0m\n",
       "            \u001b[1m}\u001b[0m,\n",
       "            \u001b[33mpage_content\u001b[0m=\u001b[32m\"The\u001b[0m\u001b[32m first metric tracks all traces that you send to LangSmith. The second tracks all \u001b[0m\n",
       "\u001b[32mtraces that also have our Extended 400 Day Data Retention.\\nFor more details, see our data retention conceptual \u001b[0m\n",
       "\u001b[32mdocs. Notice that these graphs look\\nidentical, which will come into play later in the tutorial.\\nLangSmith Traces \u001b[0m\n",
       "\u001b[32musage is measured per workspace, because workspaces often represent development environments \u001b[0m\u001b[32m(\u001b[0m\u001b[32mas in our \u001b[0m\n",
       "\u001b[32mexample\u001b[0m\u001b[32m)\u001b[0m\u001b[32m,\\nor teams within an organization. As a LangSmith administrator, we want to understand spend granularly \u001b[0m\n",
       "\u001b[32mper each of these units. In\\nthis case where we just want to cut spend, we can focus on the environment responsible\u001b[0m\n",
       "\u001b[32mfor the majority of costs first for the greatest savings.\\nInvoices\\u200b\\nWe understand what usage looks like in \u001b[0m\n",
       "\u001b[32mterms of traces, but we now need to translate that into spend. To do so,\\nwe head to the Invoices tab. The first \u001b[0m\n",
       "\u001b[32minvoice that will appear on screen is a draft of your current month's\\ninvoice, which shows your running spend thus\u001b[0m\n",
       "\u001b[32mfar this month.\"\u001b[0m\n",
       "        \u001b[1m)\u001b[0m,\n",
       "        \u001b[1;35mDocument\u001b[0m\u001b[1m(\u001b[0m\n",
       "            \u001b[33mid\u001b[0m=\u001b[32m'565fe570-b785-4e4c-866e-b4064c39feca'\u001b[0m,\n",
       "            \u001b[33mmetadata\u001b[0m=\u001b[1m{\u001b[0m\n",
       "                \u001b[32m'source'\u001b[0m: \u001b[32m'https://docs.smith.langchain.com/administration/tutorials/manage_spend'\u001b[0m,\n",
       "                \u001b[32m'title'\u001b[0m: \u001b[32m'Optimize tracing spend on LangSmith | 🦜️🛠️ LangSmith'\u001b[0m,\n",
       "                \u001b[32m'description'\u001b[0m: \u001b[32m'Before diving into this content, it might be helpful to read the following:'\u001b[0m,\n",
       "                \u001b[32m'language'\u001b[0m: \u001b[32m'en'\u001b[0m\n",
       "            \u001b[1m}\u001b[0m,\n",
       "            \u001b[33mpage_content\u001b[0m=\u001b[32m'Understand your current usage\\u200b\\nThe first step of any optimization process is to \u001b[0m\n",
       "\u001b[32munderstand current usage. LangSmith gives two ways to do this: Usage Graph\\nand Invoices.\\nUsage Graph\\u200b\\nThe \u001b[0m\n",
       "\u001b[32musage graph lets us examine how much of each usage based pricing metric we have consumed lately. It does not \u001b[0m\n",
       "\u001b[32mdirectly show\\nspend \u001b[0m\u001b[32m(\u001b[0m\u001b[32mwhich we will see later on our draft invoice\u001b[0m\u001b[32m)\u001b[0m\u001b[32m.\\nWe can navigate to the Usage Graph under \u001b[0m\n",
       "\u001b[32mSettings -> Usage and Billing -> Usage Graph.\\n\\nWe see in the graph above that there are two usage metrics that \u001b[0m\n",
       "\u001b[32mLangSmith charges for:\\n\\nLangSmith Traces \u001b[0m\u001b[32m(\u001b[0m\u001b[32mBase Charge\u001b[0m\u001b[32m)\u001b[0m\u001b[32m\\nLangSmith Traces \u001b[0m\u001b[32m(\u001b[0m\u001b[32mExtended Data Retention Upgrades\u001b[0m\u001b[32m)\u001b[0m\u001b[32m.'\u001b[0m\n",
       "        \u001b[1m)\u001b[0m,\n",
       "        \u001b[1;35mDocument\u001b[0m\u001b[1m(\u001b[0m\n",
       "            \u001b[33mid\u001b[0m=\u001b[32m'9cf35a08-50a7-4efa-a9cd-422f4b9c6d1f'\u001b[0m,\n",
       "            \u001b[33mmetadata\u001b[0m=\u001b[1m{\u001b[0m\n",
       "                \u001b[32m'source'\u001b[0m: \u001b[32m'https://docs.smith.langchain.com/administration/tutorials/manage_spend'\u001b[0m,\n",
       "                \u001b[32m'title'\u001b[0m: \u001b[32m'Optimize tracing spend on LangSmith | 🦜️🛠️ LangSmith'\u001b[0m,\n",
       "                \u001b[32m'description'\u001b[0m: \u001b[32m'Before diving into this content, it might be helpful to read the following:'\u001b[0m,\n",
       "                \u001b[32m'language'\u001b[0m: \u001b[32m'en'\u001b[0m\n",
       "            \u001b[1m}\u001b[0m,\n",
       "            \u001b[33mpage_content\u001b[0m=\u001b[32m'your use case with LangSmith. For example, if you run evals as part of CI/CD in dev or \u001b[0m\n",
       "\u001b[32mstaging, you may\\nwant to be more liberal with your usage limits to avoid test failures.\\nNow that our limits are \u001b[0m\n",
       "\u001b[32mset, we can see that LangSmith shows a maximum spend estimate across all workspaces:'\u001b[0m\n",
       "        \u001b[1m)\u001b[0m\n",
       "    \u001b[1m]\u001b[0m,\n",
       "    \u001b[32m'answer'\u001b[0m: \u001b[32m'I don’t see a specific question in your message. Could you please provide the question you want \u001b[0m\n",
       "\u001b[32manswered based on the context?'\u001b[0m\n",
       "\u001b[1m}\u001b[0m\n"
      ]
     },
     "metadata": {},
     "output_type": "display_data"
    }
   ],
   "source": [
    "print(respomse_RC)"
   ]
  },
  {
   "cell_type": "code",
   "execution_count": null,
   "id": "5d8224ce",
   "metadata": {},
   "outputs": [],
   "source": []
  }
 ],
 "metadata": {
  "kernelspec": {
   "display_name": "Python 3",
   "language": "python",
   "name": "python3"
  },
  "language_info": {
   "codemirror_mode": {
    "name": "ipython",
    "version": 3
   },
   "file_extension": ".py",
   "mimetype": "text/x-python",
   "name": "python",
   "nbconvert_exporter": "python",
   "pygments_lexer": "ipython3",
   "version": "3.10.0"
  }
 },
 "nbformat": 4,
 "nbformat_minor": 5
}
