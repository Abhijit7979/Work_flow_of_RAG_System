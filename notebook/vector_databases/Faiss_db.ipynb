{
 "cells": [
  {
   "cell_type": "markdown",
   "id": "e03576c7",
   "metadata": {},
   "source": [
    "### Faiss \n",
    "Facebook Ai similarity Search (Faiss) is a library for efficient similarity search and clustering of dense vectors. it contains algorithms that search in sets of vectors of any size, up to onces that possibly do not fit in RAM.It also contains supporting code for <b>evaluation</b> and <b>parameter tuning</b>."
   ]
  },
  {
   "cell_type": "code",
   "execution_count": 1,
   "id": "3ca200d4",
   "metadata": {},
   "outputs": [],
   "source": [
    "from langchain_community.document_loaders import TextLoader\n",
    "from langchain_text_splitters import CharacterTextSplitter\n",
    "from langchain_community.embeddings import OllamaEmbeddings\n",
    "from langchain_community.vectorstores import FAISS\n",
    "from rich import print \n",
    "from dotenv import load_dotenv \n"
   ]
  },
  {
   "cell_type": "code",
   "execution_count": 2,
   "id": "a2f530d3",
   "metadata": {},
   "outputs": [],
   "source": [
    "loader=TextLoader(\"../3.2-dataIngestion/speech.txt\")"
   ]
  },
  {
   "cell_type": "code",
   "execution_count": 8,
   "id": "10e026c5",
   "metadata": {},
   "outputs": [],
   "source": [
    "doc_loader=loader.load()\n",
    "text_splitter=CharacterTextSplitter(chunk_size=1100,chunk_overlap=30)\n",
    "docs=text_splitter.split_documents(doc_loader)"
   ]
  },
  {
   "cell_type": "code",
   "execution_count": 9,
   "id": "9519aefd",
   "metadata": {},
   "outputs": [
    {
     "data": {
      "text/html": [
       "<pre style=\"white-space:pre;overflow-x:auto;line-height:normal;font-family:Menlo,'DejaVu Sans Mono',consolas,'Courier New',monospace\"><span style=\"font-weight: bold\">[</span>\n",
       "    <span style=\"color: #800080; text-decoration-color: #800080; font-weight: bold\">Document</span><span style=\"font-weight: bold\">(</span>\n",
       "        <span style=\"color: #808000; text-decoration-color: #808000\">metadata</span>=<span style=\"font-weight: bold\">{</span><span style=\"color: #008000; text-decoration-color: #008000\">'source'</span>: <span style=\"color: #008000; text-decoration-color: #008000\">'../3.2-dataIngestion/speech.txt'</span><span style=\"font-weight: bold\">}</span>,\n",
       "        <span style=\"color: #808000; text-decoration-color: #808000\">page_content</span>=<span style=\"color: #008000; text-decoration-color: #008000\">'The world must be made safe for democracy. Its peace must be planted upon the tested </span>\n",
       "<span style=\"color: #008000; text-decoration-color: #008000\">foundations of political liberty. We have no selfish ends to serve. We desire no conquest, no dominion. We seek no </span>\n",
       "<span style=\"color: #008000; text-decoration-color: #008000\">indemnities for ourselves, no material compensation for the sacrifices we shall freely make. We are but one of the </span>\n",
       "<span style=\"color: #008000; text-decoration-color: #008000\">champions of the rights of mankind. We shall be satisfied when those rights have been made as secure as the faith </span>\n",
       "<span style=\"color: #008000; text-decoration-color: #008000\">and the freedom of nations can make them.\\n\\nJust because we fight without rancor and without selfish object, </span>\n",
       "<span style=\"color: #008000; text-decoration-color: #008000\">seeking nothing for ourselves but what we shall wish to share with all free peoples, we shall, I feel confident, </span>\n",
       "<span style=\"color: #008000; text-decoration-color: #008000\">conduct our operations as belligerents without passion and ourselves observe with proud punctilio the principles of</span>\n",
       "<span style=\"color: #008000; text-decoration-color: #008000\">right and of fair play we profess to be fighting for.\\n\\n…'</span>\n",
       "    <span style=\"font-weight: bold\">)</span>,\n",
       "    <span style=\"color: #800080; text-decoration-color: #800080; font-weight: bold\">Document</span><span style=\"font-weight: bold\">(</span>\n",
       "        <span style=\"color: #808000; text-decoration-color: #808000\">metadata</span>=<span style=\"font-weight: bold\">{</span><span style=\"color: #008000; text-decoration-color: #008000\">'source'</span>: <span style=\"color: #008000; text-decoration-color: #008000\">'../3.2-dataIngestion/speech.txt'</span><span style=\"font-weight: bold\">}</span>,\n",
       "        <span style=\"color: #808000; text-decoration-color: #808000\">page_content</span>=<span style=\"color: #008000; text-decoration-color: #008000\">'…\\n\\nIt will be all the easier for us to conduct ourselves as belligerents in a high spirit </span>\n",
       "<span style=\"color: #008000; text-decoration-color: #008000\">of right and fairness because we act without animus, not in enmity toward a people or with the desire to bring any </span>\n",
       "<span style=\"color: #008000; text-decoration-color: #008000\">injury or disadvantage upon them, but only in armed opposition to an irresponsible government which has thrown </span>\n",
       "<span style=\"color: #008000; text-decoration-color: #008000\">aside all considerations of humanity and of right and is running amuck. We are, let me say again, the sincere </span>\n",
       "<span style=\"color: #008000; text-decoration-color: #008000\">friends of the German people, and shall desire nothing so much as the early reestablishment of intimate relations </span>\n",
       "<span style=\"color: #008000; text-decoration-color: #008000\">of mutual advantage between us—however hard it may be for them, for the time being, to believe that this is spoken </span>\n",
       "<span style=\"color: #008000; text-decoration-color: #008000\">from our hearts.'</span>\n",
       "    <span style=\"font-weight: bold\">)</span>\n",
       "<span style=\"font-weight: bold\">]</span>\n",
       "</pre>\n"
      ],
      "text/plain": [
       "\u001b[1m[\u001b[0m\n",
       "    \u001b[1;35mDocument\u001b[0m\u001b[1m(\u001b[0m\n",
       "        \u001b[33mmetadata\u001b[0m=\u001b[1m{\u001b[0m\u001b[32m'source'\u001b[0m: \u001b[32m'../3.2-dataIngestion/speech.txt'\u001b[0m\u001b[1m}\u001b[0m,\n",
       "        \u001b[33mpage_content\u001b[0m=\u001b[32m'The world must be made safe for democracy. Its peace must be planted upon the tested \u001b[0m\n",
       "\u001b[32mfoundations of political liberty. We have no selfish ends to serve. We desire no conquest, no dominion. We seek no \u001b[0m\n",
       "\u001b[32mindemnities for ourselves, no material compensation for the sacrifices we shall freely make. We are but one of the \u001b[0m\n",
       "\u001b[32mchampions of the rights of mankind. We shall be satisfied when those rights have been made as secure as the faith \u001b[0m\n",
       "\u001b[32mand the freedom of nations can make them.\\n\\nJust because we fight without rancor and without selfish object, \u001b[0m\n",
       "\u001b[32mseeking nothing for ourselves but what we shall wish to share with all free peoples, we shall, I feel confident, \u001b[0m\n",
       "\u001b[32mconduct our operations as belligerents without passion and ourselves observe with proud punctilio the principles of\u001b[0m\n",
       "\u001b[32mright and of fair play we profess to be fighting for.\\n\\n…'\u001b[0m\n",
       "    \u001b[1m)\u001b[0m,\n",
       "    \u001b[1;35mDocument\u001b[0m\u001b[1m(\u001b[0m\n",
       "        \u001b[33mmetadata\u001b[0m=\u001b[1m{\u001b[0m\u001b[32m'source'\u001b[0m: \u001b[32m'../3.2-dataIngestion/speech.txt'\u001b[0m\u001b[1m}\u001b[0m,\n",
       "        \u001b[33mpage_content\u001b[0m=\u001b[32m'…\\n\\nIt will be all the easier for us to conduct ourselves as belligerents in a high spirit \u001b[0m\n",
       "\u001b[32mof right and fairness because we act without animus, not in enmity toward a people or with the desire to bring any \u001b[0m\n",
       "\u001b[32minjury or disadvantage upon them, but only in armed opposition to an irresponsible government which has thrown \u001b[0m\n",
       "\u001b[32maside all considerations of humanity and of right and is running amuck. We are, let me say again, the sincere \u001b[0m\n",
       "\u001b[32mfriends of the German people, and shall desire nothing so much as the early reestablishment of intimate relations \u001b[0m\n",
       "\u001b[32mof mutual advantage between us—however hard it may be for them, for the time being, to believe that this is spoken \u001b[0m\n",
       "\u001b[32mfrom our hearts.'\u001b[0m\n",
       "    \u001b[1m)\u001b[0m\n",
       "\u001b[1m]\u001b[0m\n"
      ]
     },
     "metadata": {},
     "output_type": "display_data"
    }
   ],
   "source": [
    "print(docs[0:2])"
   ]
  },
  {
   "cell_type": "code",
   "execution_count": 15,
   "id": "1941d7a7",
   "metadata": {},
   "outputs": [],
   "source": [
    "embedding=OllamaEmbeddings()\n",
    "db=FAISS.from_documents(docs,embedding)"
   ]
  },
  {
   "cell_type": "code",
   "execution_count": 16,
   "id": "88dc63fc",
   "metadata": {},
   "outputs": [
    {
     "data": {
      "text/plain": [
       "<langchain_community.vectorstores.faiss.FAISS at 0x119a6ecb0>"
      ]
     },
     "execution_count": 16,
     "metadata": {},
     "output_type": "execute_result"
    }
   ],
   "source": [
    "db"
   ]
  },
  {
   "cell_type": "code",
   "execution_count": 18,
   "id": "398578dd",
   "metadata": {},
   "outputs": [
    {
     "data": {
      "text/html": [
       "<pre style=\"white-space:pre;overflow-x:auto;line-height:normal;font-family:Menlo,'DejaVu Sans Mono',consolas,'Courier New',monospace\"><span style=\"font-weight: bold\">[</span>\n",
       "    <span style=\"color: #800080; text-decoration-color: #800080; font-weight: bold\">Document</span><span style=\"font-weight: bold\">(</span>\n",
       "        <span style=\"color: #808000; text-decoration-color: #808000\">id</span>=<span style=\"color: #008000; text-decoration-color: #008000\">'071fcd71-1ac1-4595-92c3-fd3b2f2b622c'</span>,\n",
       "        <span style=\"color: #808000; text-decoration-color: #808000\">metadata</span>=<span style=\"font-weight: bold\">{</span><span style=\"color: #008000; text-decoration-color: #008000\">'source'</span>: <span style=\"color: #008000; text-decoration-color: #008000\">'../3.2-dataIngestion/speech.txt'</span><span style=\"font-weight: bold\">}</span>,\n",
       "        <span style=\"color: #808000; text-decoration-color: #808000\">page_content</span>=<span style=\"color: #008000; text-decoration-color: #008000\">'To such a task we can dedicate our lives and our fortunes, everything that we are and </span>\n",
       "<span style=\"color: #008000; text-decoration-color: #008000\">everything that we have, with the pride of those who know that the day has come when America is privileged to spend</span>\n",
       "<span style=\"color: #008000; text-decoration-color: #008000\">her blood and her might for the principles that gave her birth and happiness and the peace which she has treasured.</span>\n",
       "<span style=\"color: #008000; text-decoration-color: #008000\">God helping her, she can do no other.'</span>\n",
       "    <span style=\"font-weight: bold\">)</span>\n",
       "<span style=\"font-weight: bold\">]</span>\n",
       "</pre>\n"
      ],
      "text/plain": [
       "\u001b[1m[\u001b[0m\n",
       "    \u001b[1;35mDocument\u001b[0m\u001b[1m(\u001b[0m\n",
       "        \u001b[33mid\u001b[0m=\u001b[32m'071fcd71-1ac1-4595-92c3-fd3b2f2b622c'\u001b[0m,\n",
       "        \u001b[33mmetadata\u001b[0m=\u001b[1m{\u001b[0m\u001b[32m'source'\u001b[0m: \u001b[32m'../3.2-dataIngestion/speech.txt'\u001b[0m\u001b[1m}\u001b[0m,\n",
       "        \u001b[33mpage_content\u001b[0m=\u001b[32m'To such a task we can dedicate our lives and our fortunes, everything that we are and \u001b[0m\n",
       "\u001b[32meverything that we have, with the pride of those who know that the day has come when America is privileged to spend\u001b[0m\n",
       "\u001b[32mher blood and her might for the principles that gave her birth and happiness and the peace which she has treasured.\u001b[0m\n",
       "\u001b[32mGod helping her, she can do no other.'\u001b[0m\n",
       "    \u001b[1m)\u001b[0m\n",
       "\u001b[1m]\u001b[0m\n"
      ]
     },
     "metadata": {},
     "output_type": "display_data"
    }
   ],
   "source": [
    "### querying \n",
    "query=\"What does the speaker believe is the main reason the united States should enter the war?\"\n",
    "\n",
    "results=db.similarity_search(query,k=1)\n",
    "print(results)"
   ]
  },
  {
   "cell_type": "code",
   "execution_count": 21,
   "id": "a652f665",
   "metadata": {},
   "outputs": [
    {
     "data": {
      "text/html": [
       "<pre style=\"white-space:pre;overflow-x:auto;line-height:normal;font-family:Menlo,'DejaVu Sans Mono',consolas,'Courier New',monospace\"><span style=\"font-weight: bold\">[</span>\n",
       "    <span style=\"color: #800080; text-decoration-color: #800080; font-weight: bold\">Document</span><span style=\"font-weight: bold\">(</span>\n",
       "        <span style=\"color: #808000; text-decoration-color: #808000\">id</span>=<span style=\"color: #008000; text-decoration-color: #008000\">'4997849a-0e42-4444-aaa5-de6b58c6872d'</span>,\n",
       "        <span style=\"color: #808000; text-decoration-color: #808000\">metadata</span>=<span style=\"font-weight: bold\">{</span><span style=\"color: #008000; text-decoration-color: #008000\">'source'</span>: <span style=\"color: #008000; text-decoration-color: #008000\">'../3.2-dataIngestion/speech.txt'</span><span style=\"font-weight: bold\">}</span>,\n",
       "        <span style=\"color: #808000; text-decoration-color: #808000\">page_content</span>=<span style=\"color: #008000; text-decoration-color: #008000\">'It is a distressing and oppressive duty, gentlemen of the Congress, which I have performed in</span>\n",
       "<span style=\"color: #008000; text-decoration-color: #008000\">thus addressing you. There are, it may be, many months of fiery trial and sacrifice ahead of us. It is a fearful </span>\n",
       "<span style=\"color: #008000; text-decoration-color: #008000\">thing to lead this great peaceful people into war, into the most terrible and disastrous of all wars, civilization </span>\n",
       "<span style=\"color: #008000; text-decoration-color: #008000\">itself seeming to be in the balance. But the right is more precious than peace, and we shall fight for the things </span>\n",
       "<span style=\"color: #008000; text-decoration-color: #008000\">which we have always carried nearest our hearts—for democracy, for the right of those who submit to authority to </span>\n",
       "<span style=\"color: #008000; text-decoration-color: #008000\">have a voice in their own governments, for the rights and liberties of small nations, for a universal dominion of </span>\n",
       "<span style=\"color: #008000; text-decoration-color: #008000\">right by such a concert of free peoples as shall bring peace and safety to all nations and make the world itself at</span>\n",
       "<span style=\"color: #008000; text-decoration-color: #008000\">last free.'</span>\n",
       "    <span style=\"font-weight: bold\">)</span>\n",
       "<span style=\"font-weight: bold\">]</span>\n",
       "</pre>\n"
      ],
      "text/plain": [
       "\u001b[1m[\u001b[0m\n",
       "    \u001b[1;35mDocument\u001b[0m\u001b[1m(\u001b[0m\n",
       "        \u001b[33mid\u001b[0m=\u001b[32m'4997849a-0e42-4444-aaa5-de6b58c6872d'\u001b[0m,\n",
       "        \u001b[33mmetadata\u001b[0m=\u001b[1m{\u001b[0m\u001b[32m'source'\u001b[0m: \u001b[32m'../3.2-dataIngestion/speech.txt'\u001b[0m\u001b[1m}\u001b[0m,\n",
       "        \u001b[33mpage_content\u001b[0m=\u001b[32m'It is a distressing and oppressive duty, gentlemen of the Congress, which I have performed in\u001b[0m\n",
       "\u001b[32mthus addressing you. There are, it may be, many months of fiery trial and sacrifice ahead of us. It is a fearful \u001b[0m\n",
       "\u001b[32mthing to lead this great peaceful people into war, into the most terrible and disastrous of all wars, civilization \u001b[0m\n",
       "\u001b[32mitself seeming to be in the balance. But the right is more precious than peace, and we shall fight for the things \u001b[0m\n",
       "\u001b[32mwhich we have always carried nearest our hearts—for democracy, for the right of those who submit to authority to \u001b[0m\n",
       "\u001b[32mhave a voice in their own governments, for the rights and liberties of small nations, for a universal dominion of \u001b[0m\n",
       "\u001b[32mright by such a concert of free peoples as shall bring peace and safety to all nations and make the world itself at\u001b[0m\n",
       "\u001b[32mlast free.'\u001b[0m\n",
       "    \u001b[1m)\u001b[0m\n",
       "\u001b[1m]\u001b[0m\n"
      ]
     },
     "metadata": {},
     "output_type": "display_data"
    }
   ],
   "source": [
    "query2=\"how does the speaker describe the desired outcome of the war?\"\n",
    "results2=db.similarity_search(query2,k=1)\n",
    "print(results2)\n"
   ]
  },
  {
   "cell_type": "markdown",
   "id": "96d5b0b1",
   "metadata": {},
   "source": [
    "#### As a Retriever \n",
    "\n",
    "We can also convert the vectorstore into a Retriever class. This allows us to easily use it in other LangChain methods, which largely work with retrievers. "
   ]
  },
  {
   "cell_type": "code",
   "execution_count": 22,
   "id": "92202859",
   "metadata": {},
   "outputs": [],
   "source": [
    "retriever=db.as_retriever()"
   ]
  },
  {
   "cell_type": "code",
   "execution_count": 26,
   "id": "8e6745a5",
   "metadata": {},
   "outputs": [
    {
     "data": {
      "text/html": [
       "<pre style=\"white-space:pre;overflow-x:auto;line-height:normal;font-family:Menlo,'DejaVu Sans Mono',consolas,'Courier New',monospace\"><span style=\"font-weight: bold\">[</span>\n",
       "    <span style=\"color: #800080; text-decoration-color: #800080; font-weight: bold\">Document</span><span style=\"font-weight: bold\">(</span>\n",
       "        <span style=\"color: #808000; text-decoration-color: #808000\">id</span>=<span style=\"color: #008000; text-decoration-color: #008000\">'071fcd71-1ac1-4595-92c3-fd3b2f2b622c'</span>,\n",
       "        <span style=\"color: #808000; text-decoration-color: #808000\">metadata</span>=<span style=\"font-weight: bold\">{</span><span style=\"color: #008000; text-decoration-color: #008000\">'source'</span>: <span style=\"color: #008000; text-decoration-color: #008000\">'../3.2-dataIngestion/speech.txt'</span><span style=\"font-weight: bold\">}</span>,\n",
       "        <span style=\"color: #808000; text-decoration-color: #808000\">page_content</span>=<span style=\"color: #008000; text-decoration-color: #008000\">'To such a task we can dedicate our lives and our fortunes, everything that we are and </span>\n",
       "<span style=\"color: #008000; text-decoration-color: #008000\">everything that we have, with the pride of those who know that the day has come when America is privileged to spend</span>\n",
       "<span style=\"color: #008000; text-decoration-color: #008000\">her blood and her might for the principles that gave her birth and happiness and the peace which she has treasured.</span>\n",
       "<span style=\"color: #008000; text-decoration-color: #008000\">God helping her, she can do no other.'</span>\n",
       "    <span style=\"font-weight: bold\">)</span>,\n",
       "    <span style=\"color: #800080; text-decoration-color: #800080; font-weight: bold\">Document</span><span style=\"font-weight: bold\">(</span>\n",
       "        <span style=\"color: #808000; text-decoration-color: #808000\">id</span>=<span style=\"color: #008000; text-decoration-color: #008000\">'4997849a-0e42-4444-aaa5-de6b58c6872d'</span>,\n",
       "        <span style=\"color: #808000; text-decoration-color: #808000\">metadata</span>=<span style=\"font-weight: bold\">{</span><span style=\"color: #008000; text-decoration-color: #008000\">'source'</span>: <span style=\"color: #008000; text-decoration-color: #008000\">'../3.2-dataIngestion/speech.txt'</span><span style=\"font-weight: bold\">}</span>,\n",
       "        <span style=\"color: #808000; text-decoration-color: #808000\">page_content</span>=<span style=\"color: #008000; text-decoration-color: #008000\">'It is a distressing and oppressive duty, gentlemen of the Congress, which I have performed in</span>\n",
       "<span style=\"color: #008000; text-decoration-color: #008000\">thus addressing you. There are, it may be, many months of fiery trial and sacrifice ahead of us. It is a fearful </span>\n",
       "<span style=\"color: #008000; text-decoration-color: #008000\">thing to lead this great peaceful people into war, into the most terrible and disastrous of all wars, civilization </span>\n",
       "<span style=\"color: #008000; text-decoration-color: #008000\">itself seeming to be in the balance. But the right is more precious than peace, and we shall fight for the things </span>\n",
       "<span style=\"color: #008000; text-decoration-color: #008000\">which we have always carried nearest our hearts—for democracy, for the right of those who submit to authority to </span>\n",
       "<span style=\"color: #008000; text-decoration-color: #008000\">have a voice in their own governments, for the rights and liberties of small nations, for a universal dominion of </span>\n",
       "<span style=\"color: #008000; text-decoration-color: #008000\">right by such a concert of free peoples as shall bring peace and safety to all nations and make the world itself at</span>\n",
       "<span style=\"color: #008000; text-decoration-color: #008000\">last free.'</span>\n",
       "    <span style=\"font-weight: bold\">)</span>,\n",
       "    <span style=\"color: #800080; text-decoration-color: #800080; font-weight: bold\">Document</span><span style=\"font-weight: bold\">(</span>\n",
       "        <span style=\"color: #808000; text-decoration-color: #808000\">id</span>=<span style=\"color: #008000; text-decoration-color: #008000\">'deaa9237-8be2-4b7b-90bd-3ef57b9a83dc'</span>,\n",
       "        <span style=\"color: #808000; text-decoration-color: #808000\">metadata</span>=<span style=\"font-weight: bold\">{</span><span style=\"color: #008000; text-decoration-color: #008000\">'source'</span>: <span style=\"color: #008000; text-decoration-color: #008000\">'../3.2-dataIngestion/speech.txt'</span><span style=\"font-weight: bold\">}</span>,\n",
       "        <span style=\"color: #808000; text-decoration-color: #808000\">page_content</span>=<span style=\"color: #008000; text-decoration-color: #008000\">'…\\n\\nIt will be all the easier for us to conduct ourselves as belligerents in a high spirit </span>\n",
       "<span style=\"color: #008000; text-decoration-color: #008000\">of right and fairness because we act without animus, not in enmity toward a people or with the desire to bring any </span>\n",
       "<span style=\"color: #008000; text-decoration-color: #008000\">injury or disadvantage upon them, but only in armed opposition to an irresponsible government which has thrown </span>\n",
       "<span style=\"color: #008000; text-decoration-color: #008000\">aside all considerations of humanity and of right and is running amuck. We are, let me say again, the sincere </span>\n",
       "<span style=\"color: #008000; text-decoration-color: #008000\">friends of the German people, and shall desire nothing so much as the early reestablishment of intimate relations </span>\n",
       "<span style=\"color: #008000; text-decoration-color: #008000\">of mutual advantage between us—however hard it may be for them, for the time being, to believe that this is spoken </span>\n",
       "<span style=\"color: #008000; text-decoration-color: #008000\">from our hearts.'</span>\n",
       "    <span style=\"font-weight: bold\">)</span>,\n",
       "    <span style=\"color: #800080; text-decoration-color: #800080; font-weight: bold\">Document</span><span style=\"font-weight: bold\">(</span>\n",
       "        <span style=\"color: #808000; text-decoration-color: #808000\">id</span>=<span style=\"color: #008000; text-decoration-color: #008000\">'a52f01ea-31ef-45b8-870c-5998ba77ba46'</span>,\n",
       "        <span style=\"color: #808000; text-decoration-color: #808000\">metadata</span>=<span style=\"font-weight: bold\">{</span><span style=\"color: #008000; text-decoration-color: #008000\">'source'</span>: <span style=\"color: #008000; text-decoration-color: #008000\">'../3.2-dataIngestion/speech.txt'</span><span style=\"font-weight: bold\">}</span>,\n",
       "        <span style=\"color: #808000; text-decoration-color: #808000\">page_content</span>=<span style=\"color: #008000; text-decoration-color: #008000\">'The world must be made safe for democracy. Its peace must be planted upon the tested </span>\n",
       "<span style=\"color: #008000; text-decoration-color: #008000\">foundations of political liberty. We have no selfish ends to serve. We desire no conquest, no dominion. We seek no </span>\n",
       "<span style=\"color: #008000; text-decoration-color: #008000\">indemnities for ourselves, no material compensation for the sacrifices we shall freely make. We are but one of the </span>\n",
       "<span style=\"color: #008000; text-decoration-color: #008000\">champions of the rights of mankind. We shall be satisfied when those rights have been made as secure as the faith </span>\n",
       "<span style=\"color: #008000; text-decoration-color: #008000\">and the freedom of nations can make them.\\n\\nJust because we fight without rancor and without selfish object, </span>\n",
       "<span style=\"color: #008000; text-decoration-color: #008000\">seeking nothing for ourselves but what we shall wish to share with all free peoples, we shall, I feel confident, </span>\n",
       "<span style=\"color: #008000; text-decoration-color: #008000\">conduct our operations as belligerents without passion and ourselves observe with proud punctilio the principles of</span>\n",
       "<span style=\"color: #008000; text-decoration-color: #008000\">right and of fair play we profess to be fighting for.\\n\\n…'</span>\n",
       "    <span style=\"font-weight: bold\">)</span>\n",
       "<span style=\"font-weight: bold\">]</span>\n",
       "</pre>\n"
      ],
      "text/plain": [
       "\u001b[1m[\u001b[0m\n",
       "    \u001b[1;35mDocument\u001b[0m\u001b[1m(\u001b[0m\n",
       "        \u001b[33mid\u001b[0m=\u001b[32m'071fcd71-1ac1-4595-92c3-fd3b2f2b622c'\u001b[0m,\n",
       "        \u001b[33mmetadata\u001b[0m=\u001b[1m{\u001b[0m\u001b[32m'source'\u001b[0m: \u001b[32m'../3.2-dataIngestion/speech.txt'\u001b[0m\u001b[1m}\u001b[0m,\n",
       "        \u001b[33mpage_content\u001b[0m=\u001b[32m'To such a task we can dedicate our lives and our fortunes, everything that we are and \u001b[0m\n",
       "\u001b[32meverything that we have, with the pride of those who know that the day has come when America is privileged to spend\u001b[0m\n",
       "\u001b[32mher blood and her might for the principles that gave her birth and happiness and the peace which she has treasured.\u001b[0m\n",
       "\u001b[32mGod helping her, she can do no other.'\u001b[0m\n",
       "    \u001b[1m)\u001b[0m,\n",
       "    \u001b[1;35mDocument\u001b[0m\u001b[1m(\u001b[0m\n",
       "        \u001b[33mid\u001b[0m=\u001b[32m'4997849a-0e42-4444-aaa5-de6b58c6872d'\u001b[0m,\n",
       "        \u001b[33mmetadata\u001b[0m=\u001b[1m{\u001b[0m\u001b[32m'source'\u001b[0m: \u001b[32m'../3.2-dataIngestion/speech.txt'\u001b[0m\u001b[1m}\u001b[0m,\n",
       "        \u001b[33mpage_content\u001b[0m=\u001b[32m'It is a distressing and oppressive duty, gentlemen of the Congress, which I have performed in\u001b[0m\n",
       "\u001b[32mthus addressing you. There are, it may be, many months of fiery trial and sacrifice ahead of us. It is a fearful \u001b[0m\n",
       "\u001b[32mthing to lead this great peaceful people into war, into the most terrible and disastrous of all wars, civilization \u001b[0m\n",
       "\u001b[32mitself seeming to be in the balance. But the right is more precious than peace, and we shall fight for the things \u001b[0m\n",
       "\u001b[32mwhich we have always carried nearest our hearts—for democracy, for the right of those who submit to authority to \u001b[0m\n",
       "\u001b[32mhave a voice in their own governments, for the rights and liberties of small nations, for a universal dominion of \u001b[0m\n",
       "\u001b[32mright by such a concert of free peoples as shall bring peace and safety to all nations and make the world itself at\u001b[0m\n",
       "\u001b[32mlast free.'\u001b[0m\n",
       "    \u001b[1m)\u001b[0m,\n",
       "    \u001b[1;35mDocument\u001b[0m\u001b[1m(\u001b[0m\n",
       "        \u001b[33mid\u001b[0m=\u001b[32m'deaa9237-8be2-4b7b-90bd-3ef57b9a83dc'\u001b[0m,\n",
       "        \u001b[33mmetadata\u001b[0m=\u001b[1m{\u001b[0m\u001b[32m'source'\u001b[0m: \u001b[32m'../3.2-dataIngestion/speech.txt'\u001b[0m\u001b[1m}\u001b[0m,\n",
       "        \u001b[33mpage_content\u001b[0m=\u001b[32m'…\\n\\nIt will be all the easier for us to conduct ourselves as belligerents in a high spirit \u001b[0m\n",
       "\u001b[32mof right and fairness because we act without animus, not in enmity toward a people or with the desire to bring any \u001b[0m\n",
       "\u001b[32minjury or disadvantage upon them, but only in armed opposition to an irresponsible government which has thrown \u001b[0m\n",
       "\u001b[32maside all considerations of humanity and of right and is running amuck. We are, let me say again, the sincere \u001b[0m\n",
       "\u001b[32mfriends of the German people, and shall desire nothing so much as the early reestablishment of intimate relations \u001b[0m\n",
       "\u001b[32mof mutual advantage between us—however hard it may be for them, for the time being, to believe that this is spoken \u001b[0m\n",
       "\u001b[32mfrom our hearts.'\u001b[0m\n",
       "    \u001b[1m)\u001b[0m,\n",
       "    \u001b[1;35mDocument\u001b[0m\u001b[1m(\u001b[0m\n",
       "        \u001b[33mid\u001b[0m=\u001b[32m'a52f01ea-31ef-45b8-870c-5998ba77ba46'\u001b[0m,\n",
       "        \u001b[33mmetadata\u001b[0m=\u001b[1m{\u001b[0m\u001b[32m'source'\u001b[0m: \u001b[32m'../3.2-dataIngestion/speech.txt'\u001b[0m\u001b[1m}\u001b[0m,\n",
       "        \u001b[33mpage_content\u001b[0m=\u001b[32m'The world must be made safe for democracy. Its peace must be planted upon the tested \u001b[0m\n",
       "\u001b[32mfoundations of political liberty. We have no selfish ends to serve. We desire no conquest, no dominion. We seek no \u001b[0m\n",
       "\u001b[32mindemnities for ourselves, no material compensation for the sacrifices we shall freely make. We are but one of the \u001b[0m\n",
       "\u001b[32mchampions of the rights of mankind. We shall be satisfied when those rights have been made as secure as the faith \u001b[0m\n",
       "\u001b[32mand the freedom of nations can make them.\\n\\nJust because we fight without rancor and without selfish object, \u001b[0m\n",
       "\u001b[32mseeking nothing for ourselves but what we shall wish to share with all free peoples, we shall, I feel confident, \u001b[0m\n",
       "\u001b[32mconduct our operations as belligerents without passion and ourselves observe with proud punctilio the principles of\u001b[0m\n",
       "\u001b[32mright and of fair play we profess to be fighting for.\\n\\n…'\u001b[0m\n",
       "    \u001b[1m)\u001b[0m\n",
       "\u001b[1m]\u001b[0m\n"
      ]
     },
     "metadata": {},
     "output_type": "display_data"
    }
   ],
   "source": [
    "print(retriever.invoke(query))"
   ]
  },
  {
   "cell_type": "markdown",
   "id": "46246c6b",
   "metadata": {},
   "source": [
    "#### Similarity Search with Score\n",
    "Thses are some Faiss specific methods.one of them is similarity_search_with_score, which allows you to return not only the documents but also the distance score of the query to them.The returned distance score is L2 distance.Therefore , a lower score is better."
   ]
  },
  {
   "cell_type": "code",
   "execution_count": 29,
   "id": "ffe190b5",
   "metadata": {},
   "outputs": [
    {
     "data": {
      "text/html": [
       "<pre style=\"white-space:pre;overflow-x:auto;line-height:normal;font-family:Menlo,'DejaVu Sans Mono',consolas,'Courier New',monospace\"><span style=\"font-weight: bold\">[</span>\n",
       "    <span style=\"font-weight: bold\">(</span>\n",
       "        <span style=\"color: #800080; text-decoration-color: #800080; font-weight: bold\">Document</span><span style=\"font-weight: bold\">(</span>\n",
       "            <span style=\"color: #808000; text-decoration-color: #808000\">id</span>=<span style=\"color: #008000; text-decoration-color: #008000\">'071fcd71-1ac1-4595-92c3-fd3b2f2b622c'</span>,\n",
       "            <span style=\"color: #808000; text-decoration-color: #808000\">metadata</span>=<span style=\"font-weight: bold\">{</span><span style=\"color: #008000; text-decoration-color: #008000\">'source'</span>: <span style=\"color: #008000; text-decoration-color: #008000\">'../3.2-dataIngestion/speech.txt'</span><span style=\"font-weight: bold\">}</span>,\n",
       "            <span style=\"color: #808000; text-decoration-color: #808000\">page_content</span>=<span style=\"color: #008000; text-decoration-color: #008000\">'To such a task we can dedicate our lives and our fortunes, everything that we are and </span>\n",
       "<span style=\"color: #008000; text-decoration-color: #008000\">everything that we have, with the pride of those who know that the day has come when America is privileged to spend</span>\n",
       "<span style=\"color: #008000; text-decoration-color: #008000\">her blood and her might for the principles that gave her birth and happiness and the peace which she has treasured.</span>\n",
       "<span style=\"color: #008000; text-decoration-color: #008000\">God helping her, she can do no other.'</span>\n",
       "        <span style=\"font-weight: bold\">)</span>,\n",
       "        <span style=\"color: #800080; text-decoration-color: #800080; font-weight: bold\">np.float32</span><span style=\"font-weight: bold\">(</span><span style=\"color: #008080; text-decoration-color: #008080; font-weight: bold\">15134.296</span><span style=\"font-weight: bold\">)</span>\n",
       "    <span style=\"font-weight: bold\">)</span>,\n",
       "    <span style=\"font-weight: bold\">(</span>\n",
       "        <span style=\"color: #800080; text-decoration-color: #800080; font-weight: bold\">Document</span><span style=\"font-weight: bold\">(</span>\n",
       "            <span style=\"color: #808000; text-decoration-color: #808000\">id</span>=<span style=\"color: #008000; text-decoration-color: #008000\">'4997849a-0e42-4444-aaa5-de6b58c6872d'</span>,\n",
       "            <span style=\"color: #808000; text-decoration-color: #808000\">metadata</span>=<span style=\"font-weight: bold\">{</span><span style=\"color: #008000; text-decoration-color: #008000\">'source'</span>: <span style=\"color: #008000; text-decoration-color: #008000\">'../3.2-dataIngestion/speech.txt'</span><span style=\"font-weight: bold\">}</span>,\n",
       "            <span style=\"color: #808000; text-decoration-color: #808000\">page_content</span>=<span style=\"color: #008000; text-decoration-color: #008000\">'It is a distressing and oppressive duty, gentlemen of the Congress, which I have </span>\n",
       "<span style=\"color: #008000; text-decoration-color: #008000\">performed in thus addressing you. There are, it may be, many months of fiery trial and sacrifice ahead of us. It is</span>\n",
       "<span style=\"color: #008000; text-decoration-color: #008000\">a fearful thing to lead this great peaceful people into war, into the most terrible and disastrous of all wars, </span>\n",
       "<span style=\"color: #008000; text-decoration-color: #008000\">civilization itself seeming to be in the balance. But the right is more precious than peace, and we shall fight for</span>\n",
       "<span style=\"color: #008000; text-decoration-color: #008000\">the things which we have always carried nearest our hearts—for democracy, for the right of those who submit to </span>\n",
       "<span style=\"color: #008000; text-decoration-color: #008000\">authority to have a voice in their own governments, for the rights and liberties of small nations, for a universal </span>\n",
       "<span style=\"color: #008000; text-decoration-color: #008000\">dominion of right by such a concert of free peoples as shall bring peace and safety to all nations and make the </span>\n",
       "<span style=\"color: #008000; text-decoration-color: #008000\">world itself at last free.'</span>\n",
       "        <span style=\"font-weight: bold\">)</span>,\n",
       "        <span style=\"color: #800080; text-decoration-color: #800080; font-weight: bold\">np.float32</span><span style=\"font-weight: bold\">(</span><span style=\"color: #008080; text-decoration-color: #008080; font-weight: bold\">16159.79</span><span style=\"font-weight: bold\">)</span>\n",
       "    <span style=\"font-weight: bold\">)</span>,\n",
       "    <span style=\"font-weight: bold\">(</span>\n",
       "        <span style=\"color: #800080; text-decoration-color: #800080; font-weight: bold\">Document</span><span style=\"font-weight: bold\">(</span>\n",
       "            <span style=\"color: #808000; text-decoration-color: #808000\">id</span>=<span style=\"color: #008000; text-decoration-color: #008000\">'deaa9237-8be2-4b7b-90bd-3ef57b9a83dc'</span>,\n",
       "            <span style=\"color: #808000; text-decoration-color: #808000\">metadata</span>=<span style=\"font-weight: bold\">{</span><span style=\"color: #008000; text-decoration-color: #008000\">'source'</span>: <span style=\"color: #008000; text-decoration-color: #008000\">'../3.2-dataIngestion/speech.txt'</span><span style=\"font-weight: bold\">}</span>,\n",
       "            <span style=\"color: #808000; text-decoration-color: #808000\">page_content</span>=<span style=\"color: #008000; text-decoration-color: #008000\">'…\\n\\nIt will be all the easier for us to conduct ourselves as belligerents in a high </span>\n",
       "<span style=\"color: #008000; text-decoration-color: #008000\">spirit of right and fairness because we act without animus, not in enmity toward a people or with the desire to </span>\n",
       "<span style=\"color: #008000; text-decoration-color: #008000\">bring any injury or disadvantage upon them, but only in armed opposition to an irresponsible government which has </span>\n",
       "<span style=\"color: #008000; text-decoration-color: #008000\">thrown aside all considerations of humanity and of right and is running amuck. We are, let me say again, the </span>\n",
       "<span style=\"color: #008000; text-decoration-color: #008000\">sincere friends of the German people, and shall desire nothing so much as the early reestablishment of intimate </span>\n",
       "<span style=\"color: #008000; text-decoration-color: #008000\">relations of mutual advantage between us—however hard it may be for them, for the time being, to believe that this </span>\n",
       "<span style=\"color: #008000; text-decoration-color: #008000\">is spoken from our hearts.'</span>\n",
       "        <span style=\"font-weight: bold\">)</span>,\n",
       "        <span style=\"color: #800080; text-decoration-color: #800080; font-weight: bold\">np.float32</span><span style=\"font-weight: bold\">(</span><span style=\"color: #008080; text-decoration-color: #008080; font-weight: bold\">17188.637</span><span style=\"font-weight: bold\">)</span>\n",
       "    <span style=\"font-weight: bold\">)</span>,\n",
       "    <span style=\"font-weight: bold\">(</span>\n",
       "        <span style=\"color: #800080; text-decoration-color: #800080; font-weight: bold\">Document</span><span style=\"font-weight: bold\">(</span>\n",
       "            <span style=\"color: #808000; text-decoration-color: #808000\">id</span>=<span style=\"color: #008000; text-decoration-color: #008000\">'a52f01ea-31ef-45b8-870c-5998ba77ba46'</span>,\n",
       "            <span style=\"color: #808000; text-decoration-color: #808000\">metadata</span>=<span style=\"font-weight: bold\">{</span><span style=\"color: #008000; text-decoration-color: #008000\">'source'</span>: <span style=\"color: #008000; text-decoration-color: #008000\">'../3.2-dataIngestion/speech.txt'</span><span style=\"font-weight: bold\">}</span>,\n",
       "            <span style=\"color: #808000; text-decoration-color: #808000\">page_content</span>=<span style=\"color: #008000; text-decoration-color: #008000\">'The world must be made safe for democracy. Its peace must be planted upon the tested </span>\n",
       "<span style=\"color: #008000; text-decoration-color: #008000\">foundations of political liberty. We have no selfish ends to serve. We desire no conquest, no dominion. We seek no </span>\n",
       "<span style=\"color: #008000; text-decoration-color: #008000\">indemnities for ourselves, no material compensation for the sacrifices we shall freely make. We are but one of the </span>\n",
       "<span style=\"color: #008000; text-decoration-color: #008000\">champions of the rights of mankind. We shall be satisfied when those rights have been made as secure as the faith </span>\n",
       "<span style=\"color: #008000; text-decoration-color: #008000\">and the freedom of nations can make them.\\n\\nJust because we fight without rancor and without selfish object, </span>\n",
       "<span style=\"color: #008000; text-decoration-color: #008000\">seeking nothing for ourselves but what we shall wish to share with all free peoples, we shall, I feel confident, </span>\n",
       "<span style=\"color: #008000; text-decoration-color: #008000\">conduct our operations as belligerents without passion and ourselves observe with proud punctilio the principles of</span>\n",
       "<span style=\"color: #008000; text-decoration-color: #008000\">right and of fair play we profess to be fighting for.\\n\\n…'</span>\n",
       "        <span style=\"font-weight: bold\">)</span>,\n",
       "        <span style=\"color: #800080; text-decoration-color: #800080; font-weight: bold\">np.float32</span><span style=\"font-weight: bold\">(</span><span style=\"color: #008080; text-decoration-color: #008080; font-weight: bold\">19117.65</span><span style=\"font-weight: bold\">)</span>\n",
       "    <span style=\"font-weight: bold\">)</span>\n",
       "<span style=\"font-weight: bold\">]</span>\n",
       "</pre>\n"
      ],
      "text/plain": [
       "\u001b[1m[\u001b[0m\n",
       "    \u001b[1m(\u001b[0m\n",
       "        \u001b[1;35mDocument\u001b[0m\u001b[1m(\u001b[0m\n",
       "            \u001b[33mid\u001b[0m=\u001b[32m'071fcd71-1ac1-4595-92c3-fd3b2f2b622c'\u001b[0m,\n",
       "            \u001b[33mmetadata\u001b[0m=\u001b[1m{\u001b[0m\u001b[32m'source'\u001b[0m: \u001b[32m'../3.2-dataIngestion/speech.txt'\u001b[0m\u001b[1m}\u001b[0m,\n",
       "            \u001b[33mpage_content\u001b[0m=\u001b[32m'To such a task we can dedicate our lives and our fortunes, everything that we are and \u001b[0m\n",
       "\u001b[32meverything that we have, with the pride of those who know that the day has come when America is privileged to spend\u001b[0m\n",
       "\u001b[32mher blood and her might for the principles that gave her birth and happiness and the peace which she has treasured.\u001b[0m\n",
       "\u001b[32mGod helping her, she can do no other.'\u001b[0m\n",
       "        \u001b[1m)\u001b[0m,\n",
       "        \u001b[1;35mnp.float32\u001b[0m\u001b[1m(\u001b[0m\u001b[1;36m15134.296\u001b[0m\u001b[1m)\u001b[0m\n",
       "    \u001b[1m)\u001b[0m,\n",
       "    \u001b[1m(\u001b[0m\n",
       "        \u001b[1;35mDocument\u001b[0m\u001b[1m(\u001b[0m\n",
       "            \u001b[33mid\u001b[0m=\u001b[32m'4997849a-0e42-4444-aaa5-de6b58c6872d'\u001b[0m,\n",
       "            \u001b[33mmetadata\u001b[0m=\u001b[1m{\u001b[0m\u001b[32m'source'\u001b[0m: \u001b[32m'../3.2-dataIngestion/speech.txt'\u001b[0m\u001b[1m}\u001b[0m,\n",
       "            \u001b[33mpage_content\u001b[0m=\u001b[32m'It is a distressing and oppressive duty, gentlemen of the Congress, which I have \u001b[0m\n",
       "\u001b[32mperformed in thus addressing you. There are, it may be, many months of fiery trial and sacrifice ahead of us. It is\u001b[0m\n",
       "\u001b[32ma fearful thing to lead this great peaceful people into war, into the most terrible and disastrous of all wars, \u001b[0m\n",
       "\u001b[32mcivilization itself seeming to be in the balance. But the right is more precious than peace, and we shall fight for\u001b[0m\n",
       "\u001b[32mthe things which we have always carried nearest our hearts—for democracy, for the right of those who submit to \u001b[0m\n",
       "\u001b[32mauthority to have a voice in their own governments, for the rights and liberties of small nations, for a universal \u001b[0m\n",
       "\u001b[32mdominion of right by such a concert of free peoples as shall bring peace and safety to all nations and make the \u001b[0m\n",
       "\u001b[32mworld itself at last free.'\u001b[0m\n",
       "        \u001b[1m)\u001b[0m,\n",
       "        \u001b[1;35mnp.float32\u001b[0m\u001b[1m(\u001b[0m\u001b[1;36m16159.79\u001b[0m\u001b[1m)\u001b[0m\n",
       "    \u001b[1m)\u001b[0m,\n",
       "    \u001b[1m(\u001b[0m\n",
       "        \u001b[1;35mDocument\u001b[0m\u001b[1m(\u001b[0m\n",
       "            \u001b[33mid\u001b[0m=\u001b[32m'deaa9237-8be2-4b7b-90bd-3ef57b9a83dc'\u001b[0m,\n",
       "            \u001b[33mmetadata\u001b[0m=\u001b[1m{\u001b[0m\u001b[32m'source'\u001b[0m: \u001b[32m'../3.2-dataIngestion/speech.txt'\u001b[0m\u001b[1m}\u001b[0m,\n",
       "            \u001b[33mpage_content\u001b[0m=\u001b[32m'…\\n\\nIt will be all the easier for us to conduct ourselves as belligerents in a high \u001b[0m\n",
       "\u001b[32mspirit of right and fairness because we act without animus, not in enmity toward a people or with the desire to \u001b[0m\n",
       "\u001b[32mbring any injury or disadvantage upon them, but only in armed opposition to an irresponsible government which has \u001b[0m\n",
       "\u001b[32mthrown aside all considerations of humanity and of right and is running amuck. We are, let me say again, the \u001b[0m\n",
       "\u001b[32msincere friends of the German people, and shall desire nothing so much as the early reestablishment of intimate \u001b[0m\n",
       "\u001b[32mrelations of mutual advantage between us—however hard it may be for them, for the time being, to believe that this \u001b[0m\n",
       "\u001b[32mis spoken from our hearts.'\u001b[0m\n",
       "        \u001b[1m)\u001b[0m,\n",
       "        \u001b[1;35mnp.float32\u001b[0m\u001b[1m(\u001b[0m\u001b[1;36m17188.637\u001b[0m\u001b[1m)\u001b[0m\n",
       "    \u001b[1m)\u001b[0m,\n",
       "    \u001b[1m(\u001b[0m\n",
       "        \u001b[1;35mDocument\u001b[0m\u001b[1m(\u001b[0m\n",
       "            \u001b[33mid\u001b[0m=\u001b[32m'a52f01ea-31ef-45b8-870c-5998ba77ba46'\u001b[0m,\n",
       "            \u001b[33mmetadata\u001b[0m=\u001b[1m{\u001b[0m\u001b[32m'source'\u001b[0m: \u001b[32m'../3.2-dataIngestion/speech.txt'\u001b[0m\u001b[1m}\u001b[0m,\n",
       "            \u001b[33mpage_content\u001b[0m=\u001b[32m'The world must be made safe for democracy. Its peace must be planted upon the tested \u001b[0m\n",
       "\u001b[32mfoundations of political liberty. We have no selfish ends to serve. We desire no conquest, no dominion. We seek no \u001b[0m\n",
       "\u001b[32mindemnities for ourselves, no material compensation for the sacrifices we shall freely make. We are but one of the \u001b[0m\n",
       "\u001b[32mchampions of the rights of mankind. We shall be satisfied when those rights have been made as secure as the faith \u001b[0m\n",
       "\u001b[32mand the freedom of nations can make them.\\n\\nJust because we fight without rancor and without selfish object, \u001b[0m\n",
       "\u001b[32mseeking nothing for ourselves but what we shall wish to share with all free peoples, we shall, I feel confident, \u001b[0m\n",
       "\u001b[32mconduct our operations as belligerents without passion and ourselves observe with proud punctilio the principles of\u001b[0m\n",
       "\u001b[32mright and of fair play we profess to be fighting for.\\n\\n…'\u001b[0m\n",
       "        \u001b[1m)\u001b[0m,\n",
       "        \u001b[1;35mnp.float32\u001b[0m\u001b[1m(\u001b[0m\u001b[1;36m19117.65\u001b[0m\u001b[1m)\u001b[0m\n",
       "    \u001b[1m)\u001b[0m\n",
       "\u001b[1m]\u001b[0m\n"
      ]
     },
     "metadata": {},
     "output_type": "display_data"
    }
   ],
   "source": [
    "docs_score=db.similarity_search_with_score(query)\n",
    "print(docs_score) # L2 score or Manhattan distance "
   ]
  },
  {
   "cell_type": "code",
   "execution_count": 32,
   "id": "5b415fe6",
   "metadata": {},
   "outputs": [
    {
     "data": {
      "text/html": [
       "<pre style=\"white-space:pre;overflow-x:auto;line-height:normal;font-family:Menlo,'DejaVu Sans Mono',consolas,'Courier New',monospace\"><span style=\"color: #800080; text-decoration-color: #800080; font-weight: bold\">Document</span><span style=\"font-weight: bold\">(</span>\n",
       "    <span style=\"color: #808000; text-decoration-color: #808000\">id</span>=<span style=\"color: #008000; text-decoration-color: #008000\">'071fcd71-1ac1-4595-92c3-fd3b2f2b622c'</span>,\n",
       "    <span style=\"color: #808000; text-decoration-color: #808000\">metadata</span>=<span style=\"font-weight: bold\">{</span><span style=\"color: #008000; text-decoration-color: #008000\">'source'</span>: <span style=\"color: #008000; text-decoration-color: #008000\">'../3.2-dataIngestion/speech.txt'</span><span style=\"font-weight: bold\">}</span>,\n",
       "    <span style=\"color: #808000; text-decoration-color: #808000\">page_content</span>=<span style=\"color: #008000; text-decoration-color: #008000\">'To such a task we can dedicate our lives and our fortunes, everything that we are and everything </span>\n",
       "<span style=\"color: #008000; text-decoration-color: #008000\">that we have, with the pride of those who know that the day has come when America is privileged to spend her blood </span>\n",
       "<span style=\"color: #008000; text-decoration-color: #008000\">and her might for the principles that gave her birth and happiness and the peace which she has treasured. God </span>\n",
       "<span style=\"color: #008000; text-decoration-color: #008000\">helping her, she can do no other.'</span>\n",
       "<span style=\"font-weight: bold\">)</span>\n",
       "</pre>\n"
      ],
      "text/plain": [
       "\u001b[1;35mDocument\u001b[0m\u001b[1m(\u001b[0m\n",
       "    \u001b[33mid\u001b[0m=\u001b[32m'071fcd71-1ac1-4595-92c3-fd3b2f2b622c'\u001b[0m,\n",
       "    \u001b[33mmetadata\u001b[0m=\u001b[1m{\u001b[0m\u001b[32m'source'\u001b[0m: \u001b[32m'../3.2-dataIngestion/speech.txt'\u001b[0m\u001b[1m}\u001b[0m,\n",
       "    \u001b[33mpage_content\u001b[0m=\u001b[32m'To such a task we can dedicate our lives and our fortunes, everything that we are and everything \u001b[0m\n",
       "\u001b[32mthat we have, with the pride of those who know that the day has come when America is privileged to spend her blood \u001b[0m\n",
       "\u001b[32mand her might for the principles that gave her birth and happiness and the peace which she has treasured. God \u001b[0m\n",
       "\u001b[32mhelping her, she can do no other.'\u001b[0m\n",
       "\u001b[1m)\u001b[0m\n"
      ]
     },
     "metadata": {},
     "output_type": "display_data"
    }
   ],
   "source": [
    "embedding_query=embedding.embed_query(query)\n",
    "\n",
    "vector_similarity=db.similarity_search_by_vector(embedding_query)\n",
    "print(vector_similarity[0])"
   ]
  },
  {
   "cell_type": "markdown",
   "id": "225e3eb2",
   "metadata": {},
   "source": [
    "#### Saving and Loading of vector db"
   ]
  },
  {
   "cell_type": "code",
   "execution_count": 33,
   "id": "faed7a9c",
   "metadata": {},
   "outputs": [],
   "source": [
    "db.save_local(\"faiss_index\")"
   ]
  },
  {
   "cell_type": "code",
   "execution_count": 34,
   "id": "476f74ae",
   "metadata": {},
   "outputs": [],
   "source": [
    "new_db=FAISS.load_local(\"faiss_index\",embedding,allow_dangerous_deserialization=True)"
   ]
  },
  {
   "cell_type": "code",
   "execution_count": 35,
   "id": "9567a8bf",
   "metadata": {},
   "outputs": [
    {
     "data": {
      "text/html": [
       "<pre style=\"white-space:pre;overflow-x:auto;line-height:normal;font-family:Menlo,'DejaVu Sans Mono',consolas,'Courier New',monospace\"><span style=\"color: #800080; text-decoration-color: #800080; font-weight: bold\">Document</span><span style=\"font-weight: bold\">(</span>\n",
       "    <span style=\"color: #808000; text-decoration-color: #808000\">id</span>=<span style=\"color: #008000; text-decoration-color: #008000\">'071fcd71-1ac1-4595-92c3-fd3b2f2b622c'</span>,\n",
       "    <span style=\"color: #808000; text-decoration-color: #808000\">metadata</span>=<span style=\"font-weight: bold\">{</span><span style=\"color: #008000; text-decoration-color: #008000\">'source'</span>: <span style=\"color: #008000; text-decoration-color: #008000\">'../3.2-dataIngestion/speech.txt'</span><span style=\"font-weight: bold\">}</span>,\n",
       "    <span style=\"color: #808000; text-decoration-color: #808000\">page_content</span>=<span style=\"color: #008000; text-decoration-color: #008000\">'To such a task we can dedicate our lives and our fortunes, everything that we are and everything </span>\n",
       "<span style=\"color: #008000; text-decoration-color: #008000\">that we have, with the pride of those who know that the day has come when America is privileged to spend her blood </span>\n",
       "<span style=\"color: #008000; text-decoration-color: #008000\">and her might for the principles that gave her birth and happiness and the peace which she has treasured. God </span>\n",
       "<span style=\"color: #008000; text-decoration-color: #008000\">helping her, she can do no other.'</span>\n",
       "<span style=\"font-weight: bold\">)</span>\n",
       "</pre>\n"
      ],
      "text/plain": [
       "\u001b[1;35mDocument\u001b[0m\u001b[1m(\u001b[0m\n",
       "    \u001b[33mid\u001b[0m=\u001b[32m'071fcd71-1ac1-4595-92c3-fd3b2f2b622c'\u001b[0m,\n",
       "    \u001b[33mmetadata\u001b[0m=\u001b[1m{\u001b[0m\u001b[32m'source'\u001b[0m: \u001b[32m'../3.2-dataIngestion/speech.txt'\u001b[0m\u001b[1m}\u001b[0m,\n",
       "    \u001b[33mpage_content\u001b[0m=\u001b[32m'To such a task we can dedicate our lives and our fortunes, everything that we are and everything \u001b[0m\n",
       "\u001b[32mthat we have, with the pride of those who know that the day has come when America is privileged to spend her blood \u001b[0m\n",
       "\u001b[32mand her might for the principles that gave her birth and happiness and the peace which she has treasured. God \u001b[0m\n",
       "\u001b[32mhelping her, she can do no other.'\u001b[0m\n",
       "\u001b[1m)\u001b[0m\n"
      ]
     },
     "metadata": {},
     "output_type": "display_data"
    }
   ],
   "source": [
    "print(new_db.similarity_search(query)[0])"
   ]
  },
  {
   "cell_type": "code",
   "execution_count": null,
   "id": "177820d3",
   "metadata": {},
   "outputs": [],
   "source": []
  }
 ],
 "metadata": {
  "kernelspec": {
   "display_name": "Python 3",
   "language": "python",
   "name": "python3"
  },
  "language_info": {
   "codemirror_mode": {
    "name": "ipython",
    "version": 3
   },
   "file_extension": ".py",
   "mimetype": "text/x-python",
   "name": "python",
   "nbconvert_exporter": "python",
   "pygments_lexer": "ipython3",
   "version": "3.10.0"
  }
 },
 "nbformat": 4,
 "nbformat_minor": 5
}
