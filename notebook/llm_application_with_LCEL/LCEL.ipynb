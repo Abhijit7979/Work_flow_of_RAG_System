{
 "cells": [
  {
   "cell_type": "markdown",
   "id": "1bc130b5",
   "metadata": {},
   "source": [
    "### Build a simple LLM application with LCEL \n",
    "\n",
    "In this quickstart we'll show you how to build a simple LLM application with langchain.This application will translate text from english into another language.This is a relatively simple llm application - it's just a sigle llm call plus some prompting.still, this is a great way to get started with langchain -a lot of features can be built with just some prompting and an llm call! \n",
    "\n",
    "After seeing this notebook, you'll have a high level overview of:\n",
    "- using language model \n",
    "\n",
    "- using PromptTemplates and outputParsers\n",
    "\n",
    "- using <b>LangChain Expression Language</b> (LCEL) to chain components together\n",
    "\n",
    "- debugging and tracing you application using langSmith \n",
    "\n",
    "- deploying your application with langServe"
   ]
  },
  {
   "cell_type": "code",
   "execution_count": 11,
   "id": "3292c3b4",
   "metadata": {},
   "outputs": [
    {
     "data": {
      "text/plain": [
       "True"
      ]
     },
     "execution_count": 11,
     "metadata": {},
     "output_type": "execute_result"
    }
   ],
   "source": [
    "import os \n",
    "from rich import print\n",
    "from dotenv import load_dotenv \n",
    "load_dotenv()"
   ]
  },
  {
   "cell_type": "code",
   "execution_count": 3,
   "id": "05acf05c",
   "metadata": {},
   "outputs": [],
   "source": [
    "os.environ[\"OPENAI_API_KEY\"]=os.getenv(\"OPENAI_API_KEY\")\n",
    "os.environ[\"GROQ_API_KEY\"]=os.getenv(\"GROQ_API_KEY\")"
   ]
  },
  {
   "cell_type": "code",
   "execution_count": 8,
   "id": "cf83da39",
   "metadata": {},
   "outputs": [
    {
     "data": {
      "text/plain": [
       "ChatGroq(client=<groq.resources.chat.completions.Completions object at 0x10d5969e0>, async_client=<groq.resources.chat.completions.AsyncCompletions object at 0x10d744850>, model_name='gemma2-9b-it', model_kwargs={}, groq_api_key=SecretStr('**********'))"
      ]
     },
     "execution_count": 8,
     "metadata": {},
     "output_type": "execute_result"
    }
   ],
   "source": [
    "from langchain_groq import ChatGroq\n",
    "from langchain_openai import ChatOpenAI\n",
    "\n",
    "llm=ChatGroq(model=\"gemma2-9b-it\")\n",
    "llm"
   ]
  },
  {
   "cell_type": "code",
   "execution_count": 21,
   "id": "ab56614f",
   "metadata": {},
   "outputs": [
    {
     "data": {
      "text/html": [
       "<pre style=\"white-space:pre;overflow-x:auto;line-height:normal;font-family:Menlo,'DejaVu Sans Mono',consolas,'Courier New',monospace\"><span style=\"font-weight: bold\">[</span>\n",
       "    <span style=\"color: #800080; text-decoration-color: #800080; font-weight: bold\">SystemMessage</span><span style=\"font-weight: bold\">(</span>\n",
       "        <span style=\"color: #808000; text-decoration-color: #808000\">content</span>=<span style=\"color: #008000; text-decoration-color: #008000\">'Translate the following from english to french.'</span>,\n",
       "        <span style=\"color: #808000; text-decoration-color: #808000\">additional_kwargs</span>=<span style=\"font-weight: bold\">{}</span>,\n",
       "        <span style=\"color: #808000; text-decoration-color: #808000\">response_metadata</span>=<span style=\"font-weight: bold\">{}</span>\n",
       "    <span style=\"font-weight: bold\">)</span>,\n",
       "    <span style=\"color: #800080; text-decoration-color: #800080; font-weight: bold\">HumanMessage</span><span style=\"font-weight: bold\">(</span><span style=\"color: #808000; text-decoration-color: #808000\">content</span>=<span style=\"color: #008000; text-decoration-color: #008000\">'hello how are you?'</span>, <span style=\"color: #808000; text-decoration-color: #808000\">additional_kwargs</span>=<span style=\"font-weight: bold\">{}</span>, <span style=\"color: #808000; text-decoration-color: #808000\">response_metadata</span>=<span style=\"font-weight: bold\">{})</span>\n",
       "<span style=\"font-weight: bold\">]</span>\n",
       "</pre>\n"
      ],
      "text/plain": [
       "\u001b[1m[\u001b[0m\n",
       "    \u001b[1;35mSystemMessage\u001b[0m\u001b[1m(\u001b[0m\n",
       "        \u001b[33mcontent\u001b[0m=\u001b[32m'Translate the following from english to french.'\u001b[0m,\n",
       "        \u001b[33madditional_kwargs\u001b[0m=\u001b[1m{\u001b[0m\u001b[1m}\u001b[0m,\n",
       "        \u001b[33mresponse_metadata\u001b[0m=\u001b[1m{\u001b[0m\u001b[1m}\u001b[0m\n",
       "    \u001b[1m)\u001b[0m,\n",
       "    \u001b[1;35mHumanMessage\u001b[0m\u001b[1m(\u001b[0m\u001b[33mcontent\u001b[0m=\u001b[32m'hello how are you?'\u001b[0m, \u001b[33madditional_kwargs\u001b[0m=\u001b[1m{\u001b[0m\u001b[1m}\u001b[0m, \u001b[33mresponse_metadata\u001b[0m=\u001b[1m{\u001b[0m\u001b[1m}\u001b[0m\u001b[1m)\u001b[0m\n",
       "\u001b[1m]\u001b[0m\n"
      ]
     },
     "metadata": {},
     "output_type": "display_data"
    }
   ],
   "source": [
    "from langchain_core.messages import HumanMessage,SystemMessage\n",
    "\n",
    "messages=[\n",
    "    SystemMessage(content=\"Translate the following from english to french.\"),\n",
    "    HumanMessage(content=\"hello how are you?\")\n",
    "\n",
    "]\n",
    "print(messages)"
   ]
  },
  {
   "cell_type": "code",
   "execution_count": 22,
   "id": "a0c907d4",
   "metadata": {},
   "outputs": [],
   "source": [
    "result=llm.invoke(messages)"
   ]
  },
  {
   "cell_type": "code",
   "execution_count": 23,
   "id": "fca42f9f",
   "metadata": {},
   "outputs": [
    {
     "data": {
      "text/html": [
       "<pre style=\"white-space:pre;overflow-x:auto;line-height:normal;font-family:Menlo,'DejaVu Sans Mono',consolas,'Courier New',monospace\">Bonjour, comment allez-vous ? \n",
       "\n",
       "\n",
       "This is a formal way to say hello and ask how someone is doing in French. \n",
       "\n",
       "Here are some other options, depending on the context:\n",
       "\n",
       "* **Informal:** Salut, ça va ?\n",
       "* **Very informal:** Coucou, comment vas-tu ? <span style=\"font-weight: bold\">(</span>used with someone you know well<span style=\"font-weight: bold\">)</span>\n",
       "\n",
       "</pre>\n"
      ],
      "text/plain": [
       "Bonjour, comment allez-vous ? \n",
       "\n",
       "\n",
       "This is a formal way to say hello and ask how someone is doing in French. \n",
       "\n",
       "Here are some other options, depending on the context:\n",
       "\n",
       "* **Informal:** Salut, ça va ?\n",
       "* **Very informal:** Coucou, comment vas-tu ? \u001b[1m(\u001b[0mused with someone you know well\u001b[1m)\u001b[0m\n",
       "\n"
      ]
     },
     "metadata": {},
     "output_type": "display_data"
    }
   ],
   "source": [
    "print(result.content)"
   ]
  },
  {
   "cell_type": "code",
   "execution_count": 24,
   "id": "91e31bab",
   "metadata": {},
   "outputs": [],
   "source": [
    "from langchain_core.output_parsers import StrOutputParser\n",
    "parser=StrOutputParser()"
   ]
  },
  {
   "cell_type": "code",
   "execution_count": 26,
   "id": "1c6ff2cb",
   "metadata": {},
   "outputs": [
    {
     "data": {
      "text/html": [
       "<pre style=\"white-space:pre;overflow-x:auto;line-height:normal;font-family:Menlo,'DejaVu Sans Mono',consolas,'Courier New',monospace\">Bonjour, comment allez-vous ? \n",
       "\n",
       "\n",
       "This is a formal way to say hello and ask how someone is doing in French. \n",
       "\n",
       "Here are some other options, depending on the context:\n",
       "\n",
       "* **Informal:** Salut, ça va ?\n",
       "* **Very informal:** Coucou, comment vas-tu ? <span style=\"font-weight: bold\">(</span>used with someone you know well<span style=\"font-weight: bold\">)</span>\n",
       "\n",
       "</pre>\n"
      ],
      "text/plain": [
       "Bonjour, comment allez-vous ? \n",
       "\n",
       "\n",
       "This is a formal way to say hello and ask how someone is doing in French. \n",
       "\n",
       "Here are some other options, depending on the context:\n",
       "\n",
       "* **Informal:** Salut, ça va ?\n",
       "* **Very informal:** Coucou, comment vas-tu ? \u001b[1m(\u001b[0mused with someone you know well\u001b[1m)\u001b[0m\n",
       "\n"
      ]
     },
     "metadata": {},
     "output_type": "display_data"
    }
   ],
   "source": [
    "print(parser.invoke(result))"
   ]
  },
  {
   "cell_type": "markdown",
   "id": "360db7ee",
   "metadata": {},
   "source": [
    "#### Using LCEL- chain the components"
   ]
  },
  {
   "cell_type": "code",
   "execution_count": 27,
   "id": "1881fb41",
   "metadata": {},
   "outputs": [],
   "source": [
    "chain=llm|parser\n",
    "\n",
    "result=chain.invoke(messages)"
   ]
  },
  {
   "cell_type": "code",
   "execution_count": 28,
   "id": "8a8dff73",
   "metadata": {},
   "outputs": [
    {
     "data": {
      "text/html": [
       "<pre style=\"white-space:pre;overflow-x:auto;line-height:normal;font-family:Menlo,'DejaVu Sans Mono',consolas,'Courier New',monospace\">The most common way to say <span style=\"color: #008000; text-decoration-color: #008000\">\"Hello, how are you?\"</span> in French is:\n",
       "\n",
       "**Bonjour, comment allez-vous ?** \n",
       "\n",
       "Here's a breakdown:\n",
       "\n",
       "* **Bonjour:** Hello\n",
       "* **comment:** how\n",
       "* **allez-vous:** are you <span style=\"font-weight: bold\">(</span>formal, polite<span style=\"font-weight: bold\">)</span>\n",
       "\n",
       "\n",
       "Let me know if you'd like other ways to say it!\n",
       "\n",
       "</pre>\n"
      ],
      "text/plain": [
       "The most common way to say \u001b[32m\"Hello, how are you?\"\u001b[0m in French is:\n",
       "\n",
       "**Bonjour, comment allez-vous ?** \n",
       "\n",
       "Here's a breakdown:\n",
       "\n",
       "* **Bonjour:** Hello\n",
       "* **comment:** how\n",
       "* **allez-vous:** are you \u001b[1m(\u001b[0mformal, polite\u001b[1m)\u001b[0m\n",
       "\n",
       "\n",
       "Let me know if you'd like other ways to say it!\n",
       "\n"
      ]
     },
     "metadata": {},
     "output_type": "display_data"
    }
   ],
   "source": [
    "print(result)"
   ]
  },
  {
   "cell_type": "markdown",
   "id": "7c472f68",
   "metadata": {},
   "source": [
    "#### Prompt Templates"
   ]
  },
  {
   "cell_type": "code",
   "execution_count": 29,
   "id": "07e64db3",
   "metadata": {},
   "outputs": [
    {
     "data": {
      "text/plain": [
       "ChatPromptTemplate(input_variables=['language', 'text'], input_types={}, partial_variables={}, messages=[SystemMessagePromptTemplate(prompt=PromptTemplate(input_variables=['language'], input_types={}, partial_variables={}, template='Translate the following into {language} : '), additional_kwargs={}), HumanMessagePromptTemplate(prompt=PromptTemplate(input_variables=['text'], input_types={}, partial_variables={}, template='{text}'), additional_kwargs={})])"
      ]
     },
     "execution_count": 29,
     "metadata": {},
     "output_type": "execute_result"
    }
   ],
   "source": [
    "from langchain_core.prompts import ChatPromptTemplate\n",
    "\n",
    "generic_template=\"Translate the following into {language} : \"\n",
    "\n",
    "prompt=ChatPromptTemplate.from_messages(\n",
    "    [\n",
    "        (\"system\",generic_template),\n",
    "        (\"user\",\"{text}\")\n",
    "    ]\n",
    ")\n",
    "\n",
    "prompt"
   ]
  },
  {
   "cell_type": "code",
   "execution_count": 31,
   "id": "0f82d493",
   "metadata": {},
   "outputs": [
    {
     "data": {
      "text/html": [
       "<pre style=\"white-space:pre;overflow-x:auto;line-height:normal;font-family:Menlo,'DejaVu Sans Mono',consolas,'Courier New',monospace\"><span style=\"color: #800080; text-decoration-color: #800080; font-weight: bold\">ChatPromptValue</span><span style=\"font-weight: bold\">(</span>\n",
       "    <span style=\"color: #808000; text-decoration-color: #808000\">messages</span>=<span style=\"font-weight: bold\">[</span>\n",
       "        <span style=\"color: #800080; text-decoration-color: #800080; font-weight: bold\">SystemMessage</span><span style=\"font-weight: bold\">(</span>\n",
       "            <span style=\"color: #808000; text-decoration-color: #808000\">content</span>=<span style=\"color: #008000; text-decoration-color: #008000\">'Translate the following into telugu : '</span>,\n",
       "            <span style=\"color: #808000; text-decoration-color: #808000\">additional_kwargs</span>=<span style=\"font-weight: bold\">{}</span>,\n",
       "            <span style=\"color: #808000; text-decoration-color: #808000\">response_metadata</span>=<span style=\"font-weight: bold\">{}</span>\n",
       "        <span style=\"font-weight: bold\">)</span>,\n",
       "        <span style=\"color: #800080; text-decoration-color: #800080; font-weight: bold\">HumanMessage</span><span style=\"font-weight: bold\">(</span><span style=\"color: #808000; text-decoration-color: #808000\">content</span>=<span style=\"color: #008000; text-decoration-color: #008000\">'hello how are you ? '</span>, <span style=\"color: #808000; text-decoration-color: #808000\">additional_kwargs</span>=<span style=\"font-weight: bold\">{}</span>, <span style=\"color: #808000; text-decoration-color: #808000\">response_metadata</span>=<span style=\"font-weight: bold\">{})</span>\n",
       "    <span style=\"font-weight: bold\">]</span>\n",
       "<span style=\"font-weight: bold\">)</span>\n",
       "</pre>\n"
      ],
      "text/plain": [
       "\u001b[1;35mChatPromptValue\u001b[0m\u001b[1m(\u001b[0m\n",
       "    \u001b[33mmessages\u001b[0m=\u001b[1m[\u001b[0m\n",
       "        \u001b[1;35mSystemMessage\u001b[0m\u001b[1m(\u001b[0m\n",
       "            \u001b[33mcontent\u001b[0m=\u001b[32m'Translate the following into telugu : '\u001b[0m,\n",
       "            \u001b[33madditional_kwargs\u001b[0m=\u001b[1m{\u001b[0m\u001b[1m}\u001b[0m,\n",
       "            \u001b[33mresponse_metadata\u001b[0m=\u001b[1m{\u001b[0m\u001b[1m}\u001b[0m\n",
       "        \u001b[1m)\u001b[0m,\n",
       "        \u001b[1;35mHumanMessage\u001b[0m\u001b[1m(\u001b[0m\u001b[33mcontent\u001b[0m=\u001b[32m'hello how are you ? '\u001b[0m, \u001b[33madditional_kwargs\u001b[0m=\u001b[1m{\u001b[0m\u001b[1m}\u001b[0m, \u001b[33mresponse_metadata\u001b[0m=\u001b[1m{\u001b[0m\u001b[1m}\u001b[0m\u001b[1m)\u001b[0m\n",
       "    \u001b[1m]\u001b[0m\n",
       "\u001b[1m)\u001b[0m\n"
      ]
     },
     "metadata": {},
     "output_type": "display_data"
    }
   ],
   "source": [
    "print(prompt.invoke({\"language\":\"telugu\",\"text\":\"hello how are you ? \"}))"
   ]
  },
  {
   "cell_type": "code",
   "execution_count": 32,
   "id": "be577ef3",
   "metadata": {},
   "outputs": [],
   "source": [
    "final_chain=prompt|llm|parser"
   ]
  },
  {
   "cell_type": "code",
   "execution_count": 34,
   "id": "97ca8aec",
   "metadata": {},
   "outputs": [
    {
     "data": {
      "text/html": [
       "<pre style=\"white-space:pre;overflow-x:auto;line-height:normal;font-family:Menlo,'DejaVu Sans Mono',consolas,'Courier New',monospace\">Here's how you say <span style=\"color: #008000; text-decoration-color: #008000\">\"Hello, how are you?\"</span> in Telugu:\n",
       "\n",
       "**Formal:**\n",
       "\n",
       "* **నమస్కారం, మీరు ఎలా ఉన్నారు?** <span style=\"font-weight: bold\">(</span>NamaskarAM, meeru ela unnaru?<span style=\"font-weight: bold\">)</span> \n",
       "\n",
       "**Informal:**\n",
       "\n",
       "* **హలో, ఎలా ఉన్నావు?** <span style=\"font-weight: bold\">(</span>Halo, ela unnaavu?<span style=\"font-weight: bold\">)</span>\n",
       "\n",
       "**Note:** \n",
       "\n",
       "*  <span style=\"color: #008000; text-decoration-color: #008000\">\"మీరు\"</span> <span style=\"font-weight: bold\">(</span>meeru<span style=\"font-weight: bold\">)</span> is the formal <span style=\"color: #008000; text-decoration-color: #008000\">\"you,\"</span> used with respect.\n",
       "* <span style=\"color: #008000; text-decoration-color: #008000\">\"మీ\"</span> <span style=\"font-weight: bold\">(</span>mee<span style=\"font-weight: bold\">)</span> is the more informal <span style=\"color: #008000; text-decoration-color: #008000\">\"you.\"</span>\n",
       "*  <span style=\"color: #008000; text-decoration-color: #008000\">\"ఎలా ఉన్నారు\"</span> <span style=\"font-weight: bold\">(</span>ela unnaru<span style=\"font-weight: bold\">)</span> is the formal way to ask <span style=\"color: #008000; text-decoration-color: #008000\">\"how are you?\"</span>\n",
       "* <span style=\"color: #008000; text-decoration-color: #008000\">\"ఎలా ఉన్నావు\"</span> <span style=\"font-weight: bold\">(</span>ela unnaavu<span style=\"font-weight: bold\">)</span> is the informal way to ask <span style=\"color: #008000; text-decoration-color: #008000\">\"how are you?\"</span>\n",
       "\n",
       "\n",
       "Let me know if you'd like to know more Telugu phrases!\n",
       "\n",
       "</pre>\n"
      ],
      "text/plain": [
       "Here's how you say \u001b[32m\"Hello, how are you?\"\u001b[0m in Telugu:\n",
       "\n",
       "**Formal:**\n",
       "\n",
       "* **నమస్కారం, మీరు ఎలా ఉన్నారు?** \u001b[1m(\u001b[0mNamaskarAM, meeru ela unnaru?\u001b[1m)\u001b[0m \n",
       "\n",
       "**Informal:**\n",
       "\n",
       "* **హలో, ఎలా ఉన్నావు?** \u001b[1m(\u001b[0mHalo, ela unnaavu?\u001b[1m)\u001b[0m\n",
       "\n",
       "**Note:** \n",
       "\n",
       "*  \u001b[32m\"మీరు\"\u001b[0m \u001b[1m(\u001b[0mmeeru\u001b[1m)\u001b[0m is the formal \u001b[32m\"you,\"\u001b[0m used with respect.\n",
       "* \u001b[32m\"మీ\"\u001b[0m \u001b[1m(\u001b[0mmee\u001b[1m)\u001b[0m is the more informal \u001b[32m\"you.\"\u001b[0m\n",
       "*  \u001b[32m\"ఎలా ఉన్నారు\"\u001b[0m \u001b[1m(\u001b[0mela unnaru\u001b[1m)\u001b[0m is the formal way to ask \u001b[32m\"how are you?\"\u001b[0m\n",
       "* \u001b[32m\"ఎలా ఉన్నావు\"\u001b[0m \u001b[1m(\u001b[0mela unnaavu\u001b[1m)\u001b[0m is the informal way to ask \u001b[32m\"how are you?\"\u001b[0m\n",
       "\n",
       "\n",
       "Let me know if you'd like to know more Telugu phrases!\n",
       "\n"
      ]
     },
     "metadata": {},
     "output_type": "display_data"
    }
   ],
   "source": [
    "print(final_chain.invoke({\"language\":\"telugu\",\"text\":\"hello how are you ?\"}))"
   ]
  },
  {
   "cell_type": "code",
   "execution_count": null,
   "id": "db5fde4e",
   "metadata": {},
   "outputs": [],
   "source": []
  }
 ],
 "metadata": {
  "kernelspec": {
   "display_name": "Python 3",
   "language": "python",
   "name": "python3"
  },
  "language_info": {
   "codemirror_mode": {
    "name": "ipython",
    "version": 3
   },
   "file_extension": ".py",
   "mimetype": "text/x-python",
   "name": "python",
   "nbconvert_exporter": "python",
   "pygments_lexer": "ipython3",
   "version": "3.10.0"
  }
 },
 "nbformat": 4,
 "nbformat_minor": 5
}
