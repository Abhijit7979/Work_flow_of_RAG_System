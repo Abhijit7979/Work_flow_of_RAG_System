{
 "cells": [
  {
   "cell_type": "markdown",
   "id": "d3a26a4a",
   "metadata": {},
   "source": [
    "## how to split by HTML header \n",
    "\n",
    "HTMLHeaderTextSplitter is a \"structure-aware\" chunker that splits text at the HTML element level and adds metadata for each header \"relevant\" to any given chunk. it can return chunks element by element or combine elements with the same metadata, with the objectives of (a) keeping related text grouped (more ot less) semantically and (b) preserving context - rich information encoded in document structures. it can be used with other text splitters as part of a chunking pipeline."
   ]
  },
  {
   "cell_type": "code",
   "execution_count": 5,
   "id": "f76852b0",
   "metadata": {},
   "outputs": [],
   "source": [
    "from langchain_text_splitters import HTMLHeaderTextSplitter\n",
    "from rich import print\n",
    "html_string = \"\"\"\n",
    "<html>\n",
    "  <body>\n",
    "    <h1>Introduction</h1>\n",
    "    <p>This is the introduction section.</p>\n",
    "    <h2>Background</h2>\n",
    "    <p>Some background information about the topic.</p>\n",
    "    <h2>Methodology</h2>\n",
    "    <p>Details about the methods used in the study.</p>\n",
    "    <h1>Conclusion</h1>\n",
    "    <p>Final thoughts and summary of the document.</p>\n",
    "  </body>\n",
    "</html>\n",
    "\"\"\""
   ]
  },
  {
   "cell_type": "code",
   "execution_count": 9,
   "id": "b1a46084",
   "metadata": {},
   "outputs": [],
   "source": [
    "hearders_to_split_on=[\n",
    "    (\"h1\",\"Header 1\"),\n",
    "    (\"h2\",\"Header 2\"),\n",
    "    (\"h3\",\"Header 3\")\n",
    "]\n",
    "\n",
    "html_splitter=HTMLHeaderTextSplitter(hearders_to_split_on)\n",
    "html_header=html_splitter.split_text(html_string)"
   ]
  },
  {
   "cell_type": "code",
   "execution_count": 10,
   "id": "93a61c62",
   "metadata": {},
   "outputs": [
    {
     "data": {
      "text/html": [
       "<pre style=\"white-space:pre;overflow-x:auto;line-height:normal;font-family:Menlo,'DejaVu Sans Mono',consolas,'Courier New',monospace\"><span style=\"font-weight: bold\">[</span>\n",
       "    <span style=\"color: #800080; text-decoration-color: #800080; font-weight: bold\">Document</span><span style=\"font-weight: bold\">(</span><span style=\"color: #808000; text-decoration-color: #808000\">metadata</span>=<span style=\"font-weight: bold\">{</span><span style=\"color: #008000; text-decoration-color: #008000\">'Header 1'</span>: <span style=\"color: #008000; text-decoration-color: #008000\">'Introduction'</span><span style=\"font-weight: bold\">}</span>, <span style=\"color: #808000; text-decoration-color: #808000\">page_content</span>=<span style=\"color: #008000; text-decoration-color: #008000\">'Introduction'</span><span style=\"font-weight: bold\">)</span>,\n",
       "    <span style=\"color: #800080; text-decoration-color: #800080; font-weight: bold\">Document</span><span style=\"font-weight: bold\">(</span><span style=\"color: #808000; text-decoration-color: #808000\">metadata</span>=<span style=\"font-weight: bold\">{</span><span style=\"color: #008000; text-decoration-color: #008000\">'Header 1'</span>: <span style=\"color: #008000; text-decoration-color: #008000\">'Introduction'</span><span style=\"font-weight: bold\">}</span>, <span style=\"color: #808000; text-decoration-color: #808000\">page_content</span>=<span style=\"color: #008000; text-decoration-color: #008000\">'This is the introduction section.'</span><span style=\"font-weight: bold\">)</span>,\n",
       "    <span style=\"color: #800080; text-decoration-color: #800080; font-weight: bold\">Document</span><span style=\"font-weight: bold\">(</span><span style=\"color: #808000; text-decoration-color: #808000\">metadata</span>=<span style=\"font-weight: bold\">{</span><span style=\"color: #008000; text-decoration-color: #008000\">'Header 1'</span>: <span style=\"color: #008000; text-decoration-color: #008000\">'Introduction'</span>, <span style=\"color: #008000; text-decoration-color: #008000\">'Header 2'</span>: <span style=\"color: #008000; text-decoration-color: #008000\">'Background'</span><span style=\"font-weight: bold\">}</span>, <span style=\"color: #808000; text-decoration-color: #808000\">page_content</span>=<span style=\"color: #008000; text-decoration-color: #008000\">'Background'</span><span style=\"font-weight: bold\">)</span>,\n",
       "    <span style=\"color: #800080; text-decoration-color: #800080; font-weight: bold\">Document</span><span style=\"font-weight: bold\">(</span>\n",
       "        <span style=\"color: #808000; text-decoration-color: #808000\">metadata</span>=<span style=\"font-weight: bold\">{</span><span style=\"color: #008000; text-decoration-color: #008000\">'Header 1'</span>: <span style=\"color: #008000; text-decoration-color: #008000\">'Introduction'</span>, <span style=\"color: #008000; text-decoration-color: #008000\">'Header 2'</span>: <span style=\"color: #008000; text-decoration-color: #008000\">'Background'</span><span style=\"font-weight: bold\">}</span>,\n",
       "        <span style=\"color: #808000; text-decoration-color: #808000\">page_content</span>=<span style=\"color: #008000; text-decoration-color: #008000\">'Some background information about the topic.'</span>\n",
       "    <span style=\"font-weight: bold\">)</span>,\n",
       "    <span style=\"color: #800080; text-decoration-color: #800080; font-weight: bold\">Document</span><span style=\"font-weight: bold\">(</span><span style=\"color: #808000; text-decoration-color: #808000\">metadata</span>=<span style=\"font-weight: bold\">{</span><span style=\"color: #008000; text-decoration-color: #008000\">'Header 1'</span>: <span style=\"color: #008000; text-decoration-color: #008000\">'Introduction'</span>, <span style=\"color: #008000; text-decoration-color: #008000\">'Header 2'</span>: <span style=\"color: #008000; text-decoration-color: #008000\">'Methodology'</span><span style=\"font-weight: bold\">}</span>, <span style=\"color: #808000; text-decoration-color: #808000\">page_content</span>=<span style=\"color: #008000; text-decoration-color: #008000\">'Methodology'</span><span style=\"font-weight: bold\">)</span>,\n",
       "    <span style=\"color: #800080; text-decoration-color: #800080; font-weight: bold\">Document</span><span style=\"font-weight: bold\">(</span>\n",
       "        <span style=\"color: #808000; text-decoration-color: #808000\">metadata</span>=<span style=\"font-weight: bold\">{</span><span style=\"color: #008000; text-decoration-color: #008000\">'Header 1'</span>: <span style=\"color: #008000; text-decoration-color: #008000\">'Introduction'</span>, <span style=\"color: #008000; text-decoration-color: #008000\">'Header 2'</span>: <span style=\"color: #008000; text-decoration-color: #008000\">'Methodology'</span><span style=\"font-weight: bold\">}</span>,\n",
       "        <span style=\"color: #808000; text-decoration-color: #808000\">page_content</span>=<span style=\"color: #008000; text-decoration-color: #008000\">'Details about the methods used in the study.'</span>\n",
       "    <span style=\"font-weight: bold\">)</span>,\n",
       "    <span style=\"color: #800080; text-decoration-color: #800080; font-weight: bold\">Document</span><span style=\"font-weight: bold\">(</span><span style=\"color: #808000; text-decoration-color: #808000\">metadata</span>=<span style=\"font-weight: bold\">{</span><span style=\"color: #008000; text-decoration-color: #008000\">'Header 1'</span>: <span style=\"color: #008000; text-decoration-color: #008000\">'Conclusion'</span><span style=\"font-weight: bold\">}</span>, <span style=\"color: #808000; text-decoration-color: #808000\">page_content</span>=<span style=\"color: #008000; text-decoration-color: #008000\">'Conclusion'</span><span style=\"font-weight: bold\">)</span>,\n",
       "    <span style=\"color: #800080; text-decoration-color: #800080; font-weight: bold\">Document</span><span style=\"font-weight: bold\">(</span><span style=\"color: #808000; text-decoration-color: #808000\">metadata</span>=<span style=\"font-weight: bold\">{</span><span style=\"color: #008000; text-decoration-color: #008000\">'Header 1'</span>: <span style=\"color: #008000; text-decoration-color: #008000\">'Conclusion'</span><span style=\"font-weight: bold\">}</span>, <span style=\"color: #808000; text-decoration-color: #808000\">page_content</span>=<span style=\"color: #008000; text-decoration-color: #008000\">'Final thoughts and summary of the document.'</span><span style=\"font-weight: bold\">)</span>\n",
       "<span style=\"font-weight: bold\">]</span>\n",
       "</pre>\n"
      ],
      "text/plain": [
       "\u001b[1m[\u001b[0m\n",
       "    \u001b[1;35mDocument\u001b[0m\u001b[1m(\u001b[0m\u001b[33mmetadata\u001b[0m=\u001b[1m{\u001b[0m\u001b[32m'Header 1'\u001b[0m: \u001b[32m'Introduction'\u001b[0m\u001b[1m}\u001b[0m, \u001b[33mpage_content\u001b[0m=\u001b[32m'Introduction'\u001b[0m\u001b[1m)\u001b[0m,\n",
       "    \u001b[1;35mDocument\u001b[0m\u001b[1m(\u001b[0m\u001b[33mmetadata\u001b[0m=\u001b[1m{\u001b[0m\u001b[32m'Header 1'\u001b[0m: \u001b[32m'Introduction'\u001b[0m\u001b[1m}\u001b[0m, \u001b[33mpage_content\u001b[0m=\u001b[32m'This is the introduction section.'\u001b[0m\u001b[1m)\u001b[0m,\n",
       "    \u001b[1;35mDocument\u001b[0m\u001b[1m(\u001b[0m\u001b[33mmetadata\u001b[0m=\u001b[1m{\u001b[0m\u001b[32m'Header 1'\u001b[0m: \u001b[32m'Introduction'\u001b[0m, \u001b[32m'Header 2'\u001b[0m: \u001b[32m'Background'\u001b[0m\u001b[1m}\u001b[0m, \u001b[33mpage_content\u001b[0m=\u001b[32m'Background'\u001b[0m\u001b[1m)\u001b[0m,\n",
       "    \u001b[1;35mDocument\u001b[0m\u001b[1m(\u001b[0m\n",
       "        \u001b[33mmetadata\u001b[0m=\u001b[1m{\u001b[0m\u001b[32m'Header 1'\u001b[0m: \u001b[32m'Introduction'\u001b[0m, \u001b[32m'Header 2'\u001b[0m: \u001b[32m'Background'\u001b[0m\u001b[1m}\u001b[0m,\n",
       "        \u001b[33mpage_content\u001b[0m=\u001b[32m'Some background information about the topic.'\u001b[0m\n",
       "    \u001b[1m)\u001b[0m,\n",
       "    \u001b[1;35mDocument\u001b[0m\u001b[1m(\u001b[0m\u001b[33mmetadata\u001b[0m=\u001b[1m{\u001b[0m\u001b[32m'Header 1'\u001b[0m: \u001b[32m'Introduction'\u001b[0m, \u001b[32m'Header 2'\u001b[0m: \u001b[32m'Methodology'\u001b[0m\u001b[1m}\u001b[0m, \u001b[33mpage_content\u001b[0m=\u001b[32m'Methodology'\u001b[0m\u001b[1m)\u001b[0m,\n",
       "    \u001b[1;35mDocument\u001b[0m\u001b[1m(\u001b[0m\n",
       "        \u001b[33mmetadata\u001b[0m=\u001b[1m{\u001b[0m\u001b[32m'Header 1'\u001b[0m: \u001b[32m'Introduction'\u001b[0m, \u001b[32m'Header 2'\u001b[0m: \u001b[32m'Methodology'\u001b[0m\u001b[1m}\u001b[0m,\n",
       "        \u001b[33mpage_content\u001b[0m=\u001b[32m'Details about the methods used in the study.'\u001b[0m\n",
       "    \u001b[1m)\u001b[0m,\n",
       "    \u001b[1;35mDocument\u001b[0m\u001b[1m(\u001b[0m\u001b[33mmetadata\u001b[0m=\u001b[1m{\u001b[0m\u001b[32m'Header 1'\u001b[0m: \u001b[32m'Conclusion'\u001b[0m\u001b[1m}\u001b[0m, \u001b[33mpage_content\u001b[0m=\u001b[32m'Conclusion'\u001b[0m\u001b[1m)\u001b[0m,\n",
       "    \u001b[1;35mDocument\u001b[0m\u001b[1m(\u001b[0m\u001b[33mmetadata\u001b[0m=\u001b[1m{\u001b[0m\u001b[32m'Header 1'\u001b[0m: \u001b[32m'Conclusion'\u001b[0m\u001b[1m}\u001b[0m, \u001b[33mpage_content\u001b[0m=\u001b[32m'Final thoughts and summary of the document.'\u001b[0m\u001b[1m)\u001b[0m\n",
       "\u001b[1m]\u001b[0m\n"
      ]
     },
     "metadata": {},
     "output_type": "display_data"
    }
   ],
   "source": [
    "print(html_header)"
   ]
  },
  {
   "cell_type": "code",
   "execution_count": 11,
   "id": "cd7cdeb9",
   "metadata": {},
   "outputs": [],
   "source": [
    "# using URL \n",
    "\n",
    "url=\"https://medium.com/@RobuRishabh/introduction-to-machine-learning-555b0f1b62f5\"\n",
    "html_url=html_splitter.split_text_from_url(url)"
   ]
  },
  {
   "cell_type": "code",
   "execution_count": 13,
   "id": "8874ea02",
   "metadata": {},
   "outputs": [
    {
     "data": {
      "text/html": [
       "<pre style=\"white-space:pre;overflow-x:auto;line-height:normal;font-family:Menlo,'DejaVu Sans Mono',consolas,'Courier New',monospace\"><span style=\"font-weight: bold\">[</span>\n",
       "    <span style=\"color: #800080; text-decoration-color: #800080; font-weight: bold\">Document</span><span style=\"font-weight: bold\">(</span>\n",
       "        <span style=\"color: #808000; text-decoration-color: #808000\">metadata</span>=<span style=\"font-weight: bold\">{}</span>,\n",
       "        <span style=\"color: #808000; text-decoration-color: #808000\">page_content</span>=<span style=\"color: #008000; text-decoration-color: #008000\">'Sitemap  \\ndocument.domain = document.domain;  \\nOpen in app  \\nSign up  \\nSign in  \\nMedium </span>\n",
       "<span style=\"color: #008000; text-decoration-color: #008000\">Logo  \\nWrite  \\nSign up  \\nSign in'</span>\n",
       "    <span style=\"font-weight: bold\">)</span>,\n",
       "    <span style=\"color: #800080; text-decoration-color: #800080; font-weight: bold\">Document</span><span style=\"font-weight: bold\">(</span>\n",
       "        <span style=\"color: #808000; text-decoration-color: #808000\">metadata</span>=<span style=\"font-weight: bold\">{</span><span style=\"color: #008000; text-decoration-color: #008000\">'Header 1'</span>: <span style=\"color: #008000; text-decoration-color: #008000\">'Introduction to Machine Learning'</span><span style=\"font-weight: bold\">}</span>,\n",
       "        <span style=\"color: #808000; text-decoration-color: #808000\">page_content</span>=<span style=\"color: #008000; text-decoration-color: #008000\">'Introduction to Machine Learning'</span>\n",
       "    <span style=\"font-weight: bold\">)</span>,\n",
       "    <span style=\"color: #800080; text-decoration-color: #800080; font-weight: bold\">Document</span><span style=\"font-weight: bold\">(</span>\n",
       "        <span style=\"color: #808000; text-decoration-color: #808000\">metadata</span>=<span style=\"font-weight: bold\">{}</span>,\n",
       "        <span style=\"color: #808000; text-decoration-color: #808000\">page_content</span>=<span style=\"color: #008000; text-decoration-color: #008000\">'Rishabh Singh  \\n11 min read  \\n·  \\nOct 4, 2024  \\n--  \\nListen  \\nShare  \\nMachine Learning</span>\n",
       "<span style=\"color: #008000; text-decoration-color: #008000\">(ML) is a branch of artificial intelligence (AI) that allows computers to learn and make predictions or decisions </span>\n",
       "<span style=\"color: #008000; text-decoration-color: #008000\">without being explicitly programmed for each task. Instead, use data to “train” to understand patterns, make </span>\n",
       "<span style=\"color: #008000; text-decoration-color: #008000\">predictions, and improve performance over time.  \\nIn simpler terms, ML enables computers to automatically improve </span>\n",
       "<span style=\"color: #008000; text-decoration-color: #008000\">their performance on a task through experience. Just like humans learn from their experiences, machines learn from </span>\n",
       "<span style=\"color: #008000; text-decoration-color: #008000\">the data provided to them.'</span>\n",
       "    <span style=\"font-weight: bold\">)</span>,\n",
       "    <span style=\"color: #800080; text-decoration-color: #800080; font-weight: bold\">Document</span><span style=\"font-weight: bold\">(</span><span style=\"color: #808000; text-decoration-color: #808000\">metadata</span>=<span style=\"font-weight: bold\">{</span><span style=\"color: #008000; text-decoration-color: #008000\">'Header 2'</span>: <span style=\"color: #008000; text-decoration-color: #008000\">'Types of Machine Learning'</span><span style=\"font-weight: bold\">}</span>, <span style=\"color: #808000; text-decoration-color: #808000\">page_content</span>=<span style=\"color: #008000; text-decoration-color: #008000\">'Types of Machine Learning'</span><span style=\"font-weight: bold\">)</span>,\n",
       "    <span style=\"color: #800080; text-decoration-color: #800080; font-weight: bold\">Document</span><span style=\"font-weight: bold\">(</span>\n",
       "        <span style=\"color: #808000; text-decoration-color: #808000\">metadata</span>=<span style=\"font-weight: bold\">{</span><span style=\"color: #008000; text-decoration-color: #008000\">'Header 2'</span>: <span style=\"color: #008000; text-decoration-color: #008000\">'Types of Machine Learning'</span><span style=\"font-weight: bold\">}</span>,\n",
       "        <span style=\"color: #808000; text-decoration-color: #808000\">page_content</span>=<span style=\"color: #008000; text-decoration-color: #008000\">'There are three main types of machine learning: 1. Supervised Learning 2. Unsupervised </span>\n",
       "<span style=\"color: #008000; text-decoration-color: #008000\">Learning 3. Reinforcement Learning  \\nLet’s break down each type and see how they work.'</span>\n",
       "    <span style=\"font-weight: bold\">)</span>\n",
       "<span style=\"font-weight: bold\">]</span>\n",
       "</pre>\n"
      ],
      "text/plain": [
       "\u001b[1m[\u001b[0m\n",
       "    \u001b[1;35mDocument\u001b[0m\u001b[1m(\u001b[0m\n",
       "        \u001b[33mmetadata\u001b[0m=\u001b[1m{\u001b[0m\u001b[1m}\u001b[0m,\n",
       "        \u001b[33mpage_content\u001b[0m=\u001b[32m'Sitemap  \\ndocument.domain = document.domain;  \\nOpen in app  \\nSign up  \\nSign in  \\nMedium \u001b[0m\n",
       "\u001b[32mLogo  \\nWrite  \\nSign up  \\nSign in'\u001b[0m\n",
       "    \u001b[1m)\u001b[0m,\n",
       "    \u001b[1;35mDocument\u001b[0m\u001b[1m(\u001b[0m\n",
       "        \u001b[33mmetadata\u001b[0m=\u001b[1m{\u001b[0m\u001b[32m'Header 1'\u001b[0m: \u001b[32m'Introduction to Machine Learning'\u001b[0m\u001b[1m}\u001b[0m,\n",
       "        \u001b[33mpage_content\u001b[0m=\u001b[32m'Introduction to Machine Learning'\u001b[0m\n",
       "    \u001b[1m)\u001b[0m,\n",
       "    \u001b[1;35mDocument\u001b[0m\u001b[1m(\u001b[0m\n",
       "        \u001b[33mmetadata\u001b[0m=\u001b[1m{\u001b[0m\u001b[1m}\u001b[0m,\n",
       "        \u001b[33mpage_content\u001b[0m=\u001b[32m'Rishabh Singh  \\n11 min read  \\n·  \\nOct 4, 2024  \\n--  \\nListen  \\nShare  \\nMachine Learning\u001b[0m\n",
       "\u001b[32m(\u001b[0m\u001b[32mML\u001b[0m\u001b[32m)\u001b[0m\u001b[32m is a branch of artificial intelligence \u001b[0m\u001b[32m(\u001b[0m\u001b[32mAI\u001b[0m\u001b[32m)\u001b[0m\u001b[32m that allows computers to learn and make predictions or decisions \u001b[0m\n",
       "\u001b[32mwithout being explicitly programmed for each task. Instead, use data to “train” to understand patterns, make \u001b[0m\n",
       "\u001b[32mpredictions, and improve performance over time.  \\nIn simpler terms, ML enables computers to automatically improve \u001b[0m\n",
       "\u001b[32mtheir performance on a task through experience. Just like humans learn from their experiences, machines learn from \u001b[0m\n",
       "\u001b[32mthe data provided to them.'\u001b[0m\n",
       "    \u001b[1m)\u001b[0m,\n",
       "    \u001b[1;35mDocument\u001b[0m\u001b[1m(\u001b[0m\u001b[33mmetadata\u001b[0m=\u001b[1m{\u001b[0m\u001b[32m'Header 2'\u001b[0m: \u001b[32m'Types of Machine Learning'\u001b[0m\u001b[1m}\u001b[0m, \u001b[33mpage_content\u001b[0m=\u001b[32m'Types of Machine Learning'\u001b[0m\u001b[1m)\u001b[0m,\n",
       "    \u001b[1;35mDocument\u001b[0m\u001b[1m(\u001b[0m\n",
       "        \u001b[33mmetadata\u001b[0m=\u001b[1m{\u001b[0m\u001b[32m'Header 2'\u001b[0m: \u001b[32m'Types of Machine Learning'\u001b[0m\u001b[1m}\u001b[0m,\n",
       "        \u001b[33mpage_content\u001b[0m=\u001b[32m'There are three main types of machine learning: 1. Supervised Learning 2. Unsupervised \u001b[0m\n",
       "\u001b[32mLearning 3. Reinforcement Learning  \\nLet’s break down each type and see how they work.'\u001b[0m\n",
       "    \u001b[1m)\u001b[0m\n",
       "\u001b[1m]\u001b[0m\n"
      ]
     },
     "metadata": {},
     "output_type": "display_data"
    }
   ],
   "source": [
    "print(html_url[0:5])"
   ]
  },
  {
   "cell_type": "code",
   "execution_count": null,
   "id": "53bb92fb",
   "metadata": {},
   "outputs": [],
   "source": []
  }
 ],
 "metadata": {
  "kernelspec": {
   "display_name": "Python 3",
   "language": "python",
   "name": "python3"
  },
  "language_info": {
   "codemirror_mode": {
    "name": "ipython",
    "version": 3
   },
   "file_extension": ".py",
   "mimetype": "text/x-python",
   "name": "python",
   "nbconvert_exporter": "python",
   "pygments_lexer": "ipython3",
   "version": "3.10.0"
  }
 },
 "nbformat": 4,
 "nbformat_minor": 5
}
