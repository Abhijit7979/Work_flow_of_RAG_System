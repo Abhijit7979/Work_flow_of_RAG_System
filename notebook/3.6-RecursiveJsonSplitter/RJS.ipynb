{
 "cells": [
  {
   "cell_type": "markdown",
   "id": "348b97ed",
   "metadata": {},
   "source": [
    "### how to split JSON data"
   ]
  },
  {
   "cell_type": "markdown",
   "id": "0a6f785b",
   "metadata": {},
   "source": [
    "This json splitter splits json data while allowing control over chunk size. it traverses json data depth first and builds smaller json chunks.it attempts to keep nested json objects whole but will split them if needed to keep chunks between a min_chunk_size and the max_chunk_size. \n",
    "\n",
    "if the value is not a nested json , but rather a very large string the string will not be split. if you need a hard cap on the chunk size consider composing this with a Recursive Text splitter on those chunks.There is an optional pre-processing step to split lists, by first converting them to json (dict) and then splitting them as such. \n",
    "\n",
    "- How the text is split: json value.\n",
    "- how the chunk size is measured : by number of characters."
   ]
  },
  {
   "cell_type": "markdown",
   "id": "27783533",
   "metadata": {},
   "source": []
  }
 ],
 "metadata": {
  "kernelspec": {
   "display_name": "Python 3",
   "language": "python",
   "name": "python3"
  },
  "language_info": {
   "name": "python",
   "version": "3.10.0"
  }
 },
 "nbformat": 4,
 "nbformat_minor": 5
}
