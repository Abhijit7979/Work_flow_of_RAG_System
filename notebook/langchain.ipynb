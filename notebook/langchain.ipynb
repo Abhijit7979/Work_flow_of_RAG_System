{
 "cells": [
  {
   "cell_type": "markdown",
   "id": "69a49d8a",
   "metadata": {},
   "source": [
    "## Getting Started with Langchain and openAI\n",
    "\n",
    "- set up with langchain , langsmith and langserve\n",
    "\n",
    "- use the most basic and common components of langchain : prompt templates  , models and output parsers.\n",
    "\n",
    "- build a simple application with langchain.\n",
    "- Trace your application with langsmith.\n",
    "- serve you application with langserve."
   ]
  },
  {
   "cell_type": "markdown",
   "id": "1df60caa",
   "metadata": {},
   "source": []
  }
 ],
 "metadata": {
  "language_info": {
   "name": "python"
  }
 },
 "nbformat": 4,
 "nbformat_minor": 5
}
