{
 "cells": [
  {
   "cell_type": "markdown",
   "id": "b8e2e333",
   "metadata": {},
   "source": [
    "### 1.Pydantic Basics\n",
    "\n",
    "pydantic model are the foundation of data validation in python. They use python type annotation to define the structure and validate data at runtime."
   ]
  },
  {
   "cell_type": "code",
   "execution_count": 36,
   "id": "0b2301ce",
   "metadata": {},
   "outputs": [],
   "source": [
    "from pydantic import BaseModel\n",
    "from rich import print"
   ]
  },
  {
   "cell_type": "code",
   "execution_count": 3,
   "id": "60739b20",
   "metadata": {},
   "outputs": [],
   "source": [
    "class Person(BaseModel):\n",
    "    name:str\n",
    "    age: int \n",
    "    city:str \n"
   ]
  },
  {
   "cell_type": "code",
   "execution_count": 4,
   "id": "66fde8bb",
   "metadata": {},
   "outputs": [],
   "source": [
    "person=Person(name=\"Abhijit\",age=22,city=\"hyderabad\")"
   ]
  },
  {
   "cell_type": "code",
   "execution_count": 10,
   "id": "2777a9a7",
   "metadata": {},
   "outputs": [
    {
     "name": "stdout",
     "output_type": "stream",
     "text": [
      "name='Abhijit' age=22 city='hyderabad'\n"
     ]
    }
   ],
   "source": [
    "print(person)"
   ]
  },
  {
   "cell_type": "code",
   "execution_count": 11,
   "id": "6483254a",
   "metadata": {},
   "outputs": [
    {
     "data": {
      "text/plain": [
       "__main__.Person"
      ]
     },
     "execution_count": 11,
     "metadata": {},
     "output_type": "execute_result"
    }
   ],
   "source": [
    "type(person)"
   ]
  },
  {
   "cell_type": "code",
   "execution_count": null,
   "id": "f53a9ccf",
   "metadata": {},
   "outputs": [],
   "source": [
    "from dataclasses  import dataclass\n",
    "\n",
    "@dataclass  # this is a decorator \n",
    "\n",
    "class Person():\n",
    "    name:str\n",
    "    age:int \n",
    "    city:str\n",
    "    gender:bool # 0 for male ,1 for female "
   ]
  },
  {
   "cell_type": "code",
   "execution_count": 20,
   "id": "9a939172",
   "metadata": {},
   "outputs": [
    {
     "name": "stdout",
     "output_type": "stream",
     "text": [
      "Person(name='Abhijit', age=22, city='hyderabad', gender=0)\n"
     ]
    }
   ],
   "source": [
    "P1=Person(name=\"Abhijit\",age=22,city=\"hyderabad\",gender=0)\n",
    "print(P1)"
   ]
  },
  {
   "cell_type": "code",
   "execution_count": 21,
   "id": "6ea1785c",
   "metadata": {},
   "outputs": [
    {
     "data": {
      "text/plain": [
       "__main__.Person"
      ]
     },
     "execution_count": 21,
     "metadata": {},
     "output_type": "execute_result"
    }
   ],
   "source": [
    "type(person)"
   ]
  },
  {
   "cell_type": "markdown",
   "id": "fb2b72f1",
   "metadata": {},
   "source": [
    "### 2.model with optional fields\n",
    "\n",
    "Add optional fields using pythom's optional type"
   ]
  },
  {
   "cell_type": "code",
   "execution_count": 22,
   "id": "819102c7",
   "metadata": {},
   "outputs": [],
   "source": [
    "from typing import Optional "
   ]
  },
  {
   "cell_type": "code",
   "execution_count": 23,
   "id": "160f2106",
   "metadata": {},
   "outputs": [],
   "source": [
    "class Employee(BaseModel):\n",
    "    id : int \n",
    "    name : str \n",
    "    department : str \n",
    "    salary : Optional[float]= None\n",
    "    is_active : Optional[bool]=True"
   ]
  },
  {
   "cell_type": "code",
   "execution_count": 25,
   "id": "0c91ca17",
   "metadata": {},
   "outputs": [
    {
     "name": "stdout",
     "output_type": "stream",
     "text": [
      "id=1 name='Abhijit' department='AI' salary=1000.0 is_active=True\n"
     ]
    }
   ],
   "source": [
    "e1=Employee(id=1,name=\"Abhijit\",department=\"AI\",salary=1000.0,is_active=True)\n",
    "print(e1)"
   ]
  },
  {
   "cell_type": "code",
   "execution_count": 26,
   "id": "d33130a9",
   "metadata": {},
   "outputs": [
    {
     "name": "stdout",
     "output_type": "stream",
     "text": [
      "id=2 name='varshini' department='CSE' salary=None is_active=False\n"
     ]
    }
   ],
   "source": [
    "e2=Employee(id=2,name=\"varshini\",department=\"CSE\",is_active=False)\n",
    "print(e2)"
   ]
  },
  {
   "cell_type": "code",
   "execution_count": 31,
   "id": "d123a1cd",
   "metadata": {},
   "outputs": [
    {
     "data": {
      "text/plain": [
       "(__main__.Employee, __main__.Employee)"
      ]
     },
     "execution_count": 31,
     "metadata": {},
     "output_type": "execute_result"
    }
   ],
   "source": [
    "type(e1) , type(e2)"
   ]
  },
  {
   "cell_type": "markdown",
   "id": "112461ff",
   "metadata": {},
   "source": [
    "### Definition : \n",
    "\n",
    "1. optinal[type]: indicates the field can be None\n",
    "2. Default value (=None or =True) : Makes the field optional \n",
    "3. Required fields must still be provided.\n",
    "4. pydantic validates types even for optional field when values are provided.\n"
   ]
  },
  {
   "cell_type": "code",
   "execution_count": 32,
   "id": "ffe20262",
   "metadata": {},
   "outputs": [],
   "source": [
    "class ClassRoom(BaseModel):\n",
    "    room_number: int\n",
    "    students: list[str]\n",
    "    capacity: int \n",
    "    "
   ]
  },
  {
   "cell_type": "code",
   "execution_count": 34,
   "id": "6504757b",
   "metadata": {},
   "outputs": [],
   "source": [
    "ELT1=ClassRoom(room_number=1,students=[\"Abhijit\",\"Varshini\",\"Arya\"],capacity=20)"
   ]
  },
  {
   "cell_type": "code",
   "execution_count": 37,
   "id": "d0431630",
   "metadata": {},
   "outputs": [
    {
     "data": {
      "text/html": [
       "<pre style=\"white-space:pre;overflow-x:auto;line-height:normal;font-family:Menlo,'DejaVu Sans Mono',consolas,'Courier New',monospace\"><span style=\"color: #800080; text-decoration-color: #800080; font-weight: bold\">ClassRoom</span><span style=\"font-weight: bold\">(</span><span style=\"color: #808000; text-decoration-color: #808000\">room_number</span>=<span style=\"color: #008080; text-decoration-color: #008080; font-weight: bold\">1</span>, <span style=\"color: #808000; text-decoration-color: #808000\">students</span>=<span style=\"font-weight: bold\">[</span><span style=\"color: #008000; text-decoration-color: #008000\">'Abhijit'</span>, <span style=\"color: #008000; text-decoration-color: #008000\">'Varshini'</span>, <span style=\"color: #008000; text-decoration-color: #008000\">'Arya'</span><span style=\"font-weight: bold\">]</span>, <span style=\"color: #808000; text-decoration-color: #808000\">capacity</span>=<span style=\"color: #008080; text-decoration-color: #008080; font-weight: bold\">20</span><span style=\"font-weight: bold\">)</span>\n",
       "</pre>\n"
      ],
      "text/plain": [
       "\u001b[1;35mClassRoom\u001b[0m\u001b[1m(\u001b[0m\u001b[33mroom_number\u001b[0m=\u001b[1;36m1\u001b[0m, \u001b[33mstudents\u001b[0m=\u001b[1m[\u001b[0m\u001b[32m'Abhijit'\u001b[0m, \u001b[32m'Varshini'\u001b[0m, \u001b[32m'Arya'\u001b[0m\u001b[1m]\u001b[0m, \u001b[33mcapacity\u001b[0m=\u001b[1;36m20\u001b[0m\u001b[1m)\u001b[0m\n"
      ]
     },
     "metadata": {},
     "output_type": "display_data"
    }
   ],
   "source": [
    "print(ELT1)"
   ]
  },
  {
   "cell_type": "code",
   "execution_count": 38,
   "id": "0e4dfa28",
   "metadata": {},
   "outputs": [
    {
     "data": {
      "text/html": [
       "<pre style=\"white-space:pre;overflow-x:auto;line-height:normal;font-family:Menlo,'DejaVu Sans Mono',consolas,'Courier New',monospace\"><span style=\"color: #008080; text-decoration-color: #008080; font-weight: bold\">1</span> validation error for ClassRoom\n",
       "students.<span style=\"color: #008080; text-decoration-color: #008080; font-weight: bold\">1</span>\n",
       "  Input should be a valid string <span style=\"font-weight: bold\">[</span><span style=\"color: #808000; text-decoration-color: #808000\">type</span>=<span style=\"color: #800080; text-decoration-color: #800080\">string_type</span>, <span style=\"color: #808000; text-decoration-color: #808000\">input_value</span>=<span style=\"color: #008080; text-decoration-color: #008080; font-weight: bold\">201</span>, <span style=\"color: #808000; text-decoration-color: #808000\">input_type</span>=<span style=\"color: #800080; text-decoration-color: #800080\">int</span><span style=\"font-weight: bold\">]</span>\n",
       "    For further information visit <span style=\"color: #0000ff; text-decoration-color: #0000ff; text-decoration: underline\">https://errors.pydantic.dev/2.10/v/string_type</span>\n",
       "</pre>\n"
      ],
      "text/plain": [
       "\u001b[1;36m1\u001b[0m validation error for ClassRoom\n",
       "students.\u001b[1;36m1\u001b[0m\n",
       "  Input should be a valid string \u001b[1m[\u001b[0m\u001b[33mtype\u001b[0m=\u001b[35mstring_type\u001b[0m, \u001b[33minput_value\u001b[0m=\u001b[1;36m201\u001b[0m, \u001b[33minput_type\u001b[0m=\u001b[35mint\u001b[0m\u001b[1m]\u001b[0m\n",
       "    For further information visit \u001b[4;94mhttps://errors.pydantic.dev/2.10/v/string_type\u001b[0m\n"
      ]
     },
     "metadata": {},
     "output_type": "display_data"
    }
   ],
   "source": [
    "try:\n",
    "    invalid_val=ClassRoom(room_number=2,students=[\"Abhijit\",201],capacity=20)\n",
    "except ValueError as e:\n",
    "    print(e)"
   ]
  },
  {
   "cell_type": "markdown",
   "id": "1044ab32",
   "metadata": {},
   "source": [
    "### 4. Model with Nested Models\n",
    "\n",
    "Creating complex structures using nested models "
   ]
  },
  {
   "cell_type": "code",
   "execution_count": null,
   "id": "8a71533f",
   "metadata": {},
   "outputs": [],
   "source": [
    "class Address(BaseModel):\n",
    "    street:str\n",
    "    city:str\n",
    "    zip_code:int\n",
    "\n",
    "class customer(BaseModel):\n",
    "    customer_id:int\n",
    "    name : str\n",
    "    address: Address \n",
    "\n"
   ]
  },
  {
   "cell_type": "code",
   "execution_count": 40,
   "id": "489beb43",
   "metadata": {},
   "outputs": [],
   "source": [
    "customer1= customer(customer_id=1,name=\"Abhijit\",address=Address(street=\"VV nagar\",city=\"Hyderabad\",zip_code=500072))"
   ]
  },
  {
   "cell_type": "code",
   "execution_count": 41,
   "id": "5ec5b019",
   "metadata": {},
   "outputs": [
    {
     "data": {
      "text/html": [
       "<pre style=\"white-space:pre;overflow-x:auto;line-height:normal;font-family:Menlo,'DejaVu Sans Mono',consolas,'Courier New',monospace\"><span style=\"color: #800080; text-decoration-color: #800080; font-weight: bold\">customer</span><span style=\"font-weight: bold\">(</span><span style=\"color: #808000; text-decoration-color: #808000\">customer_id</span>=<span style=\"color: #008080; text-decoration-color: #008080; font-weight: bold\">1</span>, <span style=\"color: #808000; text-decoration-color: #808000\">name</span>=<span style=\"color: #008000; text-decoration-color: #008000\">'Abhijit'</span>, <span style=\"color: #808000; text-decoration-color: #808000\">address</span>=<span style=\"color: #800080; text-decoration-color: #800080; font-weight: bold\">Address</span><span style=\"font-weight: bold\">(</span><span style=\"color: #808000; text-decoration-color: #808000\">street</span>=<span style=\"color: #008000; text-decoration-color: #008000\">'VV nagar'</span>, <span style=\"color: #808000; text-decoration-color: #808000\">city</span>=<span style=\"color: #008000; text-decoration-color: #008000\">'Hyderabad'</span>, <span style=\"color: #808000; text-decoration-color: #808000\">zip_code</span>=<span style=\"color: #008080; text-decoration-color: #008080; font-weight: bold\">500072</span><span style=\"font-weight: bold\">))</span>\n",
       "</pre>\n"
      ],
      "text/plain": [
       "\u001b[1;35mcustomer\u001b[0m\u001b[1m(\u001b[0m\u001b[33mcustomer_id\u001b[0m=\u001b[1;36m1\u001b[0m, \u001b[33mname\u001b[0m=\u001b[32m'Abhijit'\u001b[0m, \u001b[33maddress\u001b[0m=\u001b[1;35mAddress\u001b[0m\u001b[1m(\u001b[0m\u001b[33mstreet\u001b[0m=\u001b[32m'VV nagar'\u001b[0m, \u001b[33mcity\u001b[0m=\u001b[32m'Hyderabad'\u001b[0m, \u001b[33mzip_code\u001b[0m=\u001b[1;36m500072\u001b[0m\u001b[1m)\u001b[0m\u001b[1m)\u001b[0m\n"
      ]
     },
     "metadata": {},
     "output_type": "display_data"
    }
   ],
   "source": [
    "print(customer1)"
   ]
  },
  {
   "cell_type": "markdown",
   "id": "6cfcb9b6",
   "metadata": {},
   "source": [
    "#### Pydentic Fields : Customizations and constraits"
   ]
  },
  {
   "cell_type": "code",
   "execution_count": 43,
   "id": "787700e1",
   "metadata": {},
   "outputs": [],
   "source": [
    "from pydantic import BaseModel, Field "
   ]
  },
  {
   "cell_type": "code",
   "execution_count": 44,
   "id": "4bcff485",
   "metadata": {},
   "outputs": [],
   "source": [
    "class item(BaseModel):\n",
    "    name:str =Field(max_length=50,min_length=2)\n",
    "    price:float=Field(gr=0,le=1000)\n",
    "    quantity:int =Field(gt=0)"
   ]
  },
  {
   "cell_type": "code",
   "execution_count": 45,
   "id": "1b72ae43",
   "metadata": {},
   "outputs": [
    {
     "data": {
      "text/html": [
       "<pre style=\"white-space:pre;overflow-x:auto;line-height:normal;font-family:Menlo,'DejaVu Sans Mono',consolas,'Courier New',monospace\"><span style=\"color: #800080; text-decoration-color: #800080; font-weight: bold\">item</span><span style=\"font-weight: bold\">(</span><span style=\"color: #808000; text-decoration-color: #808000\">name</span>=<span style=\"color: #008000; text-decoration-color: #008000\">'rolex'</span>, <span style=\"color: #808000; text-decoration-color: #808000\">price</span>=<span style=\"color: #008080; text-decoration-color: #008080; font-weight: bold\">999.0</span>, <span style=\"color: #808000; text-decoration-color: #808000\">quantity</span>=<span style=\"color: #008080; text-decoration-color: #008080; font-weight: bold\">10</span><span style=\"font-weight: bold\">)</span>\n",
       "</pre>\n"
      ],
      "text/plain": [
       "\u001b[1;35mitem\u001b[0m\u001b[1m(\u001b[0m\u001b[33mname\u001b[0m=\u001b[32m'rolex'\u001b[0m, \u001b[33mprice\u001b[0m=\u001b[1;36m999\u001b[0m\u001b[1;36m.0\u001b[0m, \u001b[33mquantity\u001b[0m=\u001b[1;36m10\u001b[0m\u001b[1m)\u001b[0m\n"
      ]
     },
     "metadata": {},
     "output_type": "display_data"
    }
   ],
   "source": [
    "box1=item(name=\"rolex\",price=999,quantity=10)\n",
    "print(box1)"
   ]
  },
  {
   "cell_type": "code",
   "execution_count": 47,
   "id": "f9b75a7c",
   "metadata": {},
   "outputs": [
    {
     "data": {
      "text/html": [
       "<pre style=\"white-space:pre;overflow-x:auto;line-height:normal;font-family:Menlo,'DejaVu Sans Mono',consolas,'Courier New',monospace\"><span style=\"color: #800080; text-decoration-color: #800080; font-weight: bold\">item</span><span style=\"font-weight: bold\">(</span><span style=\"color: #808000; text-decoration-color: #808000\">name</span>=<span style=\"color: #008000; text-decoration-color: #008000\">'rolex'</span>, <span style=\"color: #808000; text-decoration-color: #808000\">price</span>=<span style=\"color: #008080; text-decoration-color: #008080; font-weight: bold\">999.0</span>, <span style=\"color: #808000; text-decoration-color: #808000\">quantity</span>=<span style=\"color: #008080; text-decoration-color: #008080; font-weight: bold\">50</span><span style=\"font-weight: bold\">)</span>\n",
       "</pre>\n"
      ],
      "text/plain": [
       "\u001b[1;35mitem\u001b[0m\u001b[1m(\u001b[0m\u001b[33mname\u001b[0m=\u001b[32m'rolex'\u001b[0m, \u001b[33mprice\u001b[0m=\u001b[1;36m999\u001b[0m\u001b[1;36m.0\u001b[0m, \u001b[33mquantity\u001b[0m=\u001b[1;36m50\u001b[0m\u001b[1m)\u001b[0m\n"
      ]
     },
     "metadata": {},
     "output_type": "display_data"
    }
   ],
   "source": [
    "box1.quantity=50\n",
    "print(box1)"
   ]
  },
  {
   "cell_type": "code",
   "execution_count": null,
   "id": "c8b2d756",
   "metadata": {},
   "outputs": [],
   "source": []
  }
 ],
 "metadata": {
  "kernelspec": {
   "display_name": "base",
   "language": "python",
   "name": "python3"
  },
  "language_info": {
   "codemirror_mode": {
    "name": "ipython",
    "version": 3
   },
   "file_extension": ".py",
   "mimetype": "text/x-python",
   "name": "python",
   "nbconvert_exporter": "python",
   "pygments_lexer": "ipython3",
   "version": "3.13.5"
  }
 },
 "nbformat": 4,
 "nbformat_minor": 5
}
