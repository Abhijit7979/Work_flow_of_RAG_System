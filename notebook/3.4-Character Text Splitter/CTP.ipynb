{
 "cells": [
  {
   "cell_type": "markdown",
   "id": "61268fda",
   "metadata": {},
   "source": [
    "## How to split by chatacter-Character Text Splitter \n",
    "\n",
    "this is the simplest method. This. splits based on a given character sequence, which defaults to \"\\n\\n\". Chunk length is measured by number of characters.\n",
    "\n",
    "1. how the text is split:by single character separator.\n",
    "2. how the chunk size is measured: by  number of characters."
   ]
  },
  {
   "cell_type": "code",
   "execution_count": 3,
   "id": "3ca2ca2e",
   "metadata": {},
   "outputs": [
    {
     "data": {
      "text/html": [
       "<pre style=\"white-space:pre;overflow-x:auto;line-height:normal;font-family:Menlo,'DejaVu Sans Mono',consolas,'Courier New',monospace\"><span style=\"font-weight: bold\">[</span>\n",
       "    <span style=\"color: #800080; text-decoration-color: #800080; font-weight: bold\">Document</span><span style=\"font-weight: bold\">(</span>\n",
       "        <span style=\"color: #808000; text-decoration-color: #808000\">metadata</span>=<span style=\"font-weight: bold\">{</span><span style=\"color: #008000; text-decoration-color: #008000\">'source'</span>: <span style=\"color: #008000; text-decoration-color: #008000\">'../3.2-dataIngestion/speech.txt'</span><span style=\"font-weight: bold\">}</span>,\n",
       "        <span style=\"color: #808000; text-decoration-color: #808000\">page_content</span>=<span style=\"color: #008000; text-decoration-color: #008000\">'The world must be made safe for democracy. Its peace must be planted upon the tested </span>\n",
       "<span style=\"color: #008000; text-decoration-color: #008000\">foundations of political liberty. We have no selfish ends to serve. We desire no conquest, no dominion. We seek no </span>\n",
       "<span style=\"color: #008000; text-decoration-color: #008000\">indemnities for ourselves, no material compensation for the sacrifices we shall freely make. We are but one of the </span>\n",
       "<span style=\"color: #008000; text-decoration-color: #008000\">champions of the rights of mankind. We shall be satisfied when those rights have been made as secure as the faith </span>\n",
       "<span style=\"color: #008000; text-decoration-color: #008000\">and the freedom of nations can make them.\\n\\nJust because we fight without rancor and without selfish object, </span>\n",
       "<span style=\"color: #008000; text-decoration-color: #008000\">seeking nothing for ourselves but what we shall wish to share with all free peoples, we shall, I feel confident, </span>\n",
       "<span style=\"color: #008000; text-decoration-color: #008000\">conduct our operations as belligerents without passion and ourselves observe with proud punctilio the principles of</span>\n",
       "<span style=\"color: #008000; text-decoration-color: #008000\">right and of fair play we profess to be fighting for.\\n\\n…\\n\\nIt will be all the easier for us to conduct ourselves</span>\n",
       "<span style=\"color: #008000; text-decoration-color: #008000\">as belligerents in a high spirit of right and fairness because we act without animus, not in enmity toward a people</span>\n",
       "<span style=\"color: #008000; text-decoration-color: #008000\">or with the desire to bring any injury or disadvantage upon them, but only in armed opposition to an irresponsible </span>\n",
       "<span style=\"color: #008000; text-decoration-color: #008000\">government which has thrown aside all considerations of humanity and of right and is running amuck. We are, let me </span>\n",
       "<span style=\"color: #008000; text-decoration-color: #008000\">say again, the sincere friends of the German people, and shall desire nothing so much as the early reestablishment </span>\n",
       "<span style=\"color: #008000; text-decoration-color: #008000\">of intimate relations of mutual advantage between us—however hard it may be for them, for the time being, to </span>\n",
       "<span style=\"color: #008000; text-decoration-color: #008000\">believe that this is spoken from our hearts.\\n\\nWe have borne with their present government through all these </span>\n",
       "<span style=\"color: #008000; text-decoration-color: #008000\">bitter months because of that friendship—exercising a patience and forbearance which would otherwise have been </span>\n",
       "<span style=\"color: #008000; text-decoration-color: #008000\">impossible. We shall, happily, still have an opportunity to prove that friendship in our daily attitude and actions</span>\n",
       "<span style=\"color: #008000; text-decoration-color: #008000\">toward the millions of men and women of German birth and native sympathy who live among us and share our life, and </span>\n",
       "<span style=\"color: #008000; text-decoration-color: #008000\">we shall be proud to prove it toward all who are in fact loyal to their neighbors and to the government in the hour</span>\n",
       "<span style=\"color: #008000; text-decoration-color: #008000\">of test. They are, most of them, as true and loyal Americans as if they had never known any other fealty or </span>\n",
       "<span style=\"color: #008000; text-decoration-color: #008000\">allegiance. They will be prompt to stand with us in rebuking and restraining the few who may be of a different mind</span>\n",
       "<span style=\"color: #008000; text-decoration-color: #008000\">and purpose. If there should be disloyalty, it will be dealt with with a firm hand of stern repression; but, if it </span>\n",
       "<span style=\"color: #008000; text-decoration-color: #008000\">lifts its head at all, it will lift it only here and there and without countenance except from a lawless and </span>\n",
       "<span style=\"color: #008000; text-decoration-color: #008000\">malignant few.\\n\\nIt is a distressing and oppressive duty, gentlemen of the Congress, which I have performed in </span>\n",
       "<span style=\"color: #008000; text-decoration-color: #008000\">thus addressing you. There are, it may be, many months of fiery trial and sacrifice ahead of us. It is a fearful </span>\n",
       "<span style=\"color: #008000; text-decoration-color: #008000\">thing to lead this great peaceful people into war, into the most terrible and disastrous of all wars, civilization </span>\n",
       "<span style=\"color: #008000; text-decoration-color: #008000\">itself seeming to be in the balance. But the right is more precious than peace, and we shall fight for the things </span>\n",
       "<span style=\"color: #008000; text-decoration-color: #008000\">which we have always carried nearest our hearts—for democracy, for the right of those who submit to authority to </span>\n",
       "<span style=\"color: #008000; text-decoration-color: #008000\">have a voice in their own governments, for the rights and liberties of small nations, for a universal dominion of </span>\n",
       "<span style=\"color: #008000; text-decoration-color: #008000\">right by such a concert of free peoples as shall bring peace and safety to all nations and make the world itself at</span>\n",
       "<span style=\"color: #008000; text-decoration-color: #008000\">last free.\\n\\nTo such a task we can dedicate our lives and our fortunes, everything that we are and everything that</span>\n",
       "<span style=\"color: #008000; text-decoration-color: #008000\">we have, with the pride of those who know that the day has come when America is privileged to spend her blood and </span>\n",
       "<span style=\"color: #008000; text-decoration-color: #008000\">her might for the principles that gave her birth and happiness and the peace which she has treasured. God helping </span>\n",
       "<span style=\"color: #008000; text-decoration-color: #008000\">her, she can do no other.'</span>\n",
       "    <span style=\"font-weight: bold\">)</span>\n",
       "<span style=\"font-weight: bold\">]</span>\n",
       "</pre>\n"
      ],
      "text/plain": [
       "\u001b[1m[\u001b[0m\n",
       "    \u001b[1;35mDocument\u001b[0m\u001b[1m(\u001b[0m\n",
       "        \u001b[33mmetadata\u001b[0m=\u001b[1m{\u001b[0m\u001b[32m'source'\u001b[0m: \u001b[32m'../3.2-dataIngestion/speech.txt'\u001b[0m\u001b[1m}\u001b[0m,\n",
       "        \u001b[33mpage_content\u001b[0m=\u001b[32m'The world must be made safe for democracy. Its peace must be planted upon the tested \u001b[0m\n",
       "\u001b[32mfoundations of political liberty. We have no selfish ends to serve. We desire no conquest, no dominion. We seek no \u001b[0m\n",
       "\u001b[32mindemnities for ourselves, no material compensation for the sacrifices we shall freely make. We are but one of the \u001b[0m\n",
       "\u001b[32mchampions of the rights of mankind. We shall be satisfied when those rights have been made as secure as the faith \u001b[0m\n",
       "\u001b[32mand the freedom of nations can make them.\\n\\nJust because we fight without rancor and without selfish object, \u001b[0m\n",
       "\u001b[32mseeking nothing for ourselves but what we shall wish to share with all free peoples, we shall, I feel confident, \u001b[0m\n",
       "\u001b[32mconduct our operations as belligerents without passion and ourselves observe with proud punctilio the principles of\u001b[0m\n",
       "\u001b[32mright and of fair play we profess to be fighting for.\\n\\n…\\n\\nIt will be all the easier for us to conduct ourselves\u001b[0m\n",
       "\u001b[32mas belligerents in a high spirit of right and fairness because we act without animus, not in enmity toward a people\u001b[0m\n",
       "\u001b[32mor with the desire to bring any injury or disadvantage upon them, but only in armed opposition to an irresponsible \u001b[0m\n",
       "\u001b[32mgovernment which has thrown aside all considerations of humanity and of right and is running amuck. We are, let me \u001b[0m\n",
       "\u001b[32msay again, the sincere friends of the German people, and shall desire nothing so much as the early reestablishment \u001b[0m\n",
       "\u001b[32mof intimate relations of mutual advantage between us—however hard it may be for them, for the time being, to \u001b[0m\n",
       "\u001b[32mbelieve that this is spoken from our hearts.\\n\\nWe have borne with their present government through all these \u001b[0m\n",
       "\u001b[32mbitter months because of that friendship—exercising a patience and forbearance which would otherwise have been \u001b[0m\n",
       "\u001b[32mimpossible. We shall, happily, still have an opportunity to prove that friendship in our daily attitude and actions\u001b[0m\n",
       "\u001b[32mtoward the millions of men and women of German birth and native sympathy who live among us and share our life, and \u001b[0m\n",
       "\u001b[32mwe shall be proud to prove it toward all who are in fact loyal to their neighbors and to the government in the hour\u001b[0m\n",
       "\u001b[32mof test. They are, most of them, as true and loyal Americans as if they had never known any other fealty or \u001b[0m\n",
       "\u001b[32mallegiance. They will be prompt to stand with us in rebuking and restraining the few who may be of a different mind\u001b[0m\n",
       "\u001b[32mand purpose. If there should be disloyalty, it will be dealt with with a firm hand of stern repression; but, if it \u001b[0m\n",
       "\u001b[32mlifts its head at all, it will lift it only here and there and without countenance except from a lawless and \u001b[0m\n",
       "\u001b[32mmalignant few.\\n\\nIt is a distressing and oppressive duty, gentlemen of the Congress, which I have performed in \u001b[0m\n",
       "\u001b[32mthus addressing you. There are, it may be, many months of fiery trial and sacrifice ahead of us. It is a fearful \u001b[0m\n",
       "\u001b[32mthing to lead this great peaceful people into war, into the most terrible and disastrous of all wars, civilization \u001b[0m\n",
       "\u001b[32mitself seeming to be in the balance. But the right is more precious than peace, and we shall fight for the things \u001b[0m\n",
       "\u001b[32mwhich we have always carried nearest our hearts—for democracy, for the right of those who submit to authority to \u001b[0m\n",
       "\u001b[32mhave a voice in their own governments, for the rights and liberties of small nations, for a universal dominion of \u001b[0m\n",
       "\u001b[32mright by such a concert of free peoples as shall bring peace and safety to all nations and make the world itself at\u001b[0m\n",
       "\u001b[32mlast free.\\n\\nTo such a task we can dedicate our lives and our fortunes, everything that we are and everything that\u001b[0m\n",
       "\u001b[32mwe have, with the pride of those who know that the day has come when America is privileged to spend her blood and \u001b[0m\n",
       "\u001b[32mher might for the principles that gave her birth and happiness and the peace which she has treasured. God helping \u001b[0m\n",
       "\u001b[32mher, she can do no other.'\u001b[0m\n",
       "    \u001b[1m)\u001b[0m\n",
       "\u001b[1m]\u001b[0m\n"
      ]
     },
     "metadata": {},
     "output_type": "display_data"
    }
   ],
   "source": [
    "from langchain_community.document_loaders import TextLoader\n",
    "from rich import print\n",
    "loader=TextLoader(\"../3.2-dataIngestion/speech.txt\")\n",
    "docs=loader.load()\n",
    "print(docs)\n"
   ]
  },
  {
   "cell_type": "code",
   "execution_count": 4,
   "id": "395321f2",
   "metadata": {},
   "outputs": [
    {
     "name": "stderr",
     "output_type": "stream",
     "text": [
      "Created a chunk of size 470, which is longer than the specified 100\n",
      "Created a chunk of size 347, which is longer than the specified 100\n",
      "Created a chunk of size 668, which is longer than the specified 100\n",
      "Created a chunk of size 982, which is longer than the specified 100\n",
      "Created a chunk of size 789, which is longer than the specified 100\n"
     ]
    }
   ],
   "source": [
    "from langchain_text_splitters import CharacterTextSplitter\n",
    "\n",
    "text_splitter=CharacterTextSplitter(separator=\"\\n\\n\",chunk_size=100,chunk_overlap=20)\n",
    "doc_chuncks=text_splitter.split_documents(docs)"
   ]
  },
  {
   "cell_type": "code",
   "execution_count": 8,
   "id": "2155a247",
   "metadata": {},
   "outputs": [
    {
     "data": {
      "text/html": [
       "<pre style=\"white-space:pre;overflow-x:auto;line-height:normal;font-family:Menlo,'DejaVu Sans Mono',consolas,'Courier New',monospace\"><span style=\"color: #800080; text-decoration-color: #800080; font-weight: bold\">Document</span><span style=\"font-weight: bold\">(</span>\n",
       "    <span style=\"color: #808000; text-decoration-color: #808000\">metadata</span>=<span style=\"font-weight: bold\">{</span><span style=\"color: #008000; text-decoration-color: #008000\">'source'</span>: <span style=\"color: #008000; text-decoration-color: #008000\">'../3.2-dataIngestion/speech.txt'</span><span style=\"font-weight: bold\">}</span>,\n",
       "    <span style=\"color: #808000; text-decoration-color: #808000\">page_content</span>=<span style=\"color: #008000; text-decoration-color: #008000\">'The world must be made safe for democracy. Its peace must be planted upon the tested foundations </span>\n",
       "<span style=\"color: #008000; text-decoration-color: #008000\">of political liberty. We have no selfish ends to serve. We desire no conquest, no dominion. We seek no indemnities </span>\n",
       "<span style=\"color: #008000; text-decoration-color: #008000\">for ourselves, no material compensation for the sacrifices we shall freely make. We are but one of the champions of</span>\n",
       "<span style=\"color: #008000; text-decoration-color: #008000\">the rights of mankind. We shall be satisfied when those rights have been made as secure as the faith and the </span>\n",
       "<span style=\"color: #008000; text-decoration-color: #008000\">freedom of nations can make them.'</span>\n",
       "<span style=\"font-weight: bold\">)</span>\n",
       "</pre>\n"
      ],
      "text/plain": [
       "\u001b[1;35mDocument\u001b[0m\u001b[1m(\u001b[0m\n",
       "    \u001b[33mmetadata\u001b[0m=\u001b[1m{\u001b[0m\u001b[32m'source'\u001b[0m: \u001b[32m'../3.2-dataIngestion/speech.txt'\u001b[0m\u001b[1m}\u001b[0m,\n",
       "    \u001b[33mpage_content\u001b[0m=\u001b[32m'The world must be made safe for democracy. Its peace must be planted upon the tested foundations \u001b[0m\n",
       "\u001b[32mof political liberty. We have no selfish ends to serve. We desire no conquest, no dominion. We seek no indemnities \u001b[0m\n",
       "\u001b[32mfor ourselves, no material compensation for the sacrifices we shall freely make. We are but one of the champions of\u001b[0m\n",
       "\u001b[32mthe rights of mankind. We shall be satisfied when those rights have been made as secure as the faith and the \u001b[0m\n",
       "\u001b[32mfreedom of nations can make them.'\u001b[0m\n",
       "\u001b[1m)\u001b[0m\n"
      ]
     },
     "metadata": {},
     "output_type": "display_data"
    },
    {
     "data": {
      "text/html": [
       "<pre style=\"white-space:pre;overflow-x:auto;line-height:normal;font-family:Menlo,'DejaVu Sans Mono',consolas,'Courier New',monospace\"><span style=\"color: #800080; text-decoration-color: #800080; font-weight: bold\">Document</span><span style=\"font-weight: bold\">(</span>\n",
       "    <span style=\"color: #808000; text-decoration-color: #808000\">metadata</span>=<span style=\"font-weight: bold\">{</span><span style=\"color: #008000; text-decoration-color: #008000\">'source'</span>: <span style=\"color: #008000; text-decoration-color: #008000\">'../3.2-dataIngestion/speech.txt'</span><span style=\"font-weight: bold\">}</span>,\n",
       "    <span style=\"color: #808000; text-decoration-color: #808000\">page_content</span>=<span style=\"color: #008000; text-decoration-color: #008000\">'Just because we fight without rancor and without selfish object, seeking nothing for ourselves </span>\n",
       "<span style=\"color: #008000; text-decoration-color: #008000\">but what we shall wish to share with all free peoples, we shall, I feel confident, conduct our operations as </span>\n",
       "<span style=\"color: #008000; text-decoration-color: #008000\">belligerents without passion and ourselves observe with proud punctilio the principles of right and of fair play we</span>\n",
       "<span style=\"color: #008000; text-decoration-color: #008000\">profess to be fighting for.'</span>\n",
       "<span style=\"font-weight: bold\">)</span>\n",
       "</pre>\n"
      ],
      "text/plain": [
       "\u001b[1;35mDocument\u001b[0m\u001b[1m(\u001b[0m\n",
       "    \u001b[33mmetadata\u001b[0m=\u001b[1m{\u001b[0m\u001b[32m'source'\u001b[0m: \u001b[32m'../3.2-dataIngestion/speech.txt'\u001b[0m\u001b[1m}\u001b[0m,\n",
       "    \u001b[33mpage_content\u001b[0m=\u001b[32m'Just because we fight without rancor and without selfish object, seeking nothing for ourselves \u001b[0m\n",
       "\u001b[32mbut what we shall wish to share with all free peoples, we shall, I feel confident, conduct our operations as \u001b[0m\n",
       "\u001b[32mbelligerents without passion and ourselves observe with proud punctilio the principles of right and of fair play we\u001b[0m\n",
       "\u001b[32mprofess to be fighting for.'\u001b[0m\n",
       "\u001b[1m)\u001b[0m\n"
      ]
     },
     "metadata": {},
     "output_type": "display_data"
    }
   ],
   "source": [
    "print(doc_chuncks[0])\n",
    "print(doc_chuncks[1])"
   ]
  },
  {
   "cell_type": "code",
   "execution_count": 10,
   "id": "464088ca",
   "metadata": {},
   "outputs": [
    {
     "name": "stderr",
     "output_type": "stream",
     "text": [
      "Created a chunk of size 470, which is longer than the specified 200\n",
      "Created a chunk of size 347, which is longer than the specified 200\n",
      "Created a chunk of size 668, which is longer than the specified 200\n",
      "Created a chunk of size 982, which is longer than the specified 200\n",
      "Created a chunk of size 789, which is longer than the specified 200\n"
     ]
    },
    {
     "data": {
      "text/html": [
       "<pre style=\"white-space:pre;overflow-x:auto;line-height:normal;font-family:Menlo,'DejaVu Sans Mono',consolas,'Courier New',monospace\"><span style=\"color: #800080; text-decoration-color: #800080; font-weight: bold\">Document</span><span style=\"font-weight: bold\">(</span>\n",
       "    <span style=\"color: #808000; text-decoration-color: #808000\">metadata</span>=<span style=\"font-weight: bold\">{}</span>,\n",
       "    <span style=\"color: #808000; text-decoration-color: #808000\">page_content</span>=<span style=\"color: #008000; text-decoration-color: #008000\">'The world must be made safe for democracy. Its peace must be planted upon the tested foundations </span>\n",
       "<span style=\"color: #008000; text-decoration-color: #008000\">of political liberty. We have no selfish ends to serve. We desire no conquest, no dominion. We seek no indemnities </span>\n",
       "<span style=\"color: #008000; text-decoration-color: #008000\">for ourselves, no material compensation for the sacrifices we shall freely make. We are but one of the champions of</span>\n",
       "<span style=\"color: #008000; text-decoration-color: #008000\">the rights of mankind. We shall be satisfied when those rights have been made as secure as the faith and the </span>\n",
       "<span style=\"color: #008000; text-decoration-color: #008000\">freedom of nations can make them.'</span>\n",
       "<span style=\"font-weight: bold\">)</span>\n",
       "</pre>\n"
      ],
      "text/plain": [
       "\u001b[1;35mDocument\u001b[0m\u001b[1m(\u001b[0m\n",
       "    \u001b[33mmetadata\u001b[0m=\u001b[1m{\u001b[0m\u001b[1m}\u001b[0m,\n",
       "    \u001b[33mpage_content\u001b[0m=\u001b[32m'The world must be made safe for democracy. Its peace must be planted upon the tested foundations \u001b[0m\n",
       "\u001b[32mof political liberty. We have no selfish ends to serve. We desire no conquest, no dominion. We seek no indemnities \u001b[0m\n",
       "\u001b[32mfor ourselves, no material compensation for the sacrifices we shall freely make. We are but one of the champions of\u001b[0m\n",
       "\u001b[32mthe rights of mankind. We shall be satisfied when those rights have been made as secure as the faith and the \u001b[0m\n",
       "\u001b[32mfreedom of nations can make them.'\u001b[0m\n",
       "\u001b[1m)\u001b[0m\n"
      ]
     },
     "metadata": {},
     "output_type": "display_data"
    },
    {
     "data": {
      "text/html": [
       "<pre style=\"white-space:pre;overflow-x:auto;line-height:normal;font-family:Menlo,'DejaVu Sans Mono',consolas,'Courier New',monospace\"><span style=\"color: #800080; text-decoration-color: #800080; font-weight: bold\">Document</span><span style=\"font-weight: bold\">(</span>\n",
       "    <span style=\"color: #808000; text-decoration-color: #808000\">metadata</span>=<span style=\"font-weight: bold\">{}</span>,\n",
       "    <span style=\"color: #808000; text-decoration-color: #808000\">page_content</span>=<span style=\"color: #008000; text-decoration-color: #008000\">'Just because we fight without rancor and without selfish object, seeking nothing for ourselves </span>\n",
       "<span style=\"color: #008000; text-decoration-color: #008000\">but what we shall wish to share with all free peoples, we shall, I feel confident, conduct our operations as </span>\n",
       "<span style=\"color: #008000; text-decoration-color: #008000\">belligerents without passion and ourselves observe with proud punctilio the principles of right and of fair play we</span>\n",
       "<span style=\"color: #008000; text-decoration-color: #008000\">profess to be fighting for.'</span>\n",
       "<span style=\"font-weight: bold\">)</span>\n",
       "</pre>\n"
      ],
      "text/plain": [
       "\u001b[1;35mDocument\u001b[0m\u001b[1m(\u001b[0m\n",
       "    \u001b[33mmetadata\u001b[0m=\u001b[1m{\u001b[0m\u001b[1m}\u001b[0m,\n",
       "    \u001b[33mpage_content\u001b[0m=\u001b[32m'Just because we fight without rancor and without selfish object, seeking nothing for ourselves \u001b[0m\n",
       "\u001b[32mbut what we shall wish to share with all free peoples, we shall, I feel confident, conduct our operations as \u001b[0m\n",
       "\u001b[32mbelligerents without passion and ourselves observe with proud punctilio the principles of right and of fair play we\u001b[0m\n",
       "\u001b[32mprofess to be fighting for.'\u001b[0m\n",
       "\u001b[1m)\u001b[0m\n"
      ]
     },
     "metadata": {},
     "output_type": "display_data"
    }
   ],
   "source": [
    "speech=\"\"\n",
    "\n",
    "with open(\"../3.2-dataIngestion/speech.txt\", \"r\") as file:\n",
    "    speech=file.read()\n",
    "\n",
    "text_s=CharacterTextSplitter(chunk_size=200,chunk_overlap=50)\n",
    "text=text_s.create_documents([speech])\n",
    "\n",
    "print(text[0])\n",
    "print(text[1])\n"
   ]
  },
  {
   "cell_type": "code",
   "execution_count": null,
   "id": "0f867d84",
   "metadata": {},
   "outputs": [],
   "source": []
  }
 ],
 "metadata": {
  "kernelspec": {
   "display_name": "Python 3",
   "language": "python",
   "name": "python3"
  },
  "language_info": {
   "codemirror_mode": {
    "name": "ipython",
    "version": 3
   },
   "file_extension": ".py",
   "mimetype": "text/x-python",
   "name": "python",
   "nbconvert_exporter": "python",
   "pygments_lexer": "ipython3",
   "version": "3.10.0"
  }
 },
 "nbformat": 4,
 "nbformat_minor": 5
}
